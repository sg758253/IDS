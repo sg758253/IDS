{
  "nbformat": 4,
  "nbformat_minor": 0,
  "metadata": {
    "colab": {
      "name": "problem1_r.ipynb",
      "provenance": [],
      "authorship_tag": "ABX9TyNjbDyJ71FrwK1LuX8oTwp9",
      "include_colab_link": true
    },
    "kernelspec": {
      "name": "ir",
      "display_name": "R"
    },
    "language_info": {
      "name": "R"
    }
  },
  "cells": [
    {
      "cell_type": "markdown",
      "metadata": {
        "id": "view-in-github",
        "colab_type": "text"
      },
      "source": [
        "<a href=\"https://colab.research.google.com/github/sg758253/IDS/blob/main/HW4/problem1_r.ipynb\" target=\"_parent\"><img src=\"https://colab.research.google.com/assets/colab-badge.svg\" alt=\"Open In Colab\"/></a>"
      ]
    },
    {
      "cell_type": "code",
      "execution_count": 40,
      "metadata": {
        "id": "m6qxZupG-SJH",
        "outputId": "a4e8b272-25cc-4e01-b678-0433d7a91c56",
        "colab": {
          "base_uri": "https://localhost:8080/"
        }
      },
      "outputs": [
        {
          "output_type": "stream",
          "name": "stderr",
          "text": [
            "\n",
            "Attaching package: ‘dplyr’\n",
            "\n",
            "\n",
            "The following objects are masked from ‘package:stats’:\n",
            "\n",
            "    filter, lag\n",
            "\n",
            "\n",
            "The following objects are masked from ‘package:base’:\n",
            "\n",
            "    intersect, setdiff, setequal, union\n",
            "\n",
            "\n"
          ]
        }
      ],
      "source": [
        "#Import library\n",
        "library(readr)\n",
        "library(stringr)\n",
        "library(dplyr)"
      ]
    },
    {
      "cell_type": "code",
      "source": [
        "# read csv\n",
        "df <- read_csv(\"https://raw.githubusercontent.com/sg758253/IDS/main/HW4/adult_training.csv\")\n",
        "head(df)"
      ],
      "metadata": {
        "id": "orIkDjI3lKlB",
        "outputId": "3bd65d3f-7ad9-4495-ac63-fb3e146bcb5d",
        "colab": {
          "base_uri": "https://localhost:8080/",
          "height": 425
        }
      },
      "execution_count": 2,
      "outputs": [
        {
          "output_type": "stream",
          "name": "stderr",
          "text": [
            "\u001b[1mRows: \u001b[22m\u001b[34m14797\u001b[39m \u001b[1mColumns: \u001b[22m\u001b[34m9\u001b[39m\n",
            "\u001b[36m──\u001b[39m \u001b[1mColumn specification\u001b[22m \u001b[36m────────────────────────────────────────────────────────\u001b[39m\n",
            "\u001b[1mDelimiter:\u001b[22m \",\"\n",
            "\u001b[31mchr\u001b[39m (5): workclass, marital_status, occupation, sex, income\n",
            "\u001b[32mdbl\u001b[39m (4): age, education, capital_gain, capital_loss\n",
            "\n",
            "\u001b[36mℹ\u001b[39m Use `spec()` to retrieve the full column specification for this data.\n",
            "\u001b[36mℹ\u001b[39m Specify the column types or set `show_col_types = FALSE` to quiet this message.\n"
          ]
        },
        {
          "output_type": "display_data",
          "data": {
            "text/html": [
              "<table class=\"dataframe\">\n",
              "<caption>A tibble: 6 × 9</caption>\n",
              "<thead>\n",
              "\t<tr><th scope=col>age</th><th scope=col>workclass</th><th scope=col>education</th><th scope=col>marital_status</th><th scope=col>occupation</th><th scope=col>sex</th><th scope=col>capital_gain</th><th scope=col>capital_loss</th><th scope=col>income</th></tr>\n",
              "\t<tr><th scope=col>&lt;dbl&gt;</th><th scope=col>&lt;chr&gt;</th><th scope=col>&lt;dbl&gt;</th><th scope=col>&lt;chr&gt;</th><th scope=col>&lt;chr&gt;</th><th scope=col>&lt;chr&gt;</th><th scope=col>&lt;dbl&gt;</th><th scope=col>&lt;dbl&gt;</th><th scope=col>&lt;chr&gt;</th></tr>\n",
              "</thead>\n",
              "<tbody>\n",
              "\t<tr><td>50</td><td>Self-emp-not-inc</td><td>13</td><td><span style=white-space:pre-wrap>Married-civ-spouse   </span></td><td><span style=white-space:pre-wrap>Exec-managerial  </span></td><td><span style=white-space:pre-wrap>Male  </span></td><td><span style=white-space:pre-wrap>    0</span></td><td>0</td><td>&lt;=50K</td></tr>\n",
              "\t<tr><td>38</td><td><span style=white-space:pre-wrap>Private         </span></td><td> 9</td><td><span style=white-space:pre-wrap>Divorced             </span></td><td>Handlers-cleaners</td><td><span style=white-space:pre-wrap>Male  </span></td><td><span style=white-space:pre-wrap>    0</span></td><td>0</td><td>&lt;=50K</td></tr>\n",
              "\t<tr><td>49</td><td><span style=white-space:pre-wrap>Private         </span></td><td> 5</td><td>Married-spouse-absent</td><td><span style=white-space:pre-wrap>Other-service    </span></td><td>Female</td><td><span style=white-space:pre-wrap>    0</span></td><td>0</td><td>&lt;=50K</td></tr>\n",
              "\t<tr><td>52</td><td>Self-emp-not-inc</td><td> 9</td><td><span style=white-space:pre-wrap>Married-civ-spouse   </span></td><td><span style=white-space:pre-wrap>Exec-managerial  </span></td><td><span style=white-space:pre-wrap>Male  </span></td><td><span style=white-space:pre-wrap>    0</span></td><td>0</td><td>&gt;50K </td></tr>\n",
              "\t<tr><td>31</td><td><span style=white-space:pre-wrap>Private         </span></td><td>14</td><td><span style=white-space:pre-wrap>Never-married        </span></td><td><span style=white-space:pre-wrap>Prof-specialty   </span></td><td>Female</td><td>14084</td><td>0</td><td>&gt;50K </td></tr>\n",
              "\t<tr><td>40</td><td><span style=white-space:pre-wrap>Private         </span></td><td>11</td><td><span style=white-space:pre-wrap>Married-civ-spouse   </span></td><td><span style=white-space:pre-wrap>Craft-repair     </span></td><td><span style=white-space:pre-wrap>Male  </span></td><td><span style=white-space:pre-wrap>    0</span></td><td>0</td><td>&gt;50K </td></tr>\n",
              "</tbody>\n",
              "</table>\n"
            ],
            "text/markdown": "\nA tibble: 6 × 9\n\n| age &lt;dbl&gt; | workclass &lt;chr&gt; | education &lt;dbl&gt; | marital_status &lt;chr&gt; | occupation &lt;chr&gt; | sex &lt;chr&gt; | capital_gain &lt;dbl&gt; | capital_loss &lt;dbl&gt; | income &lt;chr&gt; |\n|---|---|---|---|---|---|---|---|---|\n| 50 | Self-emp-not-inc | 13 | Married-civ-spouse    | Exec-managerial   | Male   |     0 | 0 | &lt;=50K |\n| 38 | Private          |  9 | Divorced              | Handlers-cleaners | Male   |     0 | 0 | &lt;=50K |\n| 49 | Private          |  5 | Married-spouse-absent | Other-service     | Female |     0 | 0 | &lt;=50K |\n| 52 | Self-emp-not-inc |  9 | Married-civ-spouse    | Exec-managerial   | Male   |     0 | 0 | &gt;50K  |\n| 31 | Private          | 14 | Never-married         | Prof-specialty    | Female | 14084 | 0 | &gt;50K  |\n| 40 | Private          | 11 | Married-civ-spouse    | Craft-repair      | Male   |     0 | 0 | &gt;50K  |\n\n",
            "text/latex": "A tibble: 6 × 9\n\\begin{tabular}{lllllllll}\n age & workclass & education & marital\\_status & occupation & sex & capital\\_gain & capital\\_loss & income\\\\\n <dbl> & <chr> & <dbl> & <chr> & <chr> & <chr> & <dbl> & <dbl> & <chr>\\\\\n\\hline\n\t 50 & Self-emp-not-inc & 13 & Married-civ-spouse    & Exec-managerial   & Male   &     0 & 0 & <=50K\\\\\n\t 38 & Private          &  9 & Divorced              & Handlers-cleaners & Male   &     0 & 0 & <=50K\\\\\n\t 49 & Private          &  5 & Married-spouse-absent & Other-service     & Female &     0 & 0 & <=50K\\\\\n\t 52 & Self-emp-not-inc &  9 & Married-civ-spouse    & Exec-managerial   & Male   &     0 & 0 & >50K \\\\\n\t 31 & Private          & 14 & Never-married         & Prof-specialty    & Female & 14084 & 0 & >50K \\\\\n\t 40 & Private          & 11 & Married-civ-spouse    & Craft-repair      & Male   &     0 & 0 & >50K \\\\\n\\end{tabular}\n",
            "text/plain": [
              "  age workclass        education marital_status        occupation        sex   \n",
              "1 50  Self-emp-not-inc 13        Married-civ-spouse    Exec-managerial   Male  \n",
              "2 38  Private           9        Divorced              Handlers-cleaners Male  \n",
              "3 49  Private           5        Married-spouse-absent Other-service     Female\n",
              "4 52  Self-emp-not-inc  9        Married-civ-spouse    Exec-managerial   Male  \n",
              "5 31  Private          14        Never-married         Prof-specialty    Female\n",
              "6 40  Private          11        Married-civ-spouse    Craft-repair      Male  \n",
              "  capital_gain capital_loss income\n",
              "1     0        0            <=50K \n",
              "2     0        0            <=50K \n",
              "3     0        0            <=50K \n",
              "4     0        0            >50K  \n",
              "5 14084        0            >50K  \n",
              "6     0        0            >50K  "
            ]
          },
          "metadata": {}
        }
      ]
    },
    {
      "cell_type": "code",
      "source": [
        "# column names\n",
        "colnames(df)"
      ],
      "metadata": {
        "id": "CVdN1Oj7pnrG",
        "outputId": "ea76edc0-1b95-4580-fd80-99fcb6c6d02a",
        "colab": {
          "base_uri": "https://localhost:8080/",
          "height": 34
        }
      },
      "execution_count": 3,
      "outputs": [
        {
          "output_type": "display_data",
          "data": {
            "text/html": [
              "<style>\n",
              ".list-inline {list-style: none; margin:0; padding: 0}\n",
              ".list-inline>li {display: inline-block}\n",
              ".list-inline>li:not(:last-child)::after {content: \"\\00b7\"; padding: 0 .5ex}\n",
              "</style>\n",
              "<ol class=list-inline><li>'age'</li><li>'workclass'</li><li>'education'</li><li>'marital_status'</li><li>'occupation'</li><li>'sex'</li><li>'capital_gain'</li><li>'capital_loss'</li><li>'income'</li></ol>\n"
            ],
            "text/markdown": "1. 'age'\n2. 'workclass'\n3. 'education'\n4. 'marital_status'\n5. 'occupation'\n6. 'sex'\n7. 'capital_gain'\n8. 'capital_loss'\n9. 'income'\n\n\n",
            "text/latex": "\\begin{enumerate*}\n\\item 'age'\n\\item 'workclass'\n\\item 'education'\n\\item 'marital\\_status'\n\\item 'occupation'\n\\item 'sex'\n\\item 'capital\\_gain'\n\\item 'capital\\_loss'\n\\item 'income'\n\\end{enumerate*}\n",
            "text/plain": [
              "[1] \"age\"            \"workclass\"      \"education\"      \"marital_status\"\n",
              "[5] \"occupation\"     \"sex\"            \"capital_gain\"   \"capital_loss\"  \n",
              "[9] \"income\"        "
            ]
          },
          "metadata": {}
        }
      ]
    },
    {
      "cell_type": "code",
      "source": [
        "# replacing ? with most comon values\n",
        "df$workclass = str_replace(df$workclass,\"\\\\?\",\"Private\")\n",
        "df$occupation = str_replace(df$occupation,\"\\\\?\",\"Prof-specialty\")"
      ],
      "metadata": {
        "id": "Lyw8Rc8vlcLj"
      },
      "execution_count": 4,
      "outputs": []
    },
    {
      "cell_type": "code",
      "source": [
        "# checki null values\n",
        "sum(is.na(df))"
      ],
      "metadata": {
        "id": "RBeStZIOl7kl",
        "outputId": "d8d5d3a1-5d05-4f34-b075-5f458bcfe7ae",
        "colab": {
          "base_uri": "https://localhost:8080/",
          "height": 34
        }
      },
      "execution_count": 5,
      "outputs": [
        {
          "output_type": "display_data",
          "data": {
            "text/html": [
              "0"
            ],
            "text/markdown": "0",
            "text/latex": "0",
            "text/plain": [
              "[1] 0"
            ]
          },
          "metadata": {}
        }
      ]
    },
    {
      "cell_type": "code",
      "source": [
        "# summary of dataset\n",
        "summary(df)"
      ],
      "metadata": {
        "id": "5mo29uI8ogn-",
        "outputId": "ebc0d0d3-379f-45c0-f3dc-4d97a8ba5f2f",
        "colab": {
          "base_uri": "https://localhost:8080/",
          "height": 382
        }
      },
      "execution_count": 6,
      "outputs": [
        {
          "output_type": "display_data",
          "data": {
            "text/plain": [
              "      age         workclass           education     marital_status    \n",
              " Min.   :17.00   Length:14797       Min.   : 1.00   Length:14797      \n",
              " 1st Qu.:28.00   Class :character   1st Qu.: 9.00   Class :character  \n",
              " Median :37.00   Mode  :character   Median :10.00   Mode  :character  \n",
              " Mean   :38.69                      Mean   :10.07                     \n",
              " 3rd Qu.:48.00                      3rd Qu.:12.00                     \n",
              " Max.   :90.00                      Max.   :16.00                     \n",
              "  occupation            sex             capital_gain    capital_loss    \n",
              " Length:14797       Length:14797       Min.   :    0   Min.   :   0.00  \n",
              " Class :character   Class :character   1st Qu.:    0   1st Qu.:   0.00  \n",
              " Mode  :character   Mode  :character   Median :    0   Median :   0.00  \n",
              "                                       Mean   : 1067   Mean   :  88.58  \n",
              "                                       3rd Qu.:    0   3rd Qu.:   0.00  \n",
              "                                       Max.   :99999   Max.   :4356.00  \n",
              "    income         \n",
              " Length:14797      \n",
              " Class :character  \n",
              " Mode  :character  \n",
              "                   \n",
              "                   \n",
              "                   "
            ]
          },
          "metadata": {}
        }
      ]
    },
    {
      "cell_type": "markdown",
      "source": [
        "# 2. Create a contingency table of workclass and sex, and plot it."
      ],
      "metadata": {
        "id": "Vl9VevYopCXP"
      }
    },
    {
      "cell_type": "code",
      "source": [
        "# contingency table for workclass and sex.\n",
        "df_ct1 <- table(df$sex,df$workclass)\n",
        "df_ct1"
      ],
      "metadata": {
        "id": "0hkS-dVqoqTe",
        "outputId": "58cec4fd-5b39-45a9-c307-ba85bcab0d48",
        "colab": {
          "base_uri": "https://localhost:8080/",
          "height": 156
        }
      },
      "execution_count": 7,
      "outputs": [
        {
          "output_type": "display_data",
          "data": {
            "text/plain": [
              "        \n",
              "         Federal-gov Local-gov Never-worked Private Self-emp-inc\n",
              "  Female         149       377            1    3951           54\n",
              "  Male           305       592            4    7159          444\n",
              "        \n",
              "         Self-emp-not-inc State-gov Without-pay\n",
              "  Female              178       201           1\n",
              "  Male                992       385           4"
            ]
          },
          "metadata": {}
        }
      ]
    },
    {
      "cell_type": "code",
      "source": [
        "# contingency plot workclass and sex.\n",
        "colors <- c(\"green\", \"blue\")\n",
        "barplot(df_ct1, col = colors, beside = TRUE)\n",
        "legend(\"topright\", legend = c(\"Female\", \"Male\"), fill = colors)"
      ],
      "metadata": {
        "id": "Ni7dPkl9pK3Z",
        "outputId": "858cadb5-61e0-490a-cc9d-6997b79fd1ca",
        "colab": {
          "base_uri": "https://localhost:8080/",
          "height": 437
        }
      },
      "execution_count": 8,
      "outputs": [
        {
          "output_type": "display_data",
          "data": {
            "text/plain": [
              "plot without title"
            ],
            "image/png": "[encoded data removed]"
          },
          "metadata": {
            "image/png": {
              "width": 420,
              "height": 420
            }
          }
        }
      ]
    },
    {
      "cell_type": "markdown",
      "source": [
        "#3.Create a contingency table of sex and marital status, and plot it."
      ],
      "metadata": {
        "id": "PXMGCCtQdueg"
      }
    },
    {
      "cell_type": "code",
      "source": [
        "# contingency table of marital status and sex.\n",
        "df_ct2 <- table(df$sex,df$marital_status)\n",
        "df_ct2"
      ],
      "metadata": {
        "id": "Ux1VdQVdpcRm",
        "outputId": "e2efc679-0760-4f9a-a7f2-5f84d3dce121",
        "colab": {
          "base_uri": "https://localhost:8080/",
          "height": 156
        }
      },
      "execution_count": 9,
      "outputs": [
        {
          "output_type": "display_data",
          "data": {
            "text/plain": [
              "        \n",
              "         Divorced Married-AF-spouse Married-civ-spouse Married-spouse-absent\n",
              "  Female     1219                 7                761                    95\n",
              "  Male        795                 4               6010                   104\n",
              "        \n",
              "         Never-married Separated Widowed\n",
              "  Female          2160       290     380\n",
              "  Male            2717       182      73"
            ]
          },
          "metadata": {}
        }
      ]
    },
    {
      "cell_type": "code",
      "source": [
        "# contingency plot for workclass and sex.\n",
        "colors <- c(\"red\", \"blue\")\n",
        "barplot(df_ct2, col = colors, beside = TRUE)\n",
        "legend(\"topright\", legend = c(\"Female\", \"Male\"), fill = colors)"
      ],
      "metadata": {
        "id": "0ND6yhSUqYpV",
        "outputId": "c213a92e-d592-4669-84ff-6e7491096eb1",
        "colab": {
          "base_uri": "https://localhost:8080/",
          "height": 437
        }
      },
      "execution_count": 10,
      "outputs": [
        {
          "output_type": "display_data",
          "data": {
            "text/plain": [
              "plot without title"
            ],
            "image/png": "[encoded data removed]"
          },
          "metadata": {
            "image/png": {
              "width": 420,
              "height": 420
            }
          }
        }
      ]
    },
    {
      "cell_type": "markdown",
      "source": [
        "Married-spouse has the highest number of workers, while male ratio is higher than female."
      ],
      "metadata": {
        "id": "1rqK4PM6d7jK"
      }
    },
    {
      "cell_type": "markdown",
      "source": [
        "# 4. Create a new data frame, adultOver40, for those whose age > 40."
      ],
      "metadata": {
        "id": "pSWE2pk9d-Yp"
      }
    },
    {
      "cell_type": "code",
      "source": [
        "# creating new dataframe for age>40\n",
        "df_adultOver40<- subset(df,age>40)\n",
        "head(df_adultOver40,10)"
      ],
      "metadata": {
        "id": "CqMTjppzqpw6",
        "outputId": "c345b2b0-8c1e-4804-f9b0-0f0ca7ae82b4",
        "colab": {
          "base_uri": "https://localhost:8080/",
          "height": 412
        }
      },
      "execution_count": 11,
      "outputs": [
        {
          "output_type": "display_data",
          "data": {
            "text/html": [
              "<table class=\"dataframe\">\n",
              "<caption>A tibble: 10 × 9</caption>\n",
              "<thead>\n",
              "\t<tr><th scope=col>age</th><th scope=col>workclass</th><th scope=col>education</th><th scope=col>marital_status</th><th scope=col>occupation</th><th scope=col>sex</th><th scope=col>capital_gain</th><th scope=col>capital_loss</th><th scope=col>income</th></tr>\n",
              "\t<tr><th scope=col>&lt;dbl&gt;</th><th scope=col>&lt;chr&gt;</th><th scope=col>&lt;dbl&gt;</th><th scope=col>&lt;chr&gt;</th><th scope=col>&lt;chr&gt;</th><th scope=col>&lt;chr&gt;</th><th scope=col>&lt;dbl&gt;</th><th scope=col>&lt;dbl&gt;</th><th scope=col>&lt;chr&gt;</th></tr>\n",
              "</thead>\n",
              "<tbody>\n",
              "\t<tr><td>50</td><td>Self-emp-not-inc</td><td>13</td><td><span style=white-space:pre-wrap>Married-civ-spouse   </span></td><td>Exec-managerial </td><td><span style=white-space:pre-wrap>Male  </span></td><td>0</td><td><span style=white-space:pre-wrap>   0</span></td><td>&lt;=50K</td></tr>\n",
              "\t<tr><td>49</td><td><span style=white-space:pre-wrap>Private         </span></td><td> 5</td><td>Married-spouse-absent</td><td><span style=white-space:pre-wrap>Other-service   </span></td><td>Female</td><td>0</td><td><span style=white-space:pre-wrap>   0</span></td><td>&lt;=50K</td></tr>\n",
              "\t<tr><td>52</td><td>Self-emp-not-inc</td><td> 9</td><td><span style=white-space:pre-wrap>Married-civ-spouse   </span></td><td>Exec-managerial </td><td><span style=white-space:pre-wrap>Male  </span></td><td>0</td><td><span style=white-space:pre-wrap>   0</span></td><td>&gt;50K </td></tr>\n",
              "\t<tr><td>43</td><td><span style=white-space:pre-wrap>Private         </span></td><td> 7</td><td><span style=white-space:pre-wrap>Married-civ-spouse   </span></td><td>Transport-moving</td><td><span style=white-space:pre-wrap>Male  </span></td><td>0</td><td>2042</td><td>&lt;=50K</td></tr>\n",
              "\t<tr><td>54</td><td><span style=white-space:pre-wrap>Private         </span></td><td>10</td><td><span style=white-space:pre-wrap>Married-civ-spouse   </span></td><td><span style=white-space:pre-wrap>Prof-specialty  </span></td><td><span style=white-space:pre-wrap>Male  </span></td><td>0</td><td><span style=white-space:pre-wrap>   0</span></td><td>&gt;50K </td></tr>\n",
              "\t<tr><td>44</td><td><span style=white-space:pre-wrap>Private         </span></td><td>14</td><td><span style=white-space:pre-wrap>Divorced             </span></td><td>Exec-managerial </td><td>Female</td><td>0</td><td><span style=white-space:pre-wrap>   0</span></td><td>&lt;=50K</td></tr>\n",
              "\t<tr><td>50</td><td><span style=white-space:pre-wrap>Federal-gov     </span></td><td>13</td><td><span style=white-space:pre-wrap>Divorced             </span></td><td>Exec-managerial </td><td><span style=white-space:pre-wrap>Male  </span></td><td>0</td><td><span style=white-space:pre-wrap>   0</span></td><td>&gt;50K </td></tr>\n",
              "\t<tr><td>47</td><td><span style=white-space:pre-wrap>Self-emp-inc    </span></td><td> 9</td><td><span style=white-space:pre-wrap>Divorced             </span></td><td>Exec-managerial </td><td><span style=white-space:pre-wrap>Male  </span></td><td>0</td><td><span style=white-space:pre-wrap>   0</span></td><td>&lt;=50K</td></tr>\n",
              "\t<tr><td>43</td><td><span style=white-space:pre-wrap>Private         </span></td><td>10</td><td><span style=white-space:pre-wrap>Married-civ-spouse   </span></td><td><span style=white-space:pre-wrap>Tech-support    </span></td><td><span style=white-space:pre-wrap>Male  </span></td><td>0</td><td><span style=white-space:pre-wrap>   0</span></td><td>&gt;50K </td></tr>\n",
              "\t<tr><td>53</td><td><span style=white-space:pre-wrap>Private         </span></td><td> 9</td><td><span style=white-space:pre-wrap>Married-civ-spouse   </span></td><td><span style=white-space:pre-wrap>Adm-clerical    </span></td><td>Female</td><td>0</td><td><span style=white-space:pre-wrap>   0</span></td><td>&gt;50K </td></tr>\n",
              "</tbody>\n",
              "</table>\n"
            ],
            "text/markdown": "\nA tibble: 10 × 9\n\n| age &lt;dbl&gt; | workclass &lt;chr&gt; | education &lt;dbl&gt; | marital_status &lt;chr&gt; | occupation &lt;chr&gt; | sex &lt;chr&gt; | capital_gain &lt;dbl&gt; | capital_loss &lt;dbl&gt; | income &lt;chr&gt; |\n|---|---|---|---|---|---|---|---|---|\n| 50 | Self-emp-not-inc | 13 | Married-civ-spouse    | Exec-managerial  | Male   | 0 |    0 | &lt;=50K |\n| 49 | Private          |  5 | Married-spouse-absent | Other-service    | Female | 0 |    0 | &lt;=50K |\n| 52 | Self-emp-not-inc |  9 | Married-civ-spouse    | Exec-managerial  | Male   | 0 |    0 | &gt;50K  |\n| 43 | Private          |  7 | Married-civ-spouse    | Transport-moving | Male   | 0 | 2042 | &lt;=50K |\n| 54 | Private          | 10 | Married-civ-spouse    | Prof-specialty   | Male   | 0 |    0 | &gt;50K  |\n| 44 | Private          | 14 | Divorced              | Exec-managerial  | Female | 0 |    0 | &lt;=50K |\n| 50 | Federal-gov      | 13 | Divorced              | Exec-managerial  | Male   | 0 |    0 | &gt;50K  |\n| 47 | Self-emp-inc     |  9 | Divorced              | Exec-managerial  | Male   | 0 |    0 | &lt;=50K |\n| 43 | Private          | 10 | Married-civ-spouse    | Tech-support     | Male   | 0 |    0 | &gt;50K  |\n| 53 | Private          |  9 | Married-civ-spouse    | Adm-clerical     | Female | 0 |    0 | &gt;50K  |\n\n",
            "text/latex": "A tibble: 10 × 9\n\\begin{tabular}{lllllllll}\n age & workclass & education & marital\\_status & occupation & sex & capital\\_gain & capital\\_loss & income\\\\\n <dbl> & <chr> & <dbl> & <chr> & <chr> & <chr> & <dbl> & <dbl> & <chr>\\\\\n\\hline\n\t 50 & Self-emp-not-inc & 13 & Married-civ-spouse    & Exec-managerial  & Male   & 0 &    0 & <=50K\\\\\n\t 49 & Private          &  5 & Married-spouse-absent & Other-service    & Female & 0 &    0 & <=50K\\\\\n\t 52 & Self-emp-not-inc &  9 & Married-civ-spouse    & Exec-managerial  & Male   & 0 &    0 & >50K \\\\\n\t 43 & Private          &  7 & Married-civ-spouse    & Transport-moving & Male   & 0 & 2042 & <=50K\\\\\n\t 54 & Private          & 10 & Married-civ-spouse    & Prof-specialty   & Male   & 0 &    0 & >50K \\\\\n\t 44 & Private          & 14 & Divorced              & Exec-managerial  & Female & 0 &    0 & <=50K\\\\\n\t 50 & Federal-gov      & 13 & Divorced              & Exec-managerial  & Male   & 0 &    0 & >50K \\\\\n\t 47 & Self-emp-inc     &  9 & Divorced              & Exec-managerial  & Male   & 0 &    0 & <=50K\\\\\n\t 43 & Private          & 10 & Married-civ-spouse    & Tech-support     & Male   & 0 &    0 & >50K \\\\\n\t 53 & Private          &  9 & Married-civ-spouse    & Adm-clerical     & Female & 0 &    0 & >50K \\\\\n\\end{tabular}\n",
            "text/plain": [
              "   age workclass        education marital_status        occupation       sex   \n",
              "1  50  Self-emp-not-inc 13        Married-civ-spouse    Exec-managerial  Male  \n",
              "2  49  Private           5        Married-spouse-absent Other-service    Female\n",
              "3  52  Self-emp-not-inc  9        Married-civ-spouse    Exec-managerial  Male  \n",
              "4  43  Private           7        Married-civ-spouse    Transport-moving Male  \n",
              "5  54  Private          10        Married-civ-spouse    Prof-specialty   Male  \n",
              "6  44  Private          14        Divorced              Exec-managerial  Female\n",
              "7  50  Federal-gov      13        Divorced              Exec-managerial  Male  \n",
              "8  47  Self-emp-inc      9        Divorced              Exec-managerial  Male  \n",
              "9  43  Private          10        Married-civ-spouse    Tech-support     Male  \n",
              "10 53  Private           9        Married-civ-spouse    Adm-clerical     Female\n",
              "   capital_gain capital_loss income\n",
              "1  0               0         <=50K \n",
              "2  0               0         <=50K \n",
              "3  0               0         >50K  \n",
              "4  0            2042         <=50K \n",
              "5  0               0         >50K  \n",
              "6  0               0         <=50K \n",
              "7  0               0         >50K  \n",
              "8  0               0         <=50K \n",
              "9  0               0         >50K  \n",
              "10 0               0         >50K  "
            ]
          },
          "metadata": {}
        }
      ]
    },
    {
      "cell_type": "markdown",
      "source": [
        "# 5. Recreate the contingency table of sex and marital status for adultOver40."
      ],
      "metadata": {
        "id": "QX9RMk7TeHlU"
      }
    },
    {
      "cell_type": "code",
      "source": [
        "# contingency table of marital status and sex.\n",
        "df_ct3 <- table(df$sex,df$marital_status)\n",
        "df_ct3"
      ],
      "metadata": {
        "id": "0XiyPrtCrKCU",
        "outputId": "c0230e60-5bf0-4605-918b-b9113577ff0f",
        "colab": {
          "base_uri": "https://localhost:8080/",
          "height": 156
        }
      },
      "execution_count": 12,
      "outputs": [
        {
          "output_type": "display_data",
          "data": {
            "text/plain": [
              "        \n",
              "         Divorced Married-AF-spouse Married-civ-spouse Married-spouse-absent\n",
              "  Female     1219                 7                761                    95\n",
              "  Male        795                 4               6010                   104\n",
              "        \n",
              "         Never-married Separated Widowed\n",
              "  Female          2160       290     380\n",
              "  Male            2717       182      73"
            ]
          },
          "metadata": {}
        }
      ]
    },
    {
      "cell_type": "code",
      "source": [
        "# contingency plot for workclass and sex.\n",
        "colors <- c(\"red\", \"blue\")\n",
        "barplot(df_ct3, col = colors, beside = TRUE)\n",
        "legend(\"topright\", legend = c(\"Female\", \"Male\"), fill = colors)"
      ],
      "metadata": {
        "id": "WUk0g4YCrYA5",
        "outputId": "5c260a61-b7ab-4736-b59c-d0453d10df9e",
        "colab": {
          "base_uri": "https://localhost:8080/",
          "height": 437
        }
      },
      "execution_count": 13,
      "outputs": [
        {
          "output_type": "display_data",
          "data": {
            "text/plain": [
              "plot without title"
            ],
            "image/png": "[encoded data removed]"
          },
          "metadata": {
            "image/png": {
              "width": 420,
              "height": 420
            }
          }
        }
      ]
    },
    {
      "cell_type": "markdown",
      "source": [
        "# 6. Determine whether any outliers exist for the education field."
      ],
      "metadata": {
        "id": "9uk2fUCcePrM"
      }
    },
    {
      "cell_type": "code",
      "source": [
        "boxplot(df$education,ylab = \"education\",main = \"Boxplot\",horizontal = TRUE)"
      ],
      "metadata": {
        "id": "kCKBX2aurb90",
        "outputId": "388e517e-59e8-4bc2-d06b-6f711d848583",
        "colab": {
          "base_uri": "https://localhost:8080/",
          "height": 437
        }
      },
      "execution_count": 14,
      "outputs": [
        {
          "output_type": "display_data",
          "data": {
            "text/plain": [
              "Plot with title “Boxplot”"
            ],
            "image/png": "[encoded data removed]"
          },
          "metadata": {
            "image/png": {
              "width": 420,
              "height": 420
            }
          }
        }
      ]
    },
    {
      "cell_type": "code",
      "source": [
        "mean = mean(df$education)\n",
        "std = sd(df$education)\n",
        "df['education1'] = (df$education-mean)/std\n",
        "head(df)"
      ],
      "metadata": {
        "id": "f0Y2Z_NSe-tQ",
        "outputId": "e3a90425-1cb0-4231-af18-4de8c126b08f",
        "colab": {
          "base_uri": "https://localhost:8080/",
          "height": 286
        }
      },
      "execution_count": 20,
      "outputs": [
        {
          "output_type": "display_data",
          "data": {
            "text/html": [
              "<table class=\"dataframe\">\n",
              "<caption>A tibble: 6 × 10</caption>\n",
              "<thead>\n",
              "\t<tr><th scope=col>age</th><th scope=col>workclass</th><th scope=col>education</th><th scope=col>marital_status</th><th scope=col>occupation</th><th scope=col>sex</th><th scope=col>capital_gain</th><th scope=col>capital_loss</th><th scope=col>income</th><th scope=col>education1</th></tr>\n",
              "\t<tr><th scope=col>&lt;dbl&gt;</th><th scope=col>&lt;chr&gt;</th><th scope=col>&lt;dbl&gt;</th><th scope=col>&lt;chr&gt;</th><th scope=col>&lt;chr&gt;</th><th scope=col>&lt;chr&gt;</th><th scope=col>&lt;dbl&gt;</th><th scope=col>&lt;dbl&gt;</th><th scope=col>&lt;chr&gt;</th><th scope=col>&lt;dbl&gt;</th></tr>\n",
              "</thead>\n",
              "<tbody>\n",
              "\t<tr><td>50</td><td>Self-emp-not-inc</td><td>13</td><td><span style=white-space:pre-wrap>Married-civ-spouse   </span></td><td><span style=white-space:pre-wrap>Exec-managerial  </span></td><td><span style=white-space:pre-wrap>Male  </span></td><td><span style=white-space:pre-wrap>    0</span></td><td>0</td><td>&lt;=50K</td><td> 1.1281245</td></tr>\n",
              "\t<tr><td>38</td><td><span style=white-space:pre-wrap>Private         </span></td><td> 9</td><td><span style=white-space:pre-wrap>Divorced             </span></td><td>Handlers-cleaners</td><td><span style=white-space:pre-wrap>Male  </span></td><td><span style=white-space:pre-wrap>    0</span></td><td>0</td><td>&lt;=50K</td><td>-0.4113455</td></tr>\n",
              "\t<tr><td>49</td><td><span style=white-space:pre-wrap>Private         </span></td><td> 5</td><td>Married-spouse-absent</td><td><span style=white-space:pre-wrap>Other-service    </span></td><td>Female</td><td><span style=white-space:pre-wrap>    0</span></td><td>0</td><td>&lt;=50K</td><td>-1.9508155</td></tr>\n",
              "\t<tr><td>52</td><td>Self-emp-not-inc</td><td> 9</td><td><span style=white-space:pre-wrap>Married-civ-spouse   </span></td><td><span style=white-space:pre-wrap>Exec-managerial  </span></td><td><span style=white-space:pre-wrap>Male  </span></td><td><span style=white-space:pre-wrap>    0</span></td><td>0</td><td>&gt;50K </td><td>-0.4113455</td></tr>\n",
              "\t<tr><td>31</td><td><span style=white-space:pre-wrap>Private         </span></td><td>14</td><td><span style=white-space:pre-wrap>Never-married        </span></td><td><span style=white-space:pre-wrap>Prof-specialty   </span></td><td>Female</td><td>14084</td><td>0</td><td>&gt;50K </td><td> 1.5129920</td></tr>\n",
              "\t<tr><td>40</td><td><span style=white-space:pre-wrap>Private         </span></td><td>11</td><td><span style=white-space:pre-wrap>Married-civ-spouse   </span></td><td><span style=white-space:pre-wrap>Craft-repair     </span></td><td><span style=white-space:pre-wrap>Male  </span></td><td><span style=white-space:pre-wrap>    0</span></td><td>0</td><td>&gt;50K </td><td> 0.3583895</td></tr>\n",
              "</tbody>\n",
              "</table>\n"
            ],
            "text/markdown": "\nA tibble: 6 × 10\n\n| age &lt;dbl&gt; | workclass &lt;chr&gt; | education &lt;dbl&gt; | marital_status &lt;chr&gt; | occupation &lt;chr&gt; | sex &lt;chr&gt; | capital_gain &lt;dbl&gt; | capital_loss &lt;dbl&gt; | income &lt;chr&gt; | education1 &lt;dbl&gt; |\n|---|---|---|---|---|---|---|---|---|---|\n| 50 | Self-emp-not-inc | 13 | Married-civ-spouse    | Exec-managerial   | Male   |     0 | 0 | &lt;=50K |  1.1281245 |\n| 38 | Private          |  9 | Divorced              | Handlers-cleaners | Male   |     0 | 0 | &lt;=50K | -0.4113455 |\n| 49 | Private          |  5 | Married-spouse-absent | Other-service     | Female |     0 | 0 | &lt;=50K | -1.9508155 |\n| 52 | Self-emp-not-inc |  9 | Married-civ-spouse    | Exec-managerial   | Male   |     0 | 0 | &gt;50K  | -0.4113455 |\n| 31 | Private          | 14 | Never-married         | Prof-specialty    | Female | 14084 | 0 | &gt;50K  |  1.5129920 |\n| 40 | Private          | 11 | Married-civ-spouse    | Craft-repair      | Male   |     0 | 0 | &gt;50K  |  0.3583895 |\n\n",
            "text/latex": "A tibble: 6 × 10\n\\begin{tabular}{llllllllll}\n age & workclass & education & marital\\_status & occupation & sex & capital\\_gain & capital\\_loss & income & education1\\\\\n <dbl> & <chr> & <dbl> & <chr> & <chr> & <chr> & <dbl> & <dbl> & <chr> & <dbl>\\\\\n\\hline\n\t 50 & Self-emp-not-inc & 13 & Married-civ-spouse    & Exec-managerial   & Male   &     0 & 0 & <=50K &  1.1281245\\\\\n\t 38 & Private          &  9 & Divorced              & Handlers-cleaners & Male   &     0 & 0 & <=50K & -0.4113455\\\\\n\t 49 & Private          &  5 & Married-spouse-absent & Other-service     & Female &     0 & 0 & <=50K & -1.9508155\\\\\n\t 52 & Self-emp-not-inc &  9 & Married-civ-spouse    & Exec-managerial   & Male   &     0 & 0 & >50K  & -0.4113455\\\\\n\t 31 & Private          & 14 & Never-married         & Prof-specialty    & Female & 14084 & 0 & >50K  &  1.5129920\\\\\n\t 40 & Private          & 11 & Married-civ-spouse    & Craft-repair      & Male   &     0 & 0 & >50K  &  0.3583895\\\\\n\\end{tabular}\n",
            "text/plain": [
              "  age workclass        education marital_status        occupation        sex   \n",
              "1 50  Self-emp-not-inc 13        Married-civ-spouse    Exec-managerial   Male  \n",
              "2 38  Private           9        Divorced              Handlers-cleaners Male  \n",
              "3 49  Private           5        Married-spouse-absent Other-service     Female\n",
              "4 52  Self-emp-not-inc  9        Married-civ-spouse    Exec-managerial   Male  \n",
              "5 31  Private          14        Never-married         Prof-specialty    Female\n",
              "6 40  Private          11        Married-civ-spouse    Craft-repair      Male  \n",
              "  capital_gain capital_loss income education1\n",
              "1     0        0            <=50K   1.1281245\n",
              "2     0        0            <=50K  -0.4113455\n",
              "3     0        0            <=50K  -1.9508155\n",
              "4     0        0            >50K   -0.4113455\n",
              "5 14084        0            >50K    1.5129920\n",
              "6     0        0            >50K    0.3583895"
            ]
          },
          "metadata": {}
        }
      ]
    },
    {
      "cell_type": "code",
      "source": [
        "# finding upper and lower bound\n",
        "q1 <- quantile(df$education1,0.25)\n",
        "q3 <- quantile(df$education1,0.75)\n",
        "IQR <- q3-q1\n",
        "lower_bound<-q1-(1.5 * IQR)\n",
        "upper_bound<-q3 +(1.5 * IQR)\n",
        "print(lower_bound)\n",
        "print(upper_bound)"
      ],
      "metadata": {
        "id": "5Ne2nkaKenrf",
        "outputId": "268e920b-0cda-4528-f1cf-19dec61e145a",
        "colab": {
          "base_uri": "https://localhost:8080/"
        }
      },
      "execution_count": 48,
      "outputs": [
        {
          "output_type": "stream",
          "name": "stdout",
          "text": [
            "      25% \n",
            "-2.143249 \n",
            "     75% \n",
            "2.475161 \n"
          ]
        }
      ]
    },
    {
      "cell_type": "code",
      "source": [
        "df_edu <- df[(df$education1<lower_bound) | (df$education1> upper_bound),]\n",
        "count(df_edu)"
      ],
      "metadata": {
        "id": "O5-hbdZwf4JG",
        "outputId": "82ca8702-3a69-48f7-f05c-790dcfc05bf1",
        "colab": {
          "base_uri": "https://localhost:8080/",
          "height": 147
        }
      },
      "execution_count": 49,
      "outputs": [
        {
          "output_type": "display_data",
          "data": {
            "text/html": [
              "<table class=\"dataframe\">\n",
              "<caption>A tibble: 1 × 1</caption>\n",
              "<thead>\n",
              "\t<tr><th scope=col>n</th></tr>\n",
              "\t<tr><th scope=col>&lt;int&gt;</th></tr>\n",
              "</thead>\n",
              "<tbody>\n",
              "\t<tr><td>552</td></tr>\n",
              "</tbody>\n",
              "</table>\n"
            ],
            "text/markdown": "\nA tibble: 1 × 1\n\n| n &lt;int&gt; |\n|---|\n| 552 |\n\n",
            "text/latex": "A tibble: 1 × 1\n\\begin{tabular}{l}\n n\\\\\n <int>\\\\\n\\hline\n\t 552\\\\\n\\end{tabular}\n",
            "text/plain": [
              "  n  \n",
              "1 552"
            ]
          },
          "metadata": {}
        }
      ]
    },
    {
      "cell_type": "markdown",
      "source": [
        "Result shows that there are 552 outliers in dataset."
      ],
      "metadata": {
        "id": "ah5k97PMhAXH"
      }
    },
    {
      "cell_type": "markdown",
      "source": [
        "# 7. Standardize (zero mean) the age variable, and identify how many outliers there are. What is the most extreme outlier?"
      ],
      "metadata": {
        "id": "WOQExllrf4xI"
      }
    },
    {
      "cell_type": "code",
      "source": [
        "boxplot(df$age,ylab = \"age\",main = \"Boxplot\",horizontal = TRUE)"
      ],
      "metadata": {
        "id": "0TW00Wfmit7Y",
        "outputId": "818a4b4e-4290-4fde-ee46-f108d0f0d40e",
        "colab": {
          "base_uri": "https://localhost:8080/",
          "height": 437
        }
      },
      "execution_count": 50,
      "outputs": [
        {
          "output_type": "display_data",
          "data": {
            "text/plain": [
              "Plot with title “Boxplot”"
            ],
            "image/png": "[encoded data removed]"
          },
          "metadata": {
            "image/png": {
              "width": 420,
              "height": 420
            }
          }
        }
      ]
    },
    {
      "cell_type": "code",
      "source": [
        "mean = mean(df$age)\n",
        "std = sd(df$age)\n",
        "df['age1'] = (df$age-mean)/std\n",
        "head(df)"
      ],
      "metadata": {
        "id": "hn1DfttVi3Ms",
        "outputId": "b706c2d3-bf12-4dd2-b641-3d5b85a7805a",
        "colab": {
          "base_uri": "https://localhost:8080/",
          "height": 286
        }
      },
      "execution_count": 51,
      "outputs": [
        {
          "output_type": "display_data",
          "data": {
            "text/html": [
              "<table class=\"dataframe\">\n",
              "<caption>A tibble: 6 × 11</caption>\n",
              "<thead>\n",
              "\t<tr><th scope=col>age</th><th scope=col>workclass</th><th scope=col>education</th><th scope=col>marital_status</th><th scope=col>occupation</th><th scope=col>sex</th><th scope=col>capital_gain</th><th scope=col>capital_loss</th><th scope=col>income</th><th scope=col>education1</th><th scope=col>age1</th></tr>\n",
              "\t<tr><th scope=col>&lt;dbl&gt;</th><th scope=col>&lt;chr&gt;</th><th scope=col>&lt;dbl&gt;</th><th scope=col>&lt;chr&gt;</th><th scope=col>&lt;chr&gt;</th><th scope=col>&lt;chr&gt;</th><th scope=col>&lt;dbl&gt;</th><th scope=col>&lt;dbl&gt;</th><th scope=col>&lt;chr&gt;</th><th scope=col>&lt;dbl&gt;</th><th scope=col>&lt;dbl&gt;</th></tr>\n",
              "</thead>\n",
              "<tbody>\n",
              "\t<tr><td>50</td><td>Self-emp-not-inc</td><td>13</td><td><span style=white-space:pre-wrap>Married-civ-spouse   </span></td><td><span style=white-space:pre-wrap>Exec-managerial  </span></td><td><span style=white-space:pre-wrap>Male  </span></td><td><span style=white-space:pre-wrap>    0</span></td><td>0</td><td>&lt;=50K</td><td> 1.1281245</td><td> 0.82700980</td></tr>\n",
              "\t<tr><td>38</td><td><span style=white-space:pre-wrap>Private         </span></td><td> 9</td><td><span style=white-space:pre-wrap>Divorced             </span></td><td>Handlers-cleaners</td><td><span style=white-space:pre-wrap>Male  </span></td><td><span style=white-space:pre-wrap>    0</span></td><td>0</td><td>&lt;=50K</td><td>-0.4113455</td><td>-0.05025535</td></tr>\n",
              "\t<tr><td>49</td><td><span style=white-space:pre-wrap>Private         </span></td><td> 5</td><td>Married-spouse-absent</td><td><span style=white-space:pre-wrap>Other-service    </span></td><td>Female</td><td><span style=white-space:pre-wrap>    0</span></td><td>0</td><td>&lt;=50K</td><td>-1.9508155</td><td> 0.75390437</td></tr>\n",
              "\t<tr><td>52</td><td>Self-emp-not-inc</td><td> 9</td><td><span style=white-space:pre-wrap>Married-civ-spouse   </span></td><td><span style=white-space:pre-wrap>Exec-managerial  </span></td><td><span style=white-space:pre-wrap>Male  </span></td><td><span style=white-space:pre-wrap>    0</span></td><td>0</td><td>&gt;50K </td><td>-0.4113455</td><td> 0.97322066</td></tr>\n",
              "\t<tr><td>31</td><td><span style=white-space:pre-wrap>Private         </span></td><td>14</td><td><span style=white-space:pre-wrap>Never-married        </span></td><td><span style=white-space:pre-wrap>Prof-specialty   </span></td><td>Female</td><td>14084</td><td>0</td><td>&gt;50K </td><td> 1.5129920</td><td>-0.56199336</td></tr>\n",
              "\t<tr><td>40</td><td><span style=white-space:pre-wrap>Private         </span></td><td>11</td><td><span style=white-space:pre-wrap>Married-civ-spouse   </span></td><td><span style=white-space:pre-wrap>Craft-repair     </span></td><td><span style=white-space:pre-wrap>Male  </span></td><td><span style=white-space:pre-wrap>    0</span></td><td>0</td><td>&gt;50K </td><td> 0.3583895</td><td> 0.09595551</td></tr>\n",
              "</tbody>\n",
              "</table>\n"
            ],
            "text/markdown": "\nA tibble: 6 × 11\n\n| age &lt;dbl&gt; | workclass &lt;chr&gt; | education &lt;dbl&gt; | marital_status &lt;chr&gt; | occupation &lt;chr&gt; | sex &lt;chr&gt; | capital_gain &lt;dbl&gt; | capital_loss &lt;dbl&gt; | income &lt;chr&gt; | education1 &lt;dbl&gt; | age1 &lt;dbl&gt; |\n|---|---|---|---|---|---|---|---|---|---|---|\n| 50 | Self-emp-not-inc | 13 | Married-civ-spouse    | Exec-managerial   | Male   |     0 | 0 | &lt;=50K |  1.1281245 |  0.82700980 |\n| 38 | Private          |  9 | Divorced              | Handlers-cleaners | Male   |     0 | 0 | &lt;=50K | -0.4113455 | -0.05025535 |\n| 49 | Private          |  5 | Married-spouse-absent | Other-service     | Female |     0 | 0 | &lt;=50K | -1.9508155 |  0.75390437 |\n| 52 | Self-emp-not-inc |  9 | Married-civ-spouse    | Exec-managerial   | Male   |     0 | 0 | &gt;50K  | -0.4113455 |  0.97322066 |\n| 31 | Private          | 14 | Never-married         | Prof-specialty    | Female | 14084 | 0 | &gt;50K  |  1.5129920 | -0.56199336 |\n| 40 | Private          | 11 | Married-civ-spouse    | Craft-repair      | Male   |     0 | 0 | &gt;50K  |  0.3583895 |  0.09595551 |\n\n",
            "text/latex": "A tibble: 6 × 11\n\\begin{tabular}{lllllllllll}\n age & workclass & education & marital\\_status & occupation & sex & capital\\_gain & capital\\_loss & income & education1 & age1\\\\\n <dbl> & <chr> & <dbl> & <chr> & <chr> & <chr> & <dbl> & <dbl> & <chr> & <dbl> & <dbl>\\\\\n\\hline\n\t 50 & Self-emp-not-inc & 13 & Married-civ-spouse    & Exec-managerial   & Male   &     0 & 0 & <=50K &  1.1281245 &  0.82700980\\\\\n\t 38 & Private          &  9 & Divorced              & Handlers-cleaners & Male   &     0 & 0 & <=50K & -0.4113455 & -0.05025535\\\\\n\t 49 & Private          &  5 & Married-spouse-absent & Other-service     & Female &     0 & 0 & <=50K & -1.9508155 &  0.75390437\\\\\n\t 52 & Self-emp-not-inc &  9 & Married-civ-spouse    & Exec-managerial   & Male   &     0 & 0 & >50K  & -0.4113455 &  0.97322066\\\\\n\t 31 & Private          & 14 & Never-married         & Prof-specialty    & Female & 14084 & 0 & >50K  &  1.5129920 & -0.56199336\\\\\n\t 40 & Private          & 11 & Married-civ-spouse    & Craft-repair      & Male   &     0 & 0 & >50K  &  0.3583895 &  0.09595551\\\\\n\\end{tabular}\n",
            "text/plain": [
              "  age workclass        education marital_status        occupation        sex   \n",
              "1 50  Self-emp-not-inc 13        Married-civ-spouse    Exec-managerial   Male  \n",
              "2 38  Private           9        Divorced              Handlers-cleaners Male  \n",
              "3 49  Private           5        Married-spouse-absent Other-service     Female\n",
              "4 52  Self-emp-not-inc  9        Married-civ-spouse    Exec-managerial   Male  \n",
              "5 31  Private          14        Never-married         Prof-specialty    Female\n",
              "6 40  Private          11        Married-civ-spouse    Craft-repair      Male  \n",
              "  capital_gain capital_loss income education1 age1       \n",
              "1     0        0            <=50K   1.1281245  0.82700980\n",
              "2     0        0            <=50K  -0.4113455 -0.05025535\n",
              "3     0        0            <=50K  -1.9508155  0.75390437\n",
              "4     0        0            >50K   -0.4113455  0.97322066\n",
              "5 14084        0            >50K    1.5129920 -0.56199336\n",
              "6     0        0            >50K    0.3583895  0.09595551"
            ]
          },
          "metadata": {}
        }
      ]
    },
    {
      "cell_type": "code",
      "source": [
        "# finding upper and lower bound\n",
        "q1 <- quantile(df$age1,0.25)\n",
        "q3 <- quantile(df$age1,0.75)\n",
        "IQR <- q3-q1\n",
        "lower_bound<-q1-(1.5 * IQR)\n",
        "upper_bound<-q3 +(1.5 * IQR)\n",
        "print(lower_bound)\n",
        "print(upper_bound)"
      ],
      "metadata": {
        "id": "IuJQoTopi_uB",
        "outputId": "c064584d-d6a6-494f-b2b0-22f5cfc9133f",
        "colab": {
          "base_uri": "https://localhost:8080/"
        }
      },
      "execution_count": 52,
      "outputs": [
        {
          "output_type": "stream",
          "name": "stdout",
          "text": [
            "      25% \n",
            "-2.974473 \n",
            "     75% \n",
            "2.873962 \n"
          ]
        }
      ]
    },
    {
      "cell_type": "code",
      "source": [
        "df_age <- df[(df$age1> upper_bound),]\n",
        "count(df_age)"
      ],
      "metadata": {
        "id": "voVQXLxpjFEq",
        "outputId": "d9dff889-dda0-44a0-8ff2-d6fe43f9190f",
        "colab": {
          "base_uri": "https://localhost:8080/",
          "height": 147
        }
      },
      "execution_count": 54,
      "outputs": [
        {
          "output_type": "display_data",
          "data": {
            "text/html": [
              "<table class=\"dataframe\">\n",
              "<caption>A tibble: 1 × 1</caption>\n",
              "<thead>\n",
              "\t<tr><th scope=col>n</th></tr>\n",
              "\t<tr><th scope=col>&lt;int&gt;</th></tr>\n",
              "</thead>\n",
              "<tbody>\n",
              "\t<tr><td>70</td></tr>\n",
              "</tbody>\n",
              "</table>\n"
            ],
            "text/markdown": "\nA tibble: 1 × 1\n\n| n &lt;int&gt; |\n|---|\n| 70 |\n\n",
            "text/latex": "A tibble: 1 × 1\n\\begin{tabular}{l}\n n\\\\\n <int>\\\\\n\\hline\n\t 70\\\\\n\\end{tabular}\n",
            "text/plain": [
              "  n \n",
              "1 70"
            ]
          },
          "metadata": {}
        }
      ]
    },
    {
      "cell_type": "markdown",
      "source": [
        "There are 70 outliers at high end."
      ],
      "metadata": {
        "id": "zO6fSYGtjMnO"
      }
    },
    {
      "cell_type": "markdown",
      "source": [
        "# 8. Age anomaly? Select only records with age at least 80, and construct a histogram of age. Explain what you see."
      ],
      "metadata": {
        "id": "gBqd0P8tjRY6"
      }
    },
    {
      "cell_type": "code",
      "source": [
        "df_aducltAbove80<- subset(df,age>80)\n",
        "head(df_aducltAbove80)"
      ],
      "metadata": {
        "id": "mv7ncvFNtXR3",
        "outputId": "5e50f63c-846b-4181-e396-60c5a6676eaf",
        "colab": {
          "base_uri": "https://localhost:8080/",
          "height": 286
        }
      },
      "execution_count": 55,
      "outputs": [
        {
          "output_type": "display_data",
          "data": {
            "text/html": [
              "<table class=\"dataframe\">\n",
              "<caption>A tibble: 6 × 11</caption>\n",
              "<thead>\n",
              "\t<tr><th scope=col>age</th><th scope=col>workclass</th><th scope=col>education</th><th scope=col>marital_status</th><th scope=col>occupation</th><th scope=col>sex</th><th scope=col>capital_gain</th><th scope=col>capital_loss</th><th scope=col>income</th><th scope=col>education1</th><th scope=col>age1</th></tr>\n",
              "\t<tr><th scope=col>&lt;dbl&gt;</th><th scope=col>&lt;chr&gt;</th><th scope=col>&lt;dbl&gt;</th><th scope=col>&lt;chr&gt;</th><th scope=col>&lt;chr&gt;</th><th scope=col>&lt;chr&gt;</th><th scope=col>&lt;dbl&gt;</th><th scope=col>&lt;dbl&gt;</th><th scope=col>&lt;chr&gt;</th><th scope=col>&lt;dbl&gt;</th><th scope=col>&lt;dbl&gt;</th></tr>\n",
              "</thead>\n",
              "<tbody>\n",
              "\t<tr><td>90</td><td><span style=white-space:pre-wrap>Private         </span></td><td> 9</td><td><span style=white-space:pre-wrap>Never-married     </span></td><td><span style=white-space:pre-wrap>Other-service  </span></td><td><span style=white-space:pre-wrap>Male  </span></td><td>0</td><td>2206</td><td>&lt;=50K</td><td>-0.41134550</td><td>3.751227</td></tr>\n",
              "\t<tr><td>90</td><td><span style=white-space:pre-wrap>Private         </span></td><td> 9</td><td><span style=white-space:pre-wrap>Never-married     </span></td><td><span style=white-space:pre-wrap>Other-service  </span></td><td>Female</td><td>0</td><td><span style=white-space:pre-wrap>   0</span></td><td>&lt;=50K</td><td>-0.41134550</td><td>3.751227</td></tr>\n",
              "\t<tr><td>88</td><td>Self-emp-not-inc</td><td>15</td><td>Married-civ-spouse</td><td>Prof-specialty </td><td><span style=white-space:pre-wrap>Male  </span></td><td>0</td><td><span style=white-space:pre-wrap>   0</span></td><td>&lt;=50K</td><td> 1.89785947</td><td>3.605016</td></tr>\n",
              "\t<tr><td>90</td><td><span style=white-space:pre-wrap>Private         </span></td><td>13</td><td>Married-civ-spouse</td><td>Exec-managerial</td><td><span style=white-space:pre-wrap>Male  </span></td><td>0</td><td><span style=white-space:pre-wrap>   0</span></td><td>&lt;=50K</td><td> 1.12812448</td><td>3.751227</td></tr>\n",
              "\t<tr><td>90</td><td><span style=white-space:pre-wrap>Private         </span></td><td>10</td><td><span style=white-space:pre-wrap>Never-married     </span></td><td><span style=white-space:pre-wrap>Other-service  </span></td><td><span style=white-space:pre-wrap>Male  </span></td><td>0</td><td><span style=white-space:pre-wrap>   0</span></td><td>&lt;=50K</td><td>-0.02647801</td><td>3.751227</td></tr>\n",
              "\t<tr><td>82</td><td><span style=white-space:pre-wrap>Private         </span></td><td> 4</td><td><span style=white-space:pre-wrap>Widowed           </span></td><td>Prof-specialty </td><td><span style=white-space:pre-wrap>Male  </span></td><td>0</td><td><span style=white-space:pre-wrap>   0</span></td><td>&lt;=50K</td><td>-2.33568298</td><td>3.166384</td></tr>\n",
              "</tbody>\n",
              "</table>\n"
            ],
            "text/markdown": "\nA tibble: 6 × 11\n\n| age &lt;dbl&gt; | workclass &lt;chr&gt; | education &lt;dbl&gt; | marital_status &lt;chr&gt; | occupation &lt;chr&gt; | sex &lt;chr&gt; | capital_gain &lt;dbl&gt; | capital_loss &lt;dbl&gt; | income &lt;chr&gt; | education1 &lt;dbl&gt; | age1 &lt;dbl&gt; |\n|---|---|---|---|---|---|---|---|---|---|---|\n| 90 | Private          |  9 | Never-married      | Other-service   | Male   | 0 | 2206 | &lt;=50K | -0.41134550 | 3.751227 |\n| 90 | Private          |  9 | Never-married      | Other-service   | Female | 0 |    0 | &lt;=50K | -0.41134550 | 3.751227 |\n| 88 | Self-emp-not-inc | 15 | Married-civ-spouse | Prof-specialty  | Male   | 0 |    0 | &lt;=50K |  1.89785947 | 3.605016 |\n| 90 | Private          | 13 | Married-civ-spouse | Exec-managerial | Male   | 0 |    0 | &lt;=50K |  1.12812448 | 3.751227 |\n| 90 | Private          | 10 | Never-married      | Other-service   | Male   | 0 |    0 | &lt;=50K | -0.02647801 | 3.751227 |\n| 82 | Private          |  4 | Widowed            | Prof-specialty  | Male   | 0 |    0 | &lt;=50K | -2.33568298 | 3.166384 |\n\n",
            "text/latex": "A tibble: 6 × 11\n\\begin{tabular}{lllllllllll}\n age & workclass & education & marital\\_status & occupation & sex & capital\\_gain & capital\\_loss & income & education1 & age1\\\\\n <dbl> & <chr> & <dbl> & <chr> & <chr> & <chr> & <dbl> & <dbl> & <chr> & <dbl> & <dbl>\\\\\n\\hline\n\t 90 & Private          &  9 & Never-married      & Other-service   & Male   & 0 & 2206 & <=50K & -0.41134550 & 3.751227\\\\\n\t 90 & Private          &  9 & Never-married      & Other-service   & Female & 0 &    0 & <=50K & -0.41134550 & 3.751227\\\\\n\t 88 & Self-emp-not-inc & 15 & Married-civ-spouse & Prof-specialty  & Male   & 0 &    0 & <=50K &  1.89785947 & 3.605016\\\\\n\t 90 & Private          & 13 & Married-civ-spouse & Exec-managerial & Male   & 0 &    0 & <=50K &  1.12812448 & 3.751227\\\\\n\t 90 & Private          & 10 & Never-married      & Other-service   & Male   & 0 &    0 & <=50K & -0.02647801 & 3.751227\\\\\n\t 82 & Private          &  4 & Widowed            & Prof-specialty  & Male   & 0 &    0 & <=50K & -2.33568298 & 3.166384\\\\\n\\end{tabular}\n",
            "text/plain": [
              "  age workclass        education marital_status     occupation      sex   \n",
              "1 90  Private           9        Never-married      Other-service   Male  \n",
              "2 90  Private           9        Never-married      Other-service   Female\n",
              "3 88  Self-emp-not-inc 15        Married-civ-spouse Prof-specialty  Male  \n",
              "4 90  Private          13        Married-civ-spouse Exec-managerial Male  \n",
              "5 90  Private          10        Never-married      Other-service   Male  \n",
              "6 82  Private           4        Widowed            Prof-specialty  Male  \n",
              "  capital_gain capital_loss income education1  age1    \n",
              "1 0            2206         <=50K  -0.41134550 3.751227\n",
              "2 0               0         <=50K  -0.41134550 3.751227\n",
              "3 0               0         <=50K   1.89785947 3.605016\n",
              "4 0               0         <=50K   1.12812448 3.751227\n",
              "5 0               0         <=50K  -0.02647801 3.751227\n",
              "6 0               0         <=50K  -2.33568298 3.166384"
            ]
          },
          "metadata": {}
        }
      ]
    },
    {
      "cell_type": "code",
      "source": [
        "#Plotting histogram for Age\n",
        "hist(df_aducltAbove80$age)"
      ],
      "metadata": {
        "id": "xZdcQ0oMt2CF",
        "outputId": "133129c9-4a30-42e1-bb13-9766990e181e",
        "colab": {
          "base_uri": "https://localhost:8080/",
          "height": 437
        }
      },
      "execution_count": null,
      "outputs": [
        {
          "output_type": "display_data",
          "data": {
            "text/plain": [
              "Plot with title “Histogram of df_aducltAbove80$age”"
            ],
            "image/png": "[encoded data removed]"
          },
          "metadata": {
            "image/png": {
              "width": 420,
              "height": 420
            }
          }
        }
      ]
    },
    {
      "cell_type": "markdown",
      "source": [
        "**Summary**\n",
        "\n",
        "1. The initial cross tabulation of workclass and sex revealed that the dataset contains more males than females, and that the vast majority of those sampled work in the private sector.\n",
        "2. The cross tabulation for marital status and sex revealed that the majority of men are in the Married-Civ-Spouse.\n",
        "3. There are 552 education outlier present.\n",
        "4. There are 70 outliers present at high end of age outlier."
      ],
      "metadata": {
        "id": "jE4o18lsjbDp"
      }
    },
    {
      "cell_type": "code",
      "source": [
        ""
      ],
      "metadata": {
        "id": "cT6b4DKEt7K8"
      },
      "execution_count": null,
      "outputs": []
    }
  ]
}