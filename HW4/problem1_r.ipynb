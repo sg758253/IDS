{
  "nbformat": 4,
  "nbformat_minor": 0,
  "metadata": {
    "colab": {
      "name": "problem1_r.ipynb",
      "provenance": [],
      "authorship_tag": "ABX9TyPcyRyT6MlaJEqYxuvaq1Xl",
      "include_colab_link": true
    },
    "kernelspec": {
      "name": "ir",
      "display_name": "R"
    },
    "language_info": {
      "name": "R"
    }
  },
  "cells": [
    {
      "cell_type": "markdown",
      "metadata": {
        "id": "view-in-github",
        "colab_type": "text"
      },
      "source": [
        "<a href=\"https://colab.research.google.com/github/sg758253/IDS/blob/main/HW4/problem1_r.ipynb\" target=\"_parent\"><img src=\"https://colab.research.google.com/assets/colab-badge.svg\" alt=\"Open In Colab\"/></a>"
      ]
    },
    {
      "cell_type": "code",
      "execution_count": 86,
      "metadata": {
        "id": "m6qxZupG-SJH"
      },
      "outputs": [],
      "source": [
        "#Import library\n",
        "library(readr)\n",
        "library(stringr)\n"
      ]
    },
    {
      "cell_type": "code",
      "source": [
        "df <- read_csv(\"https://raw.githubusercontent.com/sg758253/IDS/main/HW4/adult_training.csv\")\n",
        "head(df)"
      ],
      "metadata": {
        "id": "orIkDjI3lKlB",
        "outputId": "c527450c-c8d3-4ef7-f02f-81801cc61efa",
        "colab": {
          "base_uri": "https://localhost:8080/",
          "height": 425
        }
      },
      "execution_count": 87,
      "outputs": [
        {
          "output_type": "stream",
          "name": "stderr",
          "text": [
            "\u001b[1mRows: \u001b[22m\u001b[34m14797\u001b[39m \u001b[1mColumns: \u001b[22m\u001b[34m9\u001b[39m\n",
            "\u001b[36m──\u001b[39m \u001b[1mColumn specification\u001b[22m \u001b[36m────────────────────────────────────────────────────────\u001b[39m\n",
            "\u001b[1mDelimiter:\u001b[22m \",\"\n",
            "\u001b[31mchr\u001b[39m (5): workclass, marital_status, occupation, sex, income\n",
            "\u001b[32mdbl\u001b[39m (4): age, education, capital_gain, capital_loss\n",
            "\n",
            "\u001b[36mℹ\u001b[39m Use `spec()` to retrieve the full column specification for this data.\n",
            "\u001b[36mℹ\u001b[39m Specify the column types or set `show_col_types = FALSE` to quiet this message.\n"
          ]
        },
        {
          "output_type": "display_data",
          "data": {
            "text/html": [
              "<table class=\"dataframe\">\n",
              "<caption>A tibble: 6 × 9</caption>\n",
              "<thead>\n",
              "\t<tr><th scope=col>age</th><th scope=col>workclass</th><th scope=col>education</th><th scope=col>marital_status</th><th scope=col>occupation</th><th scope=col>sex</th><th scope=col>capital_gain</th><th scope=col>capital_loss</th><th scope=col>income</th></tr>\n",
              "\t<tr><th scope=col>&lt;dbl&gt;</th><th scope=col>&lt;chr&gt;</th><th scope=col>&lt;dbl&gt;</th><th scope=col>&lt;chr&gt;</th><th scope=col>&lt;chr&gt;</th><th scope=col>&lt;chr&gt;</th><th scope=col>&lt;dbl&gt;</th><th scope=col>&lt;dbl&gt;</th><th scope=col>&lt;chr&gt;</th></tr>\n",
              "</thead>\n",
              "<tbody>\n",
              "\t<tr><td>50</td><td>Self-emp-not-inc</td><td>13</td><td><span style=white-space:pre-wrap>Married-civ-spouse   </span></td><td><span style=white-space:pre-wrap>Exec-managerial  </span></td><td><span style=white-space:pre-wrap>Male  </span></td><td><span style=white-space:pre-wrap>    0</span></td><td>0</td><td>&lt;=50K</td></tr>\n",
              "\t<tr><td>38</td><td><span style=white-space:pre-wrap>Private         </span></td><td> 9</td><td><span style=white-space:pre-wrap>Divorced             </span></td><td>Handlers-cleaners</td><td><span style=white-space:pre-wrap>Male  </span></td><td><span style=white-space:pre-wrap>    0</span></td><td>0</td><td>&lt;=50K</td></tr>\n",
              "\t<tr><td>49</td><td><span style=white-space:pre-wrap>Private         </span></td><td> 5</td><td>Married-spouse-absent</td><td><span style=white-space:pre-wrap>Other-service    </span></td><td>Female</td><td><span style=white-space:pre-wrap>    0</span></td><td>0</td><td>&lt;=50K</td></tr>\n",
              "\t<tr><td>52</td><td>Self-emp-not-inc</td><td> 9</td><td><span style=white-space:pre-wrap>Married-civ-spouse   </span></td><td><span style=white-space:pre-wrap>Exec-managerial  </span></td><td><span style=white-space:pre-wrap>Male  </span></td><td><span style=white-space:pre-wrap>    0</span></td><td>0</td><td>&gt;50K </td></tr>\n",
              "\t<tr><td>31</td><td><span style=white-space:pre-wrap>Private         </span></td><td>14</td><td><span style=white-space:pre-wrap>Never-married        </span></td><td><span style=white-space:pre-wrap>Prof-specialty   </span></td><td>Female</td><td>14084</td><td>0</td><td>&gt;50K </td></tr>\n",
              "\t<tr><td>40</td><td><span style=white-space:pre-wrap>Private         </span></td><td>11</td><td><span style=white-space:pre-wrap>Married-civ-spouse   </span></td><td><span style=white-space:pre-wrap>Craft-repair     </span></td><td><span style=white-space:pre-wrap>Male  </span></td><td><span style=white-space:pre-wrap>    0</span></td><td>0</td><td>&gt;50K </td></tr>\n",
              "</tbody>\n",
              "</table>\n"
            ],
            "text/markdown": "\nA tibble: 6 × 9\n\n| age &lt;dbl&gt; | workclass &lt;chr&gt; | education &lt;dbl&gt; | marital_status &lt;chr&gt; | occupation &lt;chr&gt; | sex &lt;chr&gt; | capital_gain &lt;dbl&gt; | capital_loss &lt;dbl&gt; | income &lt;chr&gt; |\n|---|---|---|---|---|---|---|---|---|\n| 50 | Self-emp-not-inc | 13 | Married-civ-spouse    | Exec-managerial   | Male   |     0 | 0 | &lt;=50K |\n| 38 | Private          |  9 | Divorced              | Handlers-cleaners | Male   |     0 | 0 | &lt;=50K |\n| 49 | Private          |  5 | Married-spouse-absent | Other-service     | Female |     0 | 0 | &lt;=50K |\n| 52 | Self-emp-not-inc |  9 | Married-civ-spouse    | Exec-managerial   | Male   |     0 | 0 | &gt;50K  |\n| 31 | Private          | 14 | Never-married         | Prof-specialty    | Female | 14084 | 0 | &gt;50K  |\n| 40 | Private          | 11 | Married-civ-spouse    | Craft-repair      | Male   |     0 | 0 | &gt;50K  |\n\n",
            "text/latex": "A tibble: 6 × 9\n\\begin{tabular}{lllllllll}\n age & workclass & education & marital\\_status & occupation & sex & capital\\_gain & capital\\_loss & income\\\\\n <dbl> & <chr> & <dbl> & <chr> & <chr> & <chr> & <dbl> & <dbl> & <chr>\\\\\n\\hline\n\t 50 & Self-emp-not-inc & 13 & Married-civ-spouse    & Exec-managerial   & Male   &     0 & 0 & <=50K\\\\\n\t 38 & Private          &  9 & Divorced              & Handlers-cleaners & Male   &     0 & 0 & <=50K\\\\\n\t 49 & Private          &  5 & Married-spouse-absent & Other-service     & Female &     0 & 0 & <=50K\\\\\n\t 52 & Self-emp-not-inc &  9 & Married-civ-spouse    & Exec-managerial   & Male   &     0 & 0 & >50K \\\\\n\t 31 & Private          & 14 & Never-married         & Prof-specialty    & Female & 14084 & 0 & >50K \\\\\n\t 40 & Private          & 11 & Married-civ-spouse    & Craft-repair      & Male   &     0 & 0 & >50K \\\\\n\\end{tabular}\n",
            "text/plain": [
              "  age workclass        education marital_status        occupation        sex   \n",
              "1 50  Self-emp-not-inc 13        Married-civ-spouse    Exec-managerial   Male  \n",
              "2 38  Private           9        Divorced              Handlers-cleaners Male  \n",
              "3 49  Private           5        Married-spouse-absent Other-service     Female\n",
              "4 52  Self-emp-not-inc  9        Married-civ-spouse    Exec-managerial   Male  \n",
              "5 31  Private          14        Never-married         Prof-specialty    Female\n",
              "6 40  Private          11        Married-civ-spouse    Craft-repair      Male  \n",
              "  capital_gain capital_loss income\n",
              "1     0        0            <=50K \n",
              "2     0        0            <=50K \n",
              "3     0        0            <=50K \n",
              "4     0        0            >50K  \n",
              "5 14084        0            >50K  \n",
              "6     0        0            >50K  "
            ]
          },
          "metadata": {}
        }
      ]
    },
    {
      "cell_type": "code",
      "source": [
        "colnames(df)"
      ],
      "metadata": {
        "id": "CVdN1Oj7pnrG",
        "outputId": "402db3a9-7561-4860-e6b6-5bc20e6e6536",
        "colab": {
          "base_uri": "https://localhost:8080/",
          "height": 34
        }
      },
      "execution_count": 88,
      "outputs": [
        {
          "output_type": "display_data",
          "data": {
            "text/html": [
              "<style>\n",
              ".list-inline {list-style: none; margin:0; padding: 0}\n",
              ".list-inline>li {display: inline-block}\n",
              ".list-inline>li:not(:last-child)::after {content: \"\\00b7\"; padding: 0 .5ex}\n",
              "</style>\n",
              "<ol class=list-inline><li>'age'</li><li>'workclass'</li><li>'education'</li><li>'marital_status'</li><li>'occupation'</li><li>'sex'</li><li>'capital_gain'</li><li>'capital_loss'</li><li>'income'</li></ol>\n"
            ],
            "text/markdown": "1. 'age'\n2. 'workclass'\n3. 'education'\n4. 'marital_status'\n5. 'occupation'\n6. 'sex'\n7. 'capital_gain'\n8. 'capital_loss'\n9. 'income'\n\n\n",
            "text/latex": "\\begin{enumerate*}\n\\item 'age'\n\\item 'workclass'\n\\item 'education'\n\\item 'marital\\_status'\n\\item 'occupation'\n\\item 'sex'\n\\item 'capital\\_gain'\n\\item 'capital\\_loss'\n\\item 'income'\n\\end{enumerate*}\n",
            "text/plain": [
              "[1] \"age\"            \"workclass\"      \"education\"      \"marital_status\"\n",
              "[5] \"occupation\"     \"sex\"            \"capital_gain\"   \"capital_loss\"  \n",
              "[9] \"income\"        "
            ]
          },
          "metadata": {}
        }
      ]
    },
    {
      "cell_type": "code",
      "source": [
        "# replacing ? with most comon values\n",
        "df$workclass = str_replace(df$workclass,\"\\\\?\",\"Private\")\n",
        "df$occupation = str_replace(df$occupation,\"\\\\?\",\"Prof-specialty\")"
      ],
      "metadata": {
        "id": "Lyw8Rc8vlcLj"
      },
      "execution_count": 89,
      "outputs": []
    },
    {
      "cell_type": "code",
      "source": [
        "sum(is.na(df))"
      ],
      "metadata": {
        "id": "RBeStZIOl7kl",
        "outputId": "d240eb2d-0ebb-44c5-8292-0952fe7b4c7d",
        "colab": {
          "base_uri": "https://localhost:8080/",
          "height": 34
        }
      },
      "execution_count": 90,
      "outputs": [
        {
          "output_type": "display_data",
          "data": {
            "text/html": [
              "0"
            ],
            "text/markdown": "0",
            "text/latex": "0",
            "text/plain": [
              "[1] 0"
            ]
          },
          "metadata": {}
        }
      ]
    },
    {
      "cell_type": "code",
      "source": [
        "summary(df)"
      ],
      "metadata": {
        "id": "5mo29uI8ogn-",
        "outputId": "67750a7f-f8d6-4494-f189-acbdc0c614de",
        "colab": {
          "base_uri": "https://localhost:8080/",
          "height": 382
        }
      },
      "execution_count": 91,
      "outputs": [
        {
          "output_type": "display_data",
          "data": {
            "text/plain": [
              "      age         workclass           education     marital_status    \n",
              " Min.   :17.00   Length:14797       Min.   : 1.00   Length:14797      \n",
              " 1st Qu.:28.00   Class :character   1st Qu.: 9.00   Class :character  \n",
              " Median :37.00   Mode  :character   Median :10.00   Mode  :character  \n",
              " Mean   :38.69                      Mean   :10.07                     \n",
              " 3rd Qu.:48.00                      3rd Qu.:12.00                     \n",
              " Max.   :90.00                      Max.   :16.00                     \n",
              "  occupation            sex             capital_gain    capital_loss    \n",
              " Length:14797       Length:14797       Min.   :    0   Min.   :   0.00  \n",
              " Class :character   Class :character   1st Qu.:    0   1st Qu.:   0.00  \n",
              " Mode  :character   Mode  :character   Median :    0   Median :   0.00  \n",
              "                                       Mean   : 1067   Mean   :  88.58  \n",
              "                                       3rd Qu.:    0   3rd Qu.:   0.00  \n",
              "                                       Max.   :99999   Max.   :4356.00  \n",
              "    income         \n",
              " Length:14797      \n",
              " Class :character  \n",
              " Mode  :character  \n",
              "                   \n",
              "                   \n",
              "                   "
            ]
          },
          "metadata": {}
        }
      ]
    },
    {
      "cell_type": "markdown",
      "source": [
        "# 2. Create a contingency table of workclass and sex, and plot it."
      ],
      "metadata": {
        "id": "Vl9VevYopCXP"
      }
    },
    {
      "cell_type": "code",
      "source": [
        "df_ct1 <- table(df$sex,df$workclass)\n",
        "df_ct1"
      ],
      "metadata": {
        "id": "0hkS-dVqoqTe",
        "outputId": "d310ee9b-e992-4578-8441-39a148aa440a",
        "colab": {
          "base_uri": "https://localhost:8080/",
          "height": 156
        }
      },
      "execution_count": 92,
      "outputs": [
        {
          "output_type": "display_data",
          "data": {
            "text/plain": [
              "        \n",
              "         Federal-gov Local-gov Never-worked Private Self-emp-inc\n",
              "  Female         149       377            1    3951           54\n",
              "  Male           305       592            4    7159          444\n",
              "        \n",
              "         Self-emp-not-inc State-gov Without-pay\n",
              "  Female              178       201           1\n",
              "  Male                992       385           4"
            ]
          },
          "metadata": {}
        }
      ]
    },
    {
      "cell_type": "code",
      "source": [
        "colors <- c(\"green\", \"blue\")\n",
        "barplot(df_ct1, col = colors, beside = TRUE)\n",
        "legend(\"topright\", legend = c(\"Female\", \"Male\"), fill = colors)"
      ],
      "metadata": {
        "id": "Ni7dPkl9pK3Z",
        "outputId": "4a7d05d3-a1d3-449f-e9df-afb2e55befd8",
        "colab": {
          "base_uri": "https://localhost:8080/",
          "height": 437
        }
      },
      "execution_count": 93,
      "outputs": [
        {
          "output_type": "display_data",
          "data": {
            "text/plain": [
              "plot without title"
            ],
            "image/png": "[encoded data removed]"
          },
          "metadata": {
            "image/png": {
              "width": 420,
              "height": 420
            }
          }
        }
      ]
    },
    {
      "cell_type": "code",
      "source": [
        "df_ct2 <- table(df$sex,df$marital_status)\n",
        "df_ct2"
      ],
      "metadata": {
        "id": "Ux1VdQVdpcRm",
        "outputId": "6a1158ae-28ff-4471-8253-5418c0c18ce6",
        "colab": {
          "base_uri": "https://localhost:8080/",
          "height": 156
        }
      },
      "execution_count": 94,
      "outputs": [
        {
          "output_type": "display_data",
          "data": {
            "text/plain": [
              "        \n",
              "         Divorced Married-AF-spouse Married-civ-spouse Married-spouse-absent\n",
              "  Female     1219                 7                761                    95\n",
              "  Male        795                 4               6010                   104\n",
              "        \n",
              "         Never-married Separated Widowed\n",
              "  Female          2160       290     380\n",
              "  Male            2717       182      73"
            ]
          },
          "metadata": {}
        }
      ]
    },
    {
      "cell_type": "code",
      "source": [
        "colors <- c(\"red\", \"blue\")\n",
        "barplot(df_ct2, col = colors, beside = TRUE)\n",
        "legend(\"topright\", legend = c(\"Female\", \"Male\"), fill = colors)"
      ],
      "metadata": {
        "id": "0ND6yhSUqYpV",
        "outputId": "ec4c6236-392b-4df4-c963-a24ef6bd57b9",
        "colab": {
          "base_uri": "https://localhost:8080/",
          "height": 437
        }
      },
      "execution_count": 95,
      "outputs": [
        {
          "output_type": "display_data",
          "data": {
            "text/plain": [
              "plot without title"
            ],
            "image/png": "[encoded data removed]"
          },
          "metadata": {
            "image/png": {
              "width": 420,
              "height": 420
            }
          }
        }
      ]
    },
    {
      "cell_type": "code",
      "source": [
        "df_adultOver40<- subset(df,age>40)\n",
        "head(df_adultOver40,10)"
      ],
      "metadata": {
        "id": "CqMTjppzqpw6",
        "outputId": "bc0071a9-6e23-4b39-cc74-84bf9e8097de",
        "colab": {
          "base_uri": "https://localhost:8080/",
          "height": 412
        }
      },
      "execution_count": 98,
      "outputs": [
        {
          "output_type": "display_data",
          "data": {
            "text/html": [
              "<table class=\"dataframe\">\n",
              "<caption>A tibble: 10 × 9</caption>\n",
              "<thead>\n",
              "\t<tr><th scope=col>age</th><th scope=col>workclass</th><th scope=col>education</th><th scope=col>marital_status</th><th scope=col>occupation</th><th scope=col>sex</th><th scope=col>capital_gain</th><th scope=col>capital_loss</th><th scope=col>income</th></tr>\n",
              "\t<tr><th scope=col>&lt;dbl&gt;</th><th scope=col>&lt;chr&gt;</th><th scope=col>&lt;dbl&gt;</th><th scope=col>&lt;chr&gt;</th><th scope=col>&lt;chr&gt;</th><th scope=col>&lt;chr&gt;</th><th scope=col>&lt;dbl&gt;</th><th scope=col>&lt;dbl&gt;</th><th scope=col>&lt;chr&gt;</th></tr>\n",
              "</thead>\n",
              "<tbody>\n",
              "\t<tr><td>50</td><td>Self-emp-not-inc</td><td>13</td><td><span style=white-space:pre-wrap>Married-civ-spouse   </span></td><td>Exec-managerial </td><td><span style=white-space:pre-wrap>Male  </span></td><td>0</td><td><span style=white-space:pre-wrap>   0</span></td><td>&lt;=50K</td></tr>\n",
              "\t<tr><td>49</td><td><span style=white-space:pre-wrap>Private         </span></td><td> 5</td><td>Married-spouse-absent</td><td><span style=white-space:pre-wrap>Other-service   </span></td><td>Female</td><td>0</td><td><span style=white-space:pre-wrap>   0</span></td><td>&lt;=50K</td></tr>\n",
              "\t<tr><td>52</td><td>Self-emp-not-inc</td><td> 9</td><td><span style=white-space:pre-wrap>Married-civ-spouse   </span></td><td>Exec-managerial </td><td><span style=white-space:pre-wrap>Male  </span></td><td>0</td><td><span style=white-space:pre-wrap>   0</span></td><td>&gt;50K </td></tr>\n",
              "\t<tr><td>43</td><td><span style=white-space:pre-wrap>Private         </span></td><td> 7</td><td><span style=white-space:pre-wrap>Married-civ-spouse   </span></td><td>Transport-moving</td><td><span style=white-space:pre-wrap>Male  </span></td><td>0</td><td>2042</td><td>&lt;=50K</td></tr>\n",
              "\t<tr><td>54</td><td><span style=white-space:pre-wrap>Private         </span></td><td>10</td><td><span style=white-space:pre-wrap>Married-civ-spouse   </span></td><td><span style=white-space:pre-wrap>Prof-specialty  </span></td><td><span style=white-space:pre-wrap>Male  </span></td><td>0</td><td><span style=white-space:pre-wrap>   0</span></td><td>&gt;50K </td></tr>\n",
              "\t<tr><td>44</td><td><span style=white-space:pre-wrap>Private         </span></td><td>14</td><td><span style=white-space:pre-wrap>Divorced             </span></td><td>Exec-managerial </td><td>Female</td><td>0</td><td><span style=white-space:pre-wrap>   0</span></td><td>&lt;=50K</td></tr>\n",
              "\t<tr><td>50</td><td><span style=white-space:pre-wrap>Federal-gov     </span></td><td>13</td><td><span style=white-space:pre-wrap>Divorced             </span></td><td>Exec-managerial </td><td><span style=white-space:pre-wrap>Male  </span></td><td>0</td><td><span style=white-space:pre-wrap>   0</span></td><td>&gt;50K </td></tr>\n",
              "\t<tr><td>47</td><td><span style=white-space:pre-wrap>Self-emp-inc    </span></td><td> 9</td><td><span style=white-space:pre-wrap>Divorced             </span></td><td>Exec-managerial </td><td><span style=white-space:pre-wrap>Male  </span></td><td>0</td><td><span style=white-space:pre-wrap>   0</span></td><td>&lt;=50K</td></tr>\n",
              "\t<tr><td>43</td><td><span style=white-space:pre-wrap>Private         </span></td><td>10</td><td><span style=white-space:pre-wrap>Married-civ-spouse   </span></td><td><span style=white-space:pre-wrap>Tech-support    </span></td><td><span style=white-space:pre-wrap>Male  </span></td><td>0</td><td><span style=white-space:pre-wrap>   0</span></td><td>&gt;50K </td></tr>\n",
              "\t<tr><td>53</td><td><span style=white-space:pre-wrap>Private         </span></td><td> 9</td><td><span style=white-space:pre-wrap>Married-civ-spouse   </span></td><td><span style=white-space:pre-wrap>Adm-clerical    </span></td><td>Female</td><td>0</td><td><span style=white-space:pre-wrap>   0</span></td><td>&gt;50K </td></tr>\n",
              "</tbody>\n",
              "</table>\n"
            ],
            "text/markdown": "\nA tibble: 10 × 9\n\n| age &lt;dbl&gt; | workclass &lt;chr&gt; | education &lt;dbl&gt; | marital_status &lt;chr&gt; | occupation &lt;chr&gt; | sex &lt;chr&gt; | capital_gain &lt;dbl&gt; | capital_loss &lt;dbl&gt; | income &lt;chr&gt; |\n|---|---|---|---|---|---|---|---|---|\n| 50 | Self-emp-not-inc | 13 | Married-civ-spouse    | Exec-managerial  | Male   | 0 |    0 | &lt;=50K |\n| 49 | Private          |  5 | Married-spouse-absent | Other-service    | Female | 0 |    0 | &lt;=50K |\n| 52 | Self-emp-not-inc |  9 | Married-civ-spouse    | Exec-managerial  | Male   | 0 |    0 | &gt;50K  |\n| 43 | Private          |  7 | Married-civ-spouse    | Transport-moving | Male   | 0 | 2042 | &lt;=50K |\n| 54 | Private          | 10 | Married-civ-spouse    | Prof-specialty   | Male   | 0 |    0 | &gt;50K  |\n| 44 | Private          | 14 | Divorced              | Exec-managerial  | Female | 0 |    0 | &lt;=50K |\n| 50 | Federal-gov      | 13 | Divorced              | Exec-managerial  | Male   | 0 |    0 | &gt;50K  |\n| 47 | Self-emp-inc     |  9 | Divorced              | Exec-managerial  | Male   | 0 |    0 | &lt;=50K |\n| 43 | Private          | 10 | Married-civ-spouse    | Tech-support     | Male   | 0 |    0 | &gt;50K  |\n| 53 | Private          |  9 | Married-civ-spouse    | Adm-clerical     | Female | 0 |    0 | &gt;50K  |\n\n",
            "text/latex": "A tibble: 10 × 9\n\\begin{tabular}{lllllllll}\n age & workclass & education & marital\\_status & occupation & sex & capital\\_gain & capital\\_loss & income\\\\\n <dbl> & <chr> & <dbl> & <chr> & <chr> & <chr> & <dbl> & <dbl> & <chr>\\\\\n\\hline\n\t 50 & Self-emp-not-inc & 13 & Married-civ-spouse    & Exec-managerial  & Male   & 0 &    0 & <=50K\\\\\n\t 49 & Private          &  5 & Married-spouse-absent & Other-service    & Female & 0 &    0 & <=50K\\\\\n\t 52 & Self-emp-not-inc &  9 & Married-civ-spouse    & Exec-managerial  & Male   & 0 &    0 & >50K \\\\\n\t 43 & Private          &  7 & Married-civ-spouse    & Transport-moving & Male   & 0 & 2042 & <=50K\\\\\n\t 54 & Private          & 10 & Married-civ-spouse    & Prof-specialty   & Male   & 0 &    0 & >50K \\\\\n\t 44 & Private          & 14 & Divorced              & Exec-managerial  & Female & 0 &    0 & <=50K\\\\\n\t 50 & Federal-gov      & 13 & Divorced              & Exec-managerial  & Male   & 0 &    0 & >50K \\\\\n\t 47 & Self-emp-inc     &  9 & Divorced              & Exec-managerial  & Male   & 0 &    0 & <=50K\\\\\n\t 43 & Private          & 10 & Married-civ-spouse    & Tech-support     & Male   & 0 &    0 & >50K \\\\\n\t 53 & Private          &  9 & Married-civ-spouse    & Adm-clerical     & Female & 0 &    0 & >50K \\\\\n\\end{tabular}\n",
            "text/plain": [
              "   age workclass        education marital_status        occupation       sex   \n",
              "1  50  Self-emp-not-inc 13        Married-civ-spouse    Exec-managerial  Male  \n",
              "2  49  Private           5        Married-spouse-absent Other-service    Female\n",
              "3  52  Self-emp-not-inc  9        Married-civ-spouse    Exec-managerial  Male  \n",
              "4  43  Private           7        Married-civ-spouse    Transport-moving Male  \n",
              "5  54  Private          10        Married-civ-spouse    Prof-specialty   Male  \n",
              "6  44  Private          14        Divorced              Exec-managerial  Female\n",
              "7  50  Federal-gov      13        Divorced              Exec-managerial  Male  \n",
              "8  47  Self-emp-inc      9        Divorced              Exec-managerial  Male  \n",
              "9  43  Private          10        Married-civ-spouse    Tech-support     Male  \n",
              "10 53  Private           9        Married-civ-spouse    Adm-clerical     Female\n",
              "   capital_gain capital_loss income\n",
              "1  0               0         <=50K \n",
              "2  0               0         <=50K \n",
              "3  0               0         >50K  \n",
              "4  0            2042         <=50K \n",
              "5  0               0         >50K  \n",
              "6  0               0         <=50K \n",
              "7  0               0         >50K  \n",
              "8  0               0         <=50K \n",
              "9  0               0         >50K  \n",
              "10 0               0         >50K  "
            ]
          },
          "metadata": {}
        }
      ]
    },
    {
      "cell_type": "code",
      "source": [
        "df_ct3 <- table(df$sex,df$marital_status)\n",
        "df_ct3"
      ],
      "metadata": {
        "id": "0XiyPrtCrKCU",
        "outputId": "b36b370a-f76a-4321-eadf-933e74b78bd8",
        "colab": {
          "base_uri": "https://localhost:8080/",
          "height": 156
        }
      },
      "execution_count": 99,
      "outputs": [
        {
          "output_type": "display_data",
          "data": {
            "text/plain": [
              "        \n",
              "         Divorced Married-AF-spouse Married-civ-spouse Married-spouse-absent\n",
              "  Female     1219                 7                761                    95\n",
              "  Male        795                 4               6010                   104\n",
              "        \n",
              "         Never-married Separated Widowed\n",
              "  Female          2160       290     380\n",
              "  Male            2717       182      73"
            ]
          },
          "metadata": {}
        }
      ]
    },
    {
      "cell_type": "code",
      "source": [
        "colors <- c(\"red\", \"blue\")\n",
        "barplot(df_ct3, col = colors, beside = TRUE)\n",
        "legend(\"topright\", legend = c(\"Female\", \"Male\"), fill = colors)"
      ],
      "metadata": {
        "id": "WUk0g4YCrYA5",
        "outputId": "302a303d-06ad-48e1-8ae7-c1dc0a8d502c",
        "colab": {
          "base_uri": "https://localhost:8080/",
          "height": 437
        }
      },
      "execution_count": 100,
      "outputs": [
        {
          "output_type": "display_data",
          "data": {
            "text/plain": [
              "plot without title"
            ],
            "image/png": "[encoded data removed]"
          },
          "metadata": {
            "image/png": {
              "width": 420,
              "height": 420
            }
          }
        }
      ]
    },
    {
      "cell_type": "code",
      "source": [
        "boxplot(df$education,ylab = \"education\",main = \"Boxplot\",horizontal = TRUE)"
      ],
      "metadata": {
        "id": "kCKBX2aurb90",
        "outputId": "bdbc6765-b4b2-4234-853f-355c1c22a1db",
        "colab": {
          "base_uri": "https://localhost:8080/",
          "height": 437
        }
      },
      "execution_count": 102,
      "outputs": [
        {
          "output_type": "display_data",
          "data": {
            "text/plain": [
              "Plot with title “Boxplot”"
            ],
            "image/png": "[encoded data removed]"
          },
          "metadata": {
            "image/png": {
              "width": 420,
              "height": 420
            }
          }
        }
      ]
    },
    {
      "cell_type": "code",
      "source": [
        "three_sigma_rule <- (df$education < -3 | df$education > 3 )\n",
        "# how many outliers are there?\n",
        "cat (\"There are\", sum(three_sigma_rule), \"outliers \\n\\n\")\n",
        "cat(\"The scaled education values that are outliers: \\n\\n\")\n",
        "df$education[which(three_sigma_rule)]\n",
        "cat(\"\\n\\nThe scaled education values that are NOT outliers: \\n\\n\")\n",
        "df$education[which(!three_sigma_rule)]"
      ],
      "metadata": {
        "id": "X0TUZCbIrhwf",
        "outputId": "a3def5ac-7e81-44d2-839d-339fdecacc21",
        "colab": {
          "base_uri": "https://localhost:8080/",
          "height": 312
        }
      },
      "execution_count": 104,
      "outputs": [
        {
          "output_type": "stream",
          "name": "stdout",
          "text": [
            "There are 14528 outliers \n",
            "\n",
            "The scaled education values that are outliers: \n",
            "\n"
          ]
        },
        {
          "output_type": "display_data",
          "data": {
            "text/html": [
              "<style>\n",
              ".list-inline {list-style: none; margin:0; padding: 0}\n",
              ".list-inline>li {display: inline-block}\n",
              ".list-inline>li:not(:last-child)::after {content: \"\\00b7\"; padding: 0 .5ex}\n",
              "</style>\n",
              "<ol class=list-inline><li>13</li><li>9</li><li>5</li><li>9</li><li>14</li><li>11</li><li>7</li><li>7</li><li>10</li><li>9</li><li>10</li><li>10</li><li>9</li><li>10</li><li>5</li><li>13</li><li>14</li><li>10</li><li>9</li><li>13</li><li>9</li><li>10</li><li>11</li><li>13</li><li>10</li><li>10</li><li>9</li><li>10</li><li>13</li><li>10</li><li>10</li><li>12</li><li>7</li><li>13</li><li>9</li><li>9</li><li>9</li><li>16</li><li>9</li><li>14</li><li>13</li><li>14</li><li>6</li><li>7</li><li>9</li><li>9</li><li>9</li><li>5</li><li>10</li><li>11</li><li>9</li><li>13</li><li>13</li><li>13</li><li>10</li><li>10</li><li>12</li><li>12</li><li>9</li><li>13</li><li>14</li><li>11</li><li>10</li><li>9</li><li>10</li><li>10</li><li>11</li><li>9</li><li>9</li><li>13</li><li>9</li><li>10</li><li>10</li><li>14</li><li>7</li><li>11</li><li>9</li><li>10</li><li>13</li><li>9</li><li>9</li><li>9</li><li>10</li><li>10</li><li>13</li><li>13</li><li>10</li><li>14</li><li>9</li><li>13</li><li>7</li><li>13</li><li>9</li><li>10</li><li>9</li><li>4</li><li>13</li><li>13</li><li>9</li><li>9</li><li>9</li><li>9</li><li>11</li><li>15</li><li>9</li><li>10</li><li>13</li><li>14</li><li>9</li><li>13</li><li>12</li><li>10</li><li>9</li><li>10</li><li>9</li><li>9</li><li>13</li><li>9</li><li>10</li><li>9</li><li>9</li><li>14</li><li>9</li><li>9</li><li>10</li><li>9</li><li>10</li><li>13</li><li>9</li><li>13</li><li>10</li><li>13</li><li>9</li><li>13</li><li>14</li><li>13</li><li>9</li><li>9</li><li>14</li><li>10</li><li>10</li><li>9</li><li>9</li><li>10</li><li>9</li><li>7</li><li>14</li><li>9</li><li>11</li><li>10</li><li>9</li><li>9</li><li>10</li><li>13</li><li>9</li><li>14</li><li>9</li><li>12</li><li>9</li><li>9</li><li>13</li><li>7</li><li>11</li><li>12</li><li>13</li><li>13</li><li>13</li><li>13</li><li>14</li><li>13</li><li>13</li><li>9</li><li>10</li><li>12</li><li>13</li><li>11</li><li>10</li><li>9</li><li>10</li><li>10</li><li>10</li><li>10</li><li>9</li><li>13</li><li>13</li><li>9</li><li>9</li><li>13</li><li>13</li><li>10</li><li>11</li><li>14</li><li>9</li><li>10</li><li>10</li><li>9</li><li>16</li><li>10</li><li>7</li><li>9</li><li>⋯</li><li>10</li><li>9</li><li>13</li><li>10</li><li>14</li><li>15</li><li>10</li><li>9</li><li>14</li><li>14</li><li>9</li><li>13</li><li>8</li><li>10</li><li>9</li><li>13</li><li>13</li><li>9</li><li>6</li><li>9</li><li>12</li><li>9</li><li>10</li><li>9</li><li>9</li><li>8</li><li>9</li><li>9</li><li>9</li><li>10</li><li>14</li><li>10</li><li>10</li><li>11</li><li>9</li><li>9</li><li>9</li><li>16</li><li>9</li><li>10</li><li>11</li><li>9</li><li>10</li><li>10</li><li>9</li><li>12</li><li>10</li><li>11</li><li>9</li><li>13</li><li>9</li><li>9</li><li>13</li><li>13</li><li>13</li><li>9</li><li>9</li><li>15</li><li>6</li><li>10</li><li>9</li><li>14</li><li>11</li><li>9</li><li>10</li><li>10</li><li>9</li><li>8</li><li>9</li><li>7</li><li>13</li><li>12</li><li>5</li><li>9</li><li>10</li><li>10</li><li>10</li><li>9</li><li>13</li><li>9</li><li>13</li><li>6</li><li>10</li><li>14</li><li>8</li><li>10</li><li>9</li><li>10</li><li>9</li><li>9</li><li>10</li><li>9</li><li>10</li><li>13</li><li>8</li><li>9</li><li>9</li><li>9</li><li>14</li><li>8</li><li>13</li><li>7</li><li>11</li><li>9</li><li>6</li><li>11</li><li>10</li><li>10</li><li>14</li><li>9</li><li>9</li><li>11</li><li>9</li><li>9</li><li>9</li><li>9</li><li>5</li><li>9</li><li>10</li><li>12</li><li>10</li><li>8</li><li>9</li><li>9</li><li>9</li><li>9</li><li>13</li><li>10</li><li>4</li><li>10</li><li>9</li><li>12</li><li>13</li><li>9</li><li>7</li><li>13</li><li>9</li><li>9</li><li>13</li><li>9</li><li>14</li><li>13</li><li>10</li><li>9</li><li>9</li><li>4</li><li>14</li><li>10</li><li>7</li><li>13</li><li>9</li><li>13</li><li>9</li><li>9</li><li>9</li><li>15</li><li>9</li><li>16</li><li>16</li><li>10</li><li>8</li><li>8</li><li>4</li><li>14</li><li>11</li><li>10</li><li>10</li><li>10</li><li>9</li><li>9</li><li>7</li><li>9</li><li>9</li><li>5</li><li>13</li><li>6</li><li>9</li><li>9</li><li>14</li><li>11</li><li>6</li><li>10</li><li>9</li><li>7</li><li>9</li><li>6</li><li>10</li><li>16</li><li>8</li><li>13</li><li>12</li><li>12</li><li>12</li><li>15</li><li>10</li><li>10</li><li>6</li><li>14</li><li>9</li><li>9</li></ol>\n"
            ],
            "text/markdown": "1. 13\n2. 9\n3. 5\n4. 9\n5. 14\n6. 11\n7. 7\n8. 7\n9. 10\n10. 9\n11. 10\n12. 10\n13. 9\n14. 10\n15. 5\n16. 13\n17. 14\n18. 10\n19. 9\n20. 13\n21. 9\n22. 10\n23. 11\n24. 13\n25. 10\n26. 10\n27. 9\n28. 10\n29. 13\n30. 10\n31. 10\n32. 12\n33. 7\n34. 13\n35. 9\n36. 9\n37. 9\n38. 16\n39. 9\n40. 14\n41. 13\n42. 14\n43. 6\n44. 7\n45. 9\n46. 9\n47. 9\n48. 5\n49. 10\n50. 11\n51. 9\n52. 13\n53. 13\n54. 13\n55. 10\n56. 10\n57. 12\n58. 12\n59. 9\n60. 13\n61. 14\n62. 11\n63. 10\n64. 9\n65. 10\n66. 10\n67. 11\n68. 9\n69. 9\n70. 13\n71. 9\n72. 10\n73. 10\n74. 14\n75. 7\n76. 11\n77. 9\n78. 10\n79. 13\n80. 9\n81. 9\n82. 9\n83. 10\n84. 10\n85. 13\n86. 13\n87. 10\n88. 14\n89. 9\n90. 13\n91. 7\n92. 13\n93. 9\n94. 10\n95. 9\n96. 4\n97. 13\n98. 13\n99. 9\n100. 9\n101. 9\n102. 9\n103. 11\n104. 15\n105. 9\n106. 10\n107. 13\n108. 14\n109. 9\n110. 13\n111. 12\n112. 10\n113. 9\n114. 10\n115. 9\n116. 9\n117. 13\n118. 9\n119. 10\n120. 9\n121. 9\n122. 14\n123. 9\n124. 9\n125. 10\n126. 9\n127. 10\n128. 13\n129. 9\n130. 13\n131. 10\n132. 13\n133. 9\n134. 13\n135. 14\n136. 13\n137. 9\n138. 9\n139. 14\n140. 10\n141. 10\n142. 9\n143. 9\n144. 10\n145. 9\n146. 7\n147. 14\n148. 9\n149. 11\n150. 10\n151. 9\n152. 9\n153. 10\n154. 13\n155. 9\n156. 14\n157. 9\n158. 12\n159. 9\n160. 9\n161. 13\n162. 7\n163. 11\n164. 12\n165. 13\n166. 13\n167. 13\n168. 13\n169. 14\n170. 13\n171. 13\n172. 9\n173. 10\n174. 12\n175. 13\n176. 11\n177. 10\n178. 9\n179. 10\n180. 10\n181. 10\n182. 10\n183. 9\n184. 13\n185. 13\n186. 9\n187. 9\n188. 13\n189. 13\n190. 10\n191. 11\n192. 14\n193. 9\n194. 10\n195. 10\n196. 9\n197. 16\n198. 10\n199. 7\n200. 9\n201. ⋯\n202. 10\n203. 9\n204. 13\n205. 10\n206. 14\n207. 15\n208. 10\n209. 9\n210. 14\n211. 14\n212. 9\n213. 13\n214. 8\n215. 10\n216. 9\n217. 13\n218. 13\n219. 9\n220. 6\n221. 9\n222. 12\n223. 9\n224. 10\n225. 9\n226. 9\n227. 8\n228. 9\n229. 9\n230. 9\n231. 10\n232. 14\n233. 10\n234. 10\n235. 11\n236. 9\n237. 9\n238. 9\n239. 16\n240. 9\n241. 10\n242. 11\n243. 9\n244. 10\n245. 10\n246. 9\n247. 12\n248. 10\n249. 11\n250. 9\n251. 13\n252. 9\n253. 9\n254. 13\n255. 13\n256. 13\n257. 9\n258. 9\n259. 15\n260. 6\n261. 10\n262. 9\n263. 14\n264. 11\n265. 9\n266. 10\n267. 10\n268. 9\n269. 8\n270. 9\n271. 7\n272. 13\n273. 12\n274. 5\n275. 9\n276. 10\n277. 10\n278. 10\n279. 9\n280. 13\n281. 9\n282. 13\n283. 6\n284. 10\n285. 14\n286. 8\n287. 10\n288. 9\n289. 10\n290. 9\n291. 9\n292. 10\n293. 9\n294. 10\n295. 13\n296. 8\n297. 9\n298. 9\n299. 9\n300. 14\n301. 8\n302. 13\n303. 7\n304. 11\n305. 9\n306. 6\n307. 11\n308. 10\n309. 10\n310. 14\n311. 9\n312. 9\n313. 11\n314. 9\n315. 9\n316. 9\n317. 9\n318. 5\n319. 9\n320. 10\n321. 12\n322. 10\n323. 8\n324. 9\n325. 9\n326. 9\n327. 9\n328. 13\n329. 10\n330. 4\n331. 10\n332. 9\n333. 12\n334. 13\n335. 9\n336. 7\n337. 13\n338. 9\n339. 9\n340. 13\n341. 9\n342. 14\n343. 13\n344. 10\n345. 9\n346. 9\n347. 4\n348. 14\n349. 10\n350. 7\n351. 13\n352. 9\n353. 13\n354. 9\n355. 9\n356. 9\n357. 15\n358. 9\n359. 16\n360. 16\n361. 10\n362. 8\n363. 8\n364. 4\n365. 14\n366. 11\n367. 10\n368. 10\n369. 10\n370. 9\n371. 9\n372. 7\n373. 9\n374. 9\n375. 5\n376. 13\n377. 6\n378. 9\n379. 9\n380. 14\n381. 11\n382. 6\n383. 10\n384. 9\n385. 7\n386. 9\n387. 6\n388. 10\n389. 16\n390. 8\n391. 13\n392. 12\n393. 12\n394. 12\n395. 15\n396. 10\n397. 10\n398. 6\n399. 14\n400. 9\n401. 9\n\n\n",
            "text/latex": "\\begin{enumerate*}\n\\item 13\n\\item 9\n\\item 5\n\\item 9\n\\item 14\n\\item 11\n\\item 7\n\\item 7\n\\item 10\n\\item 9\n\\item 10\n\\item 10\n\\item 9\n\\item 10\n\\item 5\n\\item 13\n\\item 14\n\\item 10\n\\item 9\n\\item 13\n\\item 9\n\\item 10\n\\item 11\n\\item 13\n\\item 10\n\\item 10\n\\item 9\n\\item 10\n\\item 13\n\\item 10\n\\item 10\n\\item 12\n\\item 7\n\\item 13\n\\item 9\n\\item 9\n\\item 9\n\\item 16\n\\item 9\n\\item 14\n\\item 13\n\\item 14\n\\item 6\n\\item 7\n\\item 9\n\\item 9\n\\item 9\n\\item 5\n\\item 10\n\\item 11\n\\item 9\n\\item 13\n\\item 13\n\\item 13\n\\item 10\n\\item 10\n\\item 12\n\\item 12\n\\item 9\n\\item 13\n\\item 14\n\\item 11\n\\item 10\n\\item 9\n\\item 10\n\\item 10\n\\item 11\n\\item 9\n\\item 9\n\\item 13\n\\item 9\n\\item 10\n\\item 10\n\\item 14\n\\item 7\n\\item 11\n\\item 9\n\\item 10\n\\item 13\n\\item 9\n\\item 9\n\\item 9\n\\item 10\n\\item 10\n\\item 13\n\\item 13\n\\item 10\n\\item 14\n\\item 9\n\\item 13\n\\item 7\n\\item 13\n\\item 9\n\\item 10\n\\item 9\n\\item 4\n\\item 13\n\\item 13\n\\item 9\n\\item 9\n\\item 9\n\\item 9\n\\item 11\n\\item 15\n\\item 9\n\\item 10\n\\item 13\n\\item 14\n\\item 9\n\\item 13\n\\item 12\n\\item 10\n\\item 9\n\\item 10\n\\item 9\n\\item 9\n\\item 13\n\\item 9\n\\item 10\n\\item 9\n\\item 9\n\\item 14\n\\item 9\n\\item 9\n\\item 10\n\\item 9\n\\item 10\n\\item 13\n\\item 9\n\\item 13\n\\item 10\n\\item 13\n\\item 9\n\\item 13\n\\item 14\n\\item 13\n\\item 9\n\\item 9\n\\item 14\n\\item 10\n\\item 10\n\\item 9\n\\item 9\n\\item 10\n\\item 9\n\\item 7\n\\item 14\n\\item 9\n\\item 11\n\\item 10\n\\item 9\n\\item 9\n\\item 10\n\\item 13\n\\item 9\n\\item 14\n\\item 9\n\\item 12\n\\item 9\n\\item 9\n\\item 13\n\\item 7\n\\item 11\n\\item 12\n\\item 13\n\\item 13\n\\item 13\n\\item 13\n\\item 14\n\\item 13\n\\item 13\n\\item 9\n\\item 10\n\\item 12\n\\item 13\n\\item 11\n\\item 10\n\\item 9\n\\item 10\n\\item 10\n\\item 10\n\\item 10\n\\item 9\n\\item 13\n\\item 13\n\\item 9\n\\item 9\n\\item 13\n\\item 13\n\\item 10\n\\item 11\n\\item 14\n\\item 9\n\\item 10\n\\item 10\n\\item 9\n\\item 16\n\\item 10\n\\item 7\n\\item 9\n\\item ⋯\n\\item 10\n\\item 9\n\\item 13\n\\item 10\n\\item 14\n\\item 15\n\\item 10\n\\item 9\n\\item 14\n\\item 14\n\\item 9\n\\item 13\n\\item 8\n\\item 10\n\\item 9\n\\item 13\n\\item 13\n\\item 9\n\\item 6\n\\item 9\n\\item 12\n\\item 9\n\\item 10\n\\item 9\n\\item 9\n\\item 8\n\\item 9\n\\item 9\n\\item 9\n\\item 10\n\\item 14\n\\item 10\n\\item 10\n\\item 11\n\\item 9\n\\item 9\n\\item 9\n\\item 16\n\\item 9\n\\item 10\n\\item 11\n\\item 9\n\\item 10\n\\item 10\n\\item 9\n\\item 12\n\\item 10\n\\item 11\n\\item 9\n\\item 13\n\\item 9\n\\item 9\n\\item 13\n\\item 13\n\\item 13\n\\item 9\n\\item 9\n\\item 15\n\\item 6\n\\item 10\n\\item 9\n\\item 14\n\\item 11\n\\item 9\n\\item 10\n\\item 10\n\\item 9\n\\item 8\n\\item 9\n\\item 7\n\\item 13\n\\item 12\n\\item 5\n\\item 9\n\\item 10\n\\item 10\n\\item 10\n\\item 9\n\\item 13\n\\item 9\n\\item 13\n\\item 6\n\\item 10\n\\item 14\n\\item 8\n\\item 10\n\\item 9\n\\item 10\n\\item 9\n\\item 9\n\\item 10\n\\item 9\n\\item 10\n\\item 13\n\\item 8\n\\item 9\n\\item 9\n\\item 9\n\\item 14\n\\item 8\n\\item 13\n\\item 7\n\\item 11\n\\item 9\n\\item 6\n\\item 11\n\\item 10\n\\item 10\n\\item 14\n\\item 9\n\\item 9\n\\item 11\n\\item 9\n\\item 9\n\\item 9\n\\item 9\n\\item 5\n\\item 9\n\\item 10\n\\item 12\n\\item 10\n\\item 8\n\\item 9\n\\item 9\n\\item 9\n\\item 9\n\\item 13\n\\item 10\n\\item 4\n\\item 10\n\\item 9\n\\item 12\n\\item 13\n\\item 9\n\\item 7\n\\item 13\n\\item 9\n\\item 9\n\\item 13\n\\item 9\n\\item 14\n\\item 13\n\\item 10\n\\item 9\n\\item 9\n\\item 4\n\\item 14\n\\item 10\n\\item 7\n\\item 13\n\\item 9\n\\item 13\n\\item 9\n\\item 9\n\\item 9\n\\item 15\n\\item 9\n\\item 16\n\\item 16\n\\item 10\n\\item 8\n\\item 8\n\\item 4\n\\item 14\n\\item 11\n\\item 10\n\\item 10\n\\item 10\n\\item 9\n\\item 9\n\\item 7\n\\item 9\n\\item 9\n\\item 5\n\\item 13\n\\item 6\n\\item 9\n\\item 9\n\\item 14\n\\item 11\n\\item 6\n\\item 10\n\\item 9\n\\item 7\n\\item 9\n\\item 6\n\\item 10\n\\item 16\n\\item 8\n\\item 13\n\\item 12\n\\item 12\n\\item 12\n\\item 15\n\\item 10\n\\item 10\n\\item 6\n\\item 14\n\\item 9\n\\item 9\n\\end{enumerate*}\n",
            "text/plain": [
              "    [1] 13  9  5  9 14 11  7  7 10  9 10 10  9 10  5 13 14 10  9 13  9 10 11 13\n",
              "   [25] 10 10  9 10 13 10 10 12  7 13  9  9  9 16  9 14 13 14  6  7  9  9  9  5\n",
              "   [49] 10 11  9 13 13 13 10 10 12 12  9 13 14 11 10  9 10 10 11  9  9 13  9 10\n",
              "   [73] 10 14  7 11  9 10 13  9  9  9 10 10 13 13 10 14  9 13  7 13  9 10  9  4\n",
              "   [97] 13 13  9  9  9  9 11 15  9 10 13 14  9 13 12 10  9 10  9  9 13  9 10  9\n",
              "  [121]  9 14  9  9 10  9 10 13  9 13 10 13  9 13 14 13  9  9 14 10 10  9  9 10\n",
              "  [145]  9  7 14  9 11 10  9  9 10 13  9 14  9 12  9  9 13  7 11 12 13 13 13 13\n",
              "  [169] 14 13 13  9 10 12 13 11 10  9 10 10 10 10  9 13 13  9  9 13 13 10 11 14\n",
              "  [193]  9 10 10  9 16 10  7  9 14  9 13 10 10  9  9  9  9 12 10  9 13 13  9 10\n",
              "  [217] 14  9 11 10 13  9 13  9  9  9 10  9  9 13 13 10 13 10 14  7  9  9 15  6\n",
              "  [241]  9 10  7  9  9  7 10  4 14  9  7 16 13 10  9 13 10  9 13  9 10 10  9 14\n",
              "  [265]  9  9  6  9  9 13  9 13 11  5  9  9 13 13  9 10  9  9  9 10  9 16  9  5\n",
              "  [289]  4 10 14 10  5  7 13  9 10  7  9  4 13 14 10 10 14 14 13  9 13 13 10 16\n",
              "  [313] 10 13 11  9 10 13  9 13 13  9 10  9  7 10 11 11 10 10 10  9 10 14  8 13\n",
              "  [337] 13  6  9  9  9  9  9 16 10 10 10  9 11  9 10 13 10 11 10 10  9 11  9 10\n",
              "  [361]  9 14 13 12  7  9  7 14 13 10  6  9 11 10  9 14 11  9  9 10  7 10  9  7\n",
              "  [385]  9  9 13  7 10 13  9  9  9 14 11  9 16  9 13  7  9  7 10 10  6 10 14 13\n",
              "  [409]  9  5 13 13 10 11 13 13 15  4  9 12  9 10  6  9 14 10 10  9  9 14  9 10\n",
              "  [433]  7  9 14 15 13  9  9 10 10 13 10 10  6  9  9 10  9 13  9 10 14  9  9 11\n",
              "  [457]  9  9 10 13 11  9 14 13 10 10 13 13  9 11  9 10  4  9  9  9 10  9  9 11\n",
              "  [481] 12  9  9  7  9 13 10 10 13 13 10 10 13 14  9  9 12 10 12 13  9 13  9 11\n",
              "  [505] 13  9 10 12 13 16 10 13  6  9 13 13  9 13 14 13 13  9 13 13 10  9 10 13\n",
              "  [529] 10  9  9 10  9 10  9  9  9  9  9 14 11 12 13 15  7 11 10 11 13  9  9 14\n",
              "  [553]  9 10  9 13 12 14  9 13 13 10 13 10 16  9 15 10 14  9 13 10  9  9 13 14\n",
              "  [577] 10  9  9 13 10  9  9 13 13  9 12 10 13  9  9 10 12  9  9 10 15  9  9 13\n",
              "  [601]  9 10  9  9  9  7 11 13 13 10 15 14 10  9 13  7 10 13  6 13  9 11  9 14\n",
              "  [625]  9 13 13 13  9 10  9  4  6 14  9  9  7  9  9 10  6 10  9 13 12  7  9  9\n",
              "  [649] 10 10  6  9  9 11  9 10 10  6 14  9  9  6  9 14 15 13 14 10  9 11 10  9\n",
              "  [673]  9  9 13  9  9 14 10  9  9  9 10 14  9 10 10 11 13 13 13  5  5 10 10  9\n",
              "  [697]  9  6 14  6 10 12  9  6 10  9 10 16 13  8 13  4 10 10  7 13 10  6  9 10\n",
              "  [721] 13  9  9 10 10  9  9 13 10  9  7  7  9  6 13  9 15  9  9 12 13  9  9 13\n",
              "  [745] 15  9 10 13  6  9  9  9  4  9  9 15 12 10  9 10 10  9  9  9  9  9  9  9\n",
              "  [769]  9 10 10  9 10  9  9  4  9 10  8 13 10 13  9 10  9 10  9  9 11 13  9  9\n",
              "  [793]  7  9  9 10  9 13  6  9 10 11  6  7 13 13 12 13 14 14  5 10  9 12 13  9\n",
              "  [817]  9  9 11  9  9  9  9  4 10  9  9 10  9 10 13 11  4  9 10  9 14  5 13  9\n",
              "  [841] 13 12 10  9 13 10  5  9 10 10  9  9 10  9 14 13  7  9  9  9 14 14  6  5\n",
              "  [865]  7  9 10 13 10 10 13  9  9 13 13  9  9  7 14  9 14  9 13  6  9  9 13 10\n",
              "  [889] 14 13  9 10  7  9 13  7  6  9  9 10  9 10 12 10 10  9 13  9  9 13  9 13\n",
              "  [913] 14  9 12 16 13 11 12 10  7  9 10 10 13  4 13  6 10 13 13  7 10  9  4 11\n",
              "  [937] 13  9 13  7 10  9 10 10 13 10  9  9 14 12 13  9 10 10  8  9 10 10  9 16\n",
              "  [961]  9 10  9  7 14  9 11  9 10 10  9 13  9 10 14  9 13 10  7 10 14  6 10 13\n",
              "  [985]  9 10 13 13 11  6  9 10 12 12 14 13 10  7  8  5 13 13 13 12 13  9  9  9\n",
              " [1009]  9  9 10  9  7 13  9 13 12  4 13 13  9 11 13 10 10 15 12 10 10 14 16 10\n",
              " [1033]  9 13 13  9 11  8  9  9 11  9 15 10  9 13 14  9  7 11 13  9 10 10 10  4\n",
              " [1057] 10 13 13 14 10 14  7 10  7  6  9 13 13 13 12  9  7 11 14  9  5 13  5 10\n",
              " [1081] 16 10 10  9  4 13 13  9 10 10  4 10 11  9 10 10  5  9  8 13 15  9  9 15\n",
              " [1105] 13 13 10 14 10 10  6 13  9  9 10 12 11  9  9 14 13 11  7 10 13  7  9 10\n",
              " [1129]  9  9 10 10 13 10 13  9  9 12  9 13 10 14 11  4 13 13 14 10  9 10 10 10\n",
              " [1153]  9 10  9 11  9  9 10  9 14  9 10  7 13  9  6 13  7 13  9 10 14  9  6  6\n",
              " [1177] 13  9  9 13 11  9 14  9  6  9  9  7 10 13 14 11 13  9 10  4 10 13 13  9\n",
              " [1201] 10  9  9  9 11 13 15  7  9 10 10 13 13 14 13  9  5 13 13 10  9 10  9  7\n",
              " [1225] 11 10  7  9  9  9 15 10  9 10  9  9 13  9  9  5 13 14 10  7 10 10 13 10\n",
              " [1249]  9 13 16 14 12 10 10  9  9  9 13  7 10  6 14  9 13 10  9  9 10  9 10 14\n",
              " [1273] 10 15 13  7 10  6  5 15 13  9 10 10 11  9  6 15 14  8 13 10  4 13  9 14\n",
              " [1297] 12  9 13 14  9 15 10  9  6 13  9 10  9 10  9 14 10  9  9  9 12  9  6 10\n",
              " [1321] 11 15  9  9 10  9 13  7  9 13 10  9 13 10 13 14  6 13 11  9 13 10 13 10\n",
              " [1345]  9 10 10  7 14  6 13  9 10  9 14 13 16  9 13  9 16 15  6  9 14 10  9  9\n",
              " [1369] 14 10 15 11 10 13 10 13 10  9  9  6 10 10 12  9 10  9  9 10 10  9 10  9\n",
              " [1393]  9 10  5 13 13  9 13  9 10 10 15 13 16 10 13 16 10 10 12 13  9 10 14 13\n",
              " [1417] 12  7 10 10 10  9  9 14 13  9 13 10  9 16 13  9 15  9  9 15 10 13  9 10\n",
              " [1441] 10 13  9  9  9 13 13  9 10  6  4 10  8  9  9  5 13  4 13  9  4 10 13 13\n",
              " [1465]  7  9 10 13 13 13 10  9 10 10  5 13 10 13 11 12  9 12 13  9  6 14  9 13\n",
              " [1489]  9 10  9 10  4 13  9  9  9  9 10 10  9 10  9  9 12 10 13  8 10 10 10 10\n",
              " [1513]  9  9  9  9 10  7  9  9 10  7 13  9  7 13  7 10  9 10  9  9 11  6  9  9\n",
              " [1537] 16 16 10 11 13  9 10 10 14 13 10 10 13 10 10  9 10  6  9  9  9 10 14 13\n",
              " [1561] 11 13 13 10 10 13  9  9 13 13 10  6 13 13  9 13 14  4  9 13 11  9 10  7\n",
              " [1585] 10 14 13 15  9 13 10  9  9 13 10  9 13  9 10  9 10  6 12 13  9  6 13 10\n",
              " [1609]  8  7 13  9  9  9 10  9  9  4  4 10  9 10 15 10 13  9 11  9  7 13 16  6\n",
              " [1633] 10 10 11  9 13  9  4  9 12  6 11  5  9  9 13  9 10  9  9 13  9 13  9 13\n",
              " [1657]  7  9  9  9 10  9  9  9  5  9 10 10  9 14 10  9 10  9 13  9 10 14 11  9\n",
              " [1681] 14 10  5  9 10  9 13 14 10  9  9 13 13 10  4 15 10 11  9  9 10 10 10 10\n",
              " [1705]  9  9 10 13  9 10 10  4  9 13  6  9 10 15 13 13 13 10 13 14 10 10  9  9\n",
              " [1729]  7 13 15 11  9 10 13 10  9 10 10  8  9 10 10 13 11 11 10 12  6  9  9 10\n",
              " [1753]  9  9 10  6  9 13  9 10 10 10 10  9 13 10  9 10  9 13 10 10 10  9 11 13\n",
              " [1777]  9 13  9  9 13 10 14 10 10 14  9  9 10 14 12  9 13  9  9 13 10  9 13 10\n",
              " [1801]  9  9 10 10  9  6  9 10 10  9  9  9 12 10  6  9 13  9  9  9 10 11 15 10\n",
              " [1825]  9  9  9  7 12 10 13  9 10  4  9 10  6 13  9 14  9  9 14  9 13 10 10 13\n",
              " [1849] 13 10 10  9 10  9  5 15 10  9 13  9  9 10  9 10 13 10  9  9 10 12 10 10\n",
              " [1873]  9  9 13  9 13 11  7  9  5  7 11 13 10 13 12  9 14 10 13  9 10  7  9  9\n",
              " [1897] 11 13 10 13 16  9  8  7 12 13  7 13  9 10 13  9 10 10  9 13 13 13 10  9\n",
              " [1921]  9  9 10 13  9  9  9  9  6 10  8 10 15  9  9 10  9  5  9  9 14 15 10 10\n",
              " [1945] 10 10  9 10 11 13 11  9 10 10 15 13 10 14  9 10 14  9  9  6 10 12 10 12\n",
              " [1969] 11 14 10  9 13  9 10  5 10  9 13 10  9  9  8 10 10 10 10  9 10  9  5 10\n",
              " [1993] 10  9 10  9 13  9 13  9 12 16  9 15 15 13 10  6 13  9 10 10 10  9 10  6\n",
              " [2017]  9 15 13 13 10  9  6 10 11  7 13 13 10  4 10  7 13 13 13 12  9 10 10  9\n",
              " [2041] 13 13  9  9  9 10 13  8  9 13 13  9 13  9 14  9 10 13 10  4 10 14  9  9\n",
              " [2065]  9 14  7  9  9 13 10 12 10 12  9 10 10  5 11 11  9 10 16 14 13  9  7  9\n",
              " [2089] 10 11  9  9  9  9 13 13 10  9 10  8 10 12  5 10  5  9  9  9  5 12 13 13\n",
              " [2113]  9  9  9  7  9 13 10 13 10 10 14  9 13 10 10  9  5  8  9 11  9  6 10 10\n",
              " [2137]  9  9 13  9 10 13 13 10  9  4  9  9 10 10  6 13 15  9  9 10 14 13 10 10\n",
              " [2161]  9  9  9 10  9  9 13 11 13  9  9 12  9  7 13  9 12 10  9 13  9  9 10  6\n",
              " [2185] 10  9 10  9 13 13  9 13  9 13  9 13  9  9  9 10 10 12  7 13 13  9 10 12\n",
              " [2209]  9  9  9 15 13 10  6 10 11 10  9 11 10  9 10  9 10 10  9  9  9 10  9 10\n",
              " [2233]  9  9 10 13 11  9 10  9  9  9 15  9  5 10 10  8 13  5  9 10  9  9 10 15\n",
              " [2257]  9  9  7  5 14 14 10  9  8 13 12 11 10 13 14 10  9 10  4  9 13  9 10 10\n",
              " [2281]  7 10 16 10 16  9  9  9 13  4 10  9 10  9  9 10  9  9 12 15  9 12 12 13\n",
              " [2305] 10  9  4 14  9  9 14  9  9  7  4  9 11 13  9  9  9 10 10  9  9  9 14 10\n",
              " [2329]  9  5  9 10  9 14  7 16 10  7  8 13  9 10 16 13 10 12 14 15  9 13  6 10\n",
              " [2353] 13 13  8 10 13  4 10  4 10  7 10 13 10 10 10 10  9  9 12  9  9 10  9  7\n",
              " [2377] 10  9 10 10 13  5  5  9  7 10 14 10 10  5  6 10 14 10 10  9  9 13 14 10\n",
              " [2401] 10 16  9  9 12  9  5  9  9  4 13 13 13  9 12 12  9  9  4 13 13  9 13 10\n",
              " [2425]  9  9  9 10 14 11 11  9 13 13  9  9 13  9 13  9 14 10 10 11 11  9  9 10\n",
              " [2449]  9  9 10 10 13 11 10  5 10  9  9 10  7  9 14 13 13  6 11  9 10 10  9 10\n",
              " [2473]  6  9 10  9  9  9 14 13 13 13  7 12  9 10 13  9 10 12 13 10 13  9  9 13\n",
              " [2497] 14 14 12 12  9  9 10  4 10 13  6  9 10 13 10 10 10 12  9 13 11 11 15 13\n",
              " [2521] 13 10 14  9  9 13 13 13 13 11  9 16 14 10 10 10  9 12 10 10  9  9 14  9\n",
              " [2545] 10 13  9  7  6 10  9 13 10 10 13  5  9  9 13 10 13  6 10 14  5  9 14 10\n",
              " [2569]  7 13  9  9 11 10 10  7  9  9 15 13 10 15 16 13 10 13 12 10  9  9 14 15\n",
              " [2593] 10 10  7  5  9 13 10  9  5  9 14 10 10 16 10 10 12 10 10 12 10 10 12 11\n",
              " [2617] 10 13  6  9  9 13 11  6 10 10 11  9 11 10 10 14  6  9 10  6  9 10 14 13\n",
              " [2641]  6  9  9  9  6 10  9 10 12  6  9  7  9 13 10 10  9  9  6 14  9 13  9 10\n",
              " [2665]  9  9 13 11 10  9  7 13  7  9  9  6  9  9 13 10 10 10  9 10 13 10  9  9\n",
              " [2689] 10  9 13  5 10 13 10  9 10 10  9  9  9 10  9  9  8  9 13  9  9 16 13 10\n",
              " [2713] 13  6  9  9  9  9  7  6 12 11 13 11  9  9 10 12  6  9  9  9  9 12 13 13\n",
              " [2737]  9 11 10 10  9  9 12  6  9  9  5 12 13 10  9  5  7  8 11 10 10  9  5 10\n",
              " [2761] 10  9 10  9  9  9  5  9  9  9 12  9 10 10  9  9  9 13  9 10 10  9 13 10\n",
              " [2785] 11  9 10  9  5 14  9  9 10 10 14 12 13  9 13 10 16  9 15 15  9 13  9  9\n",
              " [2809] 10 10 10  7 10 13 11  7 14 10  9 13  9 10 10 10 13  9  9  9 13 14 13  4\n",
              " [2833]  9  7  6 13  9  6  9 13  9  9 10 14  9  4  9  7 13  5  9 10  9 15  6  8\n",
              " [2857] 10  9  9  9 14  9 10  9 14  9 10 10 14  9 10 10  7  9  9  9 13 11 10 14\n",
              " [2881] 12  9 13 10 10  9 10  4 11 14 10  9 11 10 16 13  9  9  9 10  9  9 13  9\n",
              " [2905] 14 10 10  8 14 13 10  5 10 13 10 13 13 10  5 10  9  9  6  9  9  9  9 14\n",
              " [2929] 10  7 10  9  9  9  9 10  9 10  9  6  9 14 10  9  9  9 14 13 14 14 13 13\n",
              " [2953]  9  9  9  9 14  6 10 12  9  9 13 10  9  9  9 10  6 10 14 13 13  9  9  5\n",
              " [2977] 13 10  9 16  9  9 11 10 13  9 13 10  9 11 10 10  9 10 10 11  9  9 14 10\n",
              " [3001]  4 10  9  9 14 14 14  9  9  5 14 10  9 10 14 12  9  9 10 13 13 11 16 10\n",
              " [3025] 13  9 10  8 11  9  9  7 10  9 13 10 14  9 13 11  9 13  9  9 11  9 10  6\n",
              " [3049]  9 13  9 10 13 14  4  5  8  9  6  9 10 15 14 10  9 12 14 10 10 10  9 13\n",
              " [3073] 10  9  9 10 13  9  9  9 10 10 10 10  7  9 10 12  7 14 13  4 10 10 10 10\n",
              " [3097] 10  9 10  9  9 13  9 10  9 13  9  6 10 12 10  9 14 14 10 13  9  9 10  9\n",
              " [3121] 10  7 13  9 11 10  9 14  8  6 14  9 12 13  4 13 10  9 10 11 10  7  9  5\n",
              " [3145] 13 13 13  9 13  4 10 13  9  9 14 13  9  9 10 13 14 10 12  9 16 15  4  9\n",
              " [3169] 10 13 10 12  4 10  9  6 13 14 10 10  9  9 16 13 10  9 10  9 13  5 10 12\n",
              " [3193] 14 13 15  9  9 14 13 10 10 10 11  7 10  7 16 10  6  7 13  4 13 10 10  9\n",
              " [3217] 13  9 14 13  9  9  9  9 13 11 13  9 14 10 10 10 13 13 14  9  9  9  9  9\n",
              " [3241] 14  5  9 10 10  4  9 11  7  9 10 10 11  9 10 10  9  9 12 15  7 13 13 13\n",
              " [3265]  9  9 13 10 13  9  9  9 13  7 13  9  9 13 13 10 13  9  9 13 10  9 16  9\n",
              " [3289] 10  9  6 10 13  9 10 13  9 13 13  9  9 15  9 10 12  9 10 13 10  9  9 13\n",
              " [3313] 14  9 10  9 12 16  9 10  9 11 13  9  9  9 13  9 14  9 12 16 14  9 10  6\n",
              " [3337] 11 10 10 10 10  6 10  9 13 10 10  9 13 10 10 13 10 10  9 10 13  9 12 10\n",
              " [3361] 14 10  9 10 10 14 10 13 14 10 13  5 10  6 10 10  9  7 12  9  9  9  9 10\n",
              " [3385]  7  9  9 14  9 13 10  9  9 11  6  9  8 10  9 10  6  9 11 14  9  9 10 13\n",
              " [3409]  9 13 13 10 16  9 10  9  9  9  7 16 12  9  9  7  9 13 14 13 12  9  7 10\n",
              " [3433] 10 10  9 14 13 13  9 10  9 11  6 13  7 13 10 13 13  9  9 10  9  9  4  9\n",
              " [3457] 13 10  9 10  9 13 13  9 10 10  5  8  9  9 13 10  4 10 15  6 10  5  6 10\n",
              " [3481] 10  9 10  7 10  7 13 13  8 13  9  6 10  9 14 13 10  9 11 13  9 13  9 14\n",
              " [3505]  9 10  4  9  9 10 13 13  9  9 14  9 10 13 10  9  9 13  9  9  9 10 13 13\n",
              " [3529]  7 10  6  9  9  9 13  9  9  6 10  9  4  9 10 16 13  9  9 10 12 13  9  9\n",
              " [3553]  9 12  9 13 10  7 13 10  9 13 10 10  9 10  9 10  9  9  6  4 13  9  9 10\n",
              " [3577] 13 10  9 10 10 14 10  9  6  4 10  9 10  9 10 12 13  9 13  9  4 13  9 13\n",
              " [3601] 14  9 13  9  9 11 10 10 10 10 10  9  9 13  9 10 13  9 10 15  8 10 15  9\n",
              " [3625] 14 13  9 13 10 10 11  4 11 15 13  9 14 10  9  7 10  9  9 10  4  9 10 10\n",
              " [3649] 13  9 14 13 10 10 13 16 10  9 10 11  9 13 12 12  5  9  7  9  9  4 10  9\n",
              " [3673] 11  9  7  9  9 10 15  9 10 14  9  9 14  9 14 10 10  9 10 14 10  7  9  9\n",
              " [3697]  9 11 15  6 13  7 13 12  7  9 11  9 13  9 13  9 13 13  9  9 13 13 12  9\n",
              " [3721]  9  9 14  9 13 13 15  9  8  4  9  9 11 10  9 14 10 10  9 10 13 13 13  9\n",
              " [3745] 14 10 10 11  9  9 15 16 11  9 10 10  8 13 13 10 13  9  9 13  9  9 14  7\n",
              " [3769]  9  7  9 10 10 10 10  9 10  5 10  9  9  9  9  5  9 10 10  9 13  9  9 10\n",
              " [3793] 10  9 10  9  9 10 10 13  7 13  9 10 10 10 11 11  4 10  9  9 12  9 14  8\n",
              " [3817] 10  9  9 13 13 13 10 13 13 12 10 13 13 13  9 11  5  4 13 12 11 14  9 13\n",
              " [3841] 10  9  9 13  9 13 15 13 13 13  9 11 12 13 10  9 14 12  9  9  8 10 10  9\n",
              " [3865] 11  9 14 13 15  9  9 12  8  9 12  9 10 14 11 10  9 13  9  9 10 10 10  9\n",
              " [3889] 13  5  9 13 13 13 15 11  9  9 13  9 12  9 10  9  9 10 10  9  4  9 15  6\n",
              " [3913] 15 10 13 10  9 14  9  9  6  9  9  9  9 10 11 10 11 10 13  9 10  6 13 10\n",
              " [3937] 13 10 14  6  9  9 14 13 10 13  9 11  9 15 10  9 10 10 11 10 15  9  9  9\n",
              " [3961]  5 10 13  8 14 12 12 10 13 13 14  9  9  9 10  9  9 13  9 13  4  9  9  5\n",
              " [3985] 14 10 12 11  9  9 10 10  9 11  9 16  9 12 10 15  4  9 13 10  5 10  9 13\n",
              " [4009]  9 13  9  9 10  7  8  9  9 13  4  9 10 13 10  6 10  9  9 13  9 10  9 10\n",
              " [4033]  9 13  9 11 13 10 10 12  9  9 10 11 13  9 13 10  9  9 13 15  9 11 13  5\n",
              " [4057] 10 10  9  9  9  6 10  7  9 10 15 13  9  9 10  9  9  9 13  9  9  9 13 10\n",
              " [4081] 10  9  7 13  9  9  9  9 13 13  9 10 15  9 15 13 15  9 11  5  8  9 13  9\n",
              " [4105] 11  6 11  9  7 14  6 10 14 13 10  9 10  6 14 13 14 10 10 11 14  9  6  9\n",
              " [4129]  9  9 10  9  7  9  9 14  9 11 10 10 10 11 13 10 13 11  9 13 10  9 10 16\n",
              " [4153]  9 13 13  9  9  4  9 13 13 13  7 13  6 10 10 13  9 13 12  9 10 13 10  9\n",
              " [4177]  9  7  9 14  8  9  9  9 13 13 10 13  9 13  9  9 10 13  9 14 13 12  6  9\n",
              " [4201] 10 10 13 10 11 10 13  9  4  9 10 10 10  9  9  9  9  9  9  9 10 13 13 10\n",
              " [4225]  7  9 10 10  9  9 13  9  9  9 10  9  9 12 15 13  9 13 10  9  4  9 13 14\n",
              " [4249]  9  9  9 10 13 10  9 10 10 10 10  9  9 14 10 10 13 10  9 13  7 10  9 13\n",
              " [4273]  9 13  9  7  9  9 13 13  6 10  9  9  7 10 10 14  7 13  9 14  9  9  9 10\n",
              " [4297] 10 10  9 10  9 10 10 14  9 10  6 10 16 13 13 13 10  7  9  9 10 10  9 10\n",
              " [4321]  9 14 10  9  9 10  9 11 10  6 13  9  9 10 10 13 11 11  9 13  4  9  9 10\n",
              " [4345] 13 13 10 13 11 10 15  8  9  9  7  9 10 15 11 13  7 13 10  5  8  6  9  9\n",
              " [4369] 10 13  9 13 13  9  9 10  7 13 14 14  9  6  9  9 13 13 13 13  6  9  9 10\n",
              " [4393] 13 15 14  5  9  9 13  9 15 10 13 13 10 13 10 10 12  9 10 11 11 10  9 10\n",
              " [4417]  9 10 14  9 10 10 10  6  9 10  9  9 15 14  9 16  6 11 13 16 13  9  9  8\n",
              " [4441] 10 10  9  7  9 14  9  9 13 10 13  9 10 10 10  9  9  9 10  9  7  9 10 10\n",
              " [4465] 10  9  8 10  9 13 13  9 13 10 10  9 16  9  9  7  9  9  9  9 10 15 13  9\n",
              " [4489]  9 13  9  9 14  9  9 13 10 10 13  9  9  4 14  9 10 10 10  9 13  9  9 13\n",
              " [4513]  9 11 10  9 10 10 10  9  9 16  5 10  9  9  9  7  7 13  7  9 10 10  9 10\n",
              " [4537]  9 10 10  9 13 15 10 10  9 13  9 13 12  9 13 10 13  6  7  9 10  9 13 10\n",
              " [4561] 10  7  9 10 16  9  7 10 13  4  9  9  9  9  6 13  9  9 10  9  9  9 10  6\n",
              " [4585] 14  9  9 16  8 14 10 10 16 12  9 12 10  9  9 13 12 10  9 10 11 10 13 10\n",
              " [4609] 10 10  9  9 10 13 10 10  9  9 10  9 13 10  5  9 11  9 11  9  6  9  9 14\n",
              " [4633] 10 13 15  9 13  9  9 10  4  9  9  9  9 13  9 13 10 10 14  9  5  9 13 13\n",
              " [4657]  9 11 13 13 13 13  9 10 14  9  9 13 10 10  9  9  9 13 10 12 14  9 15 14\n",
              " [4681] 13  9 13  4 13 10 13  9 13  9  9 10 13 10  9  9  9 15  9 13  8 13 13  6\n",
              " [4705]  8  9 14  9 13 10  5  7 13 10 14  9 10  9  9 10 10 14  7  9 13  9  9  9\n",
              " [4729] 13  9  9 10  9  9  9  9 13 13 13 13 12  9 10 13 10 10  9 13  4  9 13  9\n",
              " [4753] 10 10  8  9 10  9 10 13 10  9  9 10 13 14  5 13  9 13  9 10 10  9  9 13\n",
              " [4777] 10  9 14  9 10 13 11 13  9  7  6 10 11 13 10  9 13 10  9  9 11  4 13  9\n",
              " [4801]  9 13 10 15 10 15  9 14 13  9 15 16  9  9 13  9  6 13  7 13 10  9  9  9\n",
              " [4825]  9 16 12 13  9 10 14 10 12  9  9 13 10 12 11 10 11  9 13  9 13  9  6 14\n",
              " [4849]  9 15 13 10  9 10 10 13 13  9  9 10  9  6 10 10  9  9 10 16 10  9 10  9\n",
              " [4873] 10  9  9 13 10 10  9 13 10  7  9 10  9 13  7 10  9  4  9  9  4  9 10 13\n",
              " [4897] 10  9 10  9 13  9  9 15  9 13  9 10 13  9 10  9 11 10 13 13 10 10  9 10\n",
              " [4921]  9 13  9  9  9  9 10 11 10  9  9  8 11  9 13 13 14  9 11  6  5 13  9 16\n",
              " [4945]  9  9  9 10  9  9  9  9  4 12  9  9 10 10 13 10  4 10 12  4  9 13  9  7\n",
              " [4969] 10  9 11 16 13 10 13 14  9  9  6  9  9 11  9  9 13 11  9 13  7 14  9  7\n",
              " [4993] 10 10  5  9 10  9 10 13 10 13 13  5 13  9  9 10 13  7 10 14 13 10  4 13\n",
              " [5017]  9  9 14  6  9  9  9  9  7 10 13  6 11  9  9  9 10 13 10 10  9  9  6 10\n",
              " [5041] 11 12 13  9 10  9  9  9 10 10 10 10 14  9  9  7  9  6  9 12  9  9  9  9\n",
              " [5065] 10  9 13  9  9 13 10  9  9 10  9 10 13 10  4 10 15 10 12 14 10  9 13 10\n",
              " [5089]  9  9 13  9 10 13  7  8 10 10 15  9  9 13 10 13  9 10 10 12  9 14 10  9\n",
              " [5113] 10 14 13 13  9  9  9 13  9  9  9  9 10  9  6  9  4 10  9  9  6 10 10  9\n",
              " [5137] 10 10 14  9  9 16 13 13  9 13 12  9 10 13 10 10 13  8 11  9  9 13 16  7\n",
              " [5161]  4 12  9  7 10  9  5  9 13 10  9 13 10 13 10  6  9 13  9 10  9 15  9 10\n",
              " [5185] 10 10  4 10 13  6 13  9  8  9  7 13 14 10  9  9  9 11 10  6  4  9 10 13\n",
              " [5209] 13 13  9  9 10  9  7 10 16 12  4  9  7  6 10  9  9 13 11 10 10  9  6 14\n",
              " [5233] 14 10  9 13  9 13 11  9  6 13  5 10 10  9  9 10 13 10 13  7 13 10 14 10\n",
              " [5257]  9  9 10 10 13  7  7  9 11 11 14  6 11 14  9 13  9  5 13 10  7  7  9  9\n",
              " [5281] 10 13  9  9 13  9 10 11  9 16 10  9 12  9 13  9 13 10  9 13  9  9  9  9\n",
              " [5305]  7 13  9  6  9 10 14 15 14 13  9  9  9 13  9 10 10  9 13  9 14  9 13 13\n",
              " [5329]  9 13 13  6 14 14 13 14 11  8  9 13 13 14  9  9 10 14 13 10  9 10 10 12\n",
              " [5353]  8  9 14 10 13  9 10  6  9 14 12  9  9  9 10  9  7  9 13  9  9  9  7 13\n",
              " [5377] 14 10  9 10  9 10 11 10 11 10  9  9 13 13 10 14 11  5 10 13 14 10 13 13\n",
              " [5401]  9  4 10 13  4  9  9  9 13  7  5  9 14 10 14  9 14  9  9 10  6  9 16  9\n",
              " [5425] 12  9  9  8  9  9 10  9  4 10  9  9  9 10 10 10  9 10 10 10  6 13  9  5\n",
              " [5449]  9  9 10  9  9  9  9 10  9  9  8 10  9  9 10  9  9 10  9  9 12 14  9  9\n",
              " [5473]  6  9 13  5 14 10 13  9  9 10  7 10 10 10  9  9  9 10 10  4 13  9 14 14\n",
              " [5497] 12 10  9 10  9  5  9 10 14  9 10  7  9 13  9  9  9 11 10  9 13  9  7  9\n",
              " [5521] 13 12  9  9 10 13  9 10 10 10  4 15  9 14  7 10 13 12 10 12  9  6  9  9\n",
              " [5545] 14 13  9 12  9 13  4  9  5  9 10  7 14  9  9  9 10 13  9  6  4  4  9  9\n",
              " [5569] 10  9 10 14 16 11  9 10  9  9 13  9 10  9  6 14  9 10 13  9  9 13 13  9\n",
              " [5593] 14  4  9 10 13 10  9  9  9 12 10  9 10  9  9  9  9  7  9  9  9 10  5 10\n",
              " [5617]  9  5 13 10 10  9  9 11  7  9  9  6 10 10  9  9 13  9 10 10  9 10 13 11\n",
              " [5641]  9 14 16  9 13 13 14  9  9  9 10  9 14 10 13 16 13  9 13  7  9 10 10 10\n",
              " [5665] 13  8  9 14  9 10 10  9 10 14  7 13 13 13  9  9  9 13 10 12  9  9  8 14\n",
              " [5689] 13 12 11 10  8 10  8 15  9 11 10  9 13 13  9 14  9  9 12 11 10 15  9  9\n",
              " [5713]  9 13 14 14  9 10 13  9 10  9  9 14 12 13  9  9  9 12 14 14 10  7 13 10\n",
              " [5737]  9 10  9 10  9 10 10 10  9 10  7 16 10  4 10  9 13 13  6  9 13 13  7  9\n",
              " [5761]  7 12 10  9  9 14 13 10 11 16  8 13  9  4 10 10 10 15 10 10  9 10 10  9\n",
              " [5785] 14 13 12 10  6  9  8 11 11  9  9  9 13 13  9 13  9 14 13  9  9  7 10 13\n",
              " [5809]  7  6  9 13  9  9  9  9 10  9  7 11 10  9 16  9  9  6  9 14  7 10  9 13\n",
              " [5833]  9 10  7 10  9  6  9 13  9 12  9  6 10 11 10 10  9 10 13  9 10 15  9  6\n",
              " [5857] 13 11  9 10  4  8  9  9 13  8  4 10  8 10  9 13  9  5  5 13  9 10  9  4\n",
              " [5881] 12 10  8 13  9  4  9 10  4 11  7 13 10 14 13  9 10 16 10 14 14 14  6 13\n",
              " [5905]  9 14 13  7  9  9  9  7  9 12 13 10 13 15 11 14  9  4 10  9 10 14 10  9\n",
              " [5929] 10 10 13 13 11 13 13 13 11 13 13 11 13 10  9 10 10 13 10  9 13  9 14 10\n",
              " [5953]  6  8 10  9  7 10  9  9  9  9  9 10  9  9 10  9  9 13 14  9  9 10 13 10\n",
              " [5977] 15 13 14  9  9 10 12 10 12 13  9  9 13  7  9  9 10 10  9 10 10  9 13 10\n",
              " [6001]  7 10 12  9 13  9 12  9 10  9 10 13 13 14 10 13 11 13 10 10 10 13 13 14\n",
              " [6025]  9  9 13 10  9  9 10 10 11 13  9 13  9 11 10 11 13  9 10  8  9 13  5  9\n",
              " [6049] 13 10  9 15  9  9 13 10  5 10 16 13 14  4  4 10 16  9  7  9  9 12 12 10\n",
              " [6073] 10  9  9 14  9 10 13 13 11 13  9 10 11 10  7  9 13  9 11 14  9  6  6 11\n",
              " [6097]  4 12 11 16  9 12 10 13 15 13 13 10 13 11  9 10  9  9  9  5 11 16 10  9\n",
              " [6121]  5  9  5  6  9  9 13 13  7 12  9  6 13 10 10 14  9  8 13  9 10  9 13  9\n",
              " [6145] 10 13 13  9 10  5  9 13 13 13 10  9 10  9 10 10 13 12  9 13  9  9 13 10\n",
              " [6169] 13 10  9 10 10 13  9 10  9  9  9  7  4  7  7 14 13  9  9 10  9 10  9  8\n",
              " [6193] 10  9 13  9  9 13 10 13 10 13 12 13 10 10 10  9 13  9 12 11  7  6 13  9\n",
              " [6217]  9  9 11  4  9 13  9  9 11 10 12 15  9 13 13 13  9 10  9  9 13 11  9  9\n",
              " [6241] 11 10  9 14 10 10  9  9 12  9 10 13 11  9 14  9  9 13  7  9  9  6  9 13\n",
              " [6265] 16  9  9 14 10  9 10  9  4  9 10  9 13  9 11 10 11  7  8 10  9 13 14  9\n",
              " [6289] 10  7 13 13 14 10 11  9  9 12  9  9 13  9 14 10 14 13  9 10 10  9 10  8\n",
              " [6313]  9 13 10  9  9 14  9  9  9  9 13  9 10  9 10  9 10 10 10  9  9  9  9  6\n",
              " [6337]  6 10 10 10 15  9  9 13  9  9 15 15  9 10  9  9  9  9  9 13  6 13 13 12\n",
              " [6361] 13  9 10 10 10 12 10 12 10  7 10 13  9 13  9  9  8  9 13  4  9  5 10  9\n",
              " [6385] 10  9  9  9 13  6  7 13 13  9 10  4  9  4 10 10  9  9  9 13 13  9 16  9\n",
              " [6409] 10 15 12  7  9 10  9  7  9  4 14  9  7 10  5 13 15  6 13  9 10 13  5  6\n",
              " [6433] 14 10 12 11  9  5  9 10 10  9 13  9  9 10 13 13 14 13 10 10 13  6  9 11\n",
              " [6457] 10 10 15  9  9 10 12  9  9 13 13 12  9  9  9 14 10  9  7  9 13 11 14  9\n",
              " [6481]  9  9  8  7  9  9 13 11  9 10  9 13 14  7 10 10 10 13 10  9  9  9 14 10\n",
              " [6505] 12  7 13  9 10  9  9  9 11 10  9 10  6  9 10 10 13  9 10 14 13  9 13  9\n",
              " [6529]  4  9 10  9 14  9  6 14  5 16  9 13 13 13  9 14  6 15 14 10 14  7  9 13\n",
              " [6553] 13  7 10 13  7 13 13  9 12 13 12 10 11 14 13  9 13  9 14 12 14 13  9 14\n",
              " [6577] 10  9 13 10  9  5 14  9  9 13  9  9  9 10 10 14  9  9  9  9  9 13 14 11\n",
              " [6601] 10  8  4  5 13  9 15  9 10 10 13 16 11 13 13  9 11  7  9  6  9 10  9 14\n",
              " [6625] 14  9 11 13  7 13 12  9  9 13  9  9  9  9 11 15 10  9 10  7 11 13 11  9\n",
              " [6649]  7  9 10 13 14  9 10  5 10  9  6  9  9 11  9 13  9  9 13 12 10 13 13 13\n",
              " [6673]  4 13 14 10  4 12  9  7  4  9 13 16  9 13 10  9 10 10 13  6  9 16 10  9\n",
              " [6697]  9  7 14  8  9 10 15  9  9  9  7  9 11 10  9 10 13 14  9 13 13 13 13 10\n",
              " [6721] 14 12 11 13 13 13 13  9 10 13  4 10 10 10 10 10 16  8 10 10  9 13  9 14\n",
              " [6745] 14  9 10  6 10 13 13 13 10 13 13  9 13  9 13 13 10  9 10 11 13 10 16 13\n",
              " [6769] 10 11 13 13  7  9 13  9  9 16 13  9 14 10 12 13 10  9 13  9  9 13  6  9\n",
              " [6793]  9 11  9 14 10 14 12  9 10  6 10  9 16 11 10  9 10 13 11 13  9 10  9 12\n",
              " [6817]  9 10  9  9 13 13 10  9 13  9 13  9 14  5  7 10 10  9 10  9 10 12  9 13\n",
              " [6841] 10 10 11 12 13  9  9  9 10  5 14  9 10  9  9 16 10 13  9 14 10 14 13  9\n",
              " [6865]  9 13 13 15  9 13 14 14  5 13  9 13  9  7 10 13 13  9 10 15  9 10  9  9\n",
              " [6889] 10  9  5 13  9 10 14  9  7 10 10 10  9 11 12 13  9 12 13  5 13 10  9 10\n",
              " [6913] 13 13 16  9 11  6 11  9  9  9 10 10  9  5 13 13 12  7  9  6  9 13  5 10\n",
              " [6937]  9  9 10  9  9 15 13  9 12 10  9 13  9  9 10  9 13 13  7 10  9 13 13  9\n",
              " [6961] 10  9  9  9  9  6  9  8 14 13  5 13 13 10 10  7  9  9 10  9 10 13 10 12\n",
              " [6985] 11 10 12  9  9 14 10  5 14 12  9  9 13 13  9 13 10 11 10 13 13 13 13 11\n",
              " [7009] 10 10  9 15 10  9 10 13  9 13 13  9 13  9 13  9 13  9 13 10 10  9  9 12\n",
              " [7033] 14 10 14  9  9 10 14  9 16  7  9 13  9  9  9 16 13  9 14  9 13 12 16  9\n",
              " [7057] 11  9  9 14 14  9  9  9  5 10 13  9 13 13 12 10  9  9 13 14 11  9 10  9\n",
              " [7081] 11  9 12  9  9  9  9 15  9 12 10  9 13 12 13  8 10  4  9 14  9  7  9  9\n",
              " [7105]  4  9  4 14  9  7 10 12 10 13  9 11 10  9 11 11 10 13 13 15  9  9  7 13\n",
              " [7129]  9  9  8 10 13 12  9  6 13 10  9 12 10 10  9 14 13 10  9  9 11  6  9  9\n",
              " [7153]  9 10  4 10 13 10 10 13  9 13 14  9  9 10 10  9  8  9 10  9  9  9 10  9\n",
              " [7177] 13 13  9  9  4  9  9 10 13  9 10 10  9  9  9 14  9  9 12  9 11  9  4 10\n",
              " [7201] 15  9 10 10  9 13  9 13  9  9  9 13 10 10 16  8  9 10 10 10 13  6 10 10\n",
              " [7225] 10 13 12 10  6  9  9 13 14  7 12  9 14  9 10 11  6 10  9 13  5  9  9 13\n",
              " [7249]  9  4 13 10 13 13 14 10  4  9 10  5 13  9 13  9  9 10  9  9 14  9  9  5\n",
              " [7273] 11 11 11  9  9 12 15 11  9 12  9  6  9 16 13  9 13 15 15  4 11  9  9 10\n",
              " [7297] 13  9 11 10  9 10  8  9  9 10 10  9 10 10  9 10  9 13 14 13  9 10 11  9\n",
              " [7321] 10 11 14 16  9 13  9  4 14 12  9 13 14  9 13 14 10  9 13 13  9 10  9 13\n",
              " [7345]  9 12  9 13  7 10  9 13 16  9 10  9 13 13  9  9  9  9  9  7  9  9  7  9\n",
              " [7369] 13  9 11 14  6  9  9 13 13 14  9 10 13  4  7 11 13  9 16 12  9  9  5  6\n",
              " [7393]  4 16 13 13 13  9 13 13  5 10  9 16 10  9  9  9 10  7 10 13 14 14  9  9\n",
              " [7417] 16  9  8 10  7  9 13 13 14 10 11 13  9 10  5 12 13  9 13  9  9  9  7  9\n",
              " [7441] 10  8  9 13 10 13 14  9  4  5 10 13 12  4 13  9 13 13  9 11 13 13  9  9\n",
              " [7465] 10 15 13 13  9 10 14 14 10 10  9 13  9 13 10 13 13 10 15 12  9  9 10 10\n",
              " [7489] 10 10 13  9 10 10 14 13  9 14 11  9 13 10 10  9  9  9  9  9  5  6  9  6\n",
              " [7513] 10  9 13 10  6 10 11  9  9  7  9  9  9 10  7 11  9  9 14 13 10 13  4  9\n",
              " [7537] 16 13 10  7 13  9 13  9  9 13 13 13 13  9  9 10 10  9  9  9 14 10  9 10\n",
              " [7561] 11 13 13 10  9  8  4  9 10  9 14 11 10 13  9  9 14 10 15  9 10  9  9  8\n",
              " [7585] 14 12 10  9  7 13  7  7 13  6 12 10 16 10 13 13 11 13 13  9 10 12  6 13\n",
              " [7609] 10 13  5 10 13 10 12 10  9 12  4 10 12 13 13 12  9  5  6 14  4  8  7  5\n",
              " [7633] 13 14 11  9  7 11 10  8 10  9 10 10  9  9 13 14 14 13 15  9  9 10  5  9\n",
              " [7657] 13 10  7 10  9 10  9 10  7 12 10  9  9  9  9  5  6  9 13  9 11  9  9  9\n",
              " [7681] 13  9 13  9 10 13 13 13  9 10  9 10  9 15 14  9  9 16  9  5  9 14 11  9\n",
              " [7705] 10 13  7 14 10  9 13  9 10 11 13  7 15 13 10 13 14 10 13 11 10  6 13 13\n",
              " [7729] 14  9  9 10  4 10  9 12 10 13  9 13 10 14  9 14  9  9 10  9 10  9 10  9\n",
              " [7753]  9 15 13  4  7 11  8 10  6  9 10  9  9  9  9 10  7 10  4 10 10 14 14  9\n",
              " [7777] 15  6  9 11 13  7  9 14  9  6  9 11 13  9  9  9 11  9 13  9 10 14  9 14\n",
              " [7801]  9 10  9 10 14  9  9  9  9  9  9  7 13  6  5 13 13  9 13 14 10  9  9 10\n",
              " [7825]  4 13 13  9 10 10  9  9 10 10 10  9  9 10 16 15 13 10 14  9  9  9  9 14\n",
              " [7849] 14  9  9 13  9 10 13  9 10 10  9 10 13  9 13 13  9  4  9  6  9  9  9  9\n",
              " [7873] 10 13  9 13 13  6  6 13  9 10  6 10  9  7 10 10  9  9 13  9 12  9 10  9\n",
              " [7897]  8  4 13  9  6  9 10 16 13 13  9  9  4 10  9  9 13 13 10 13  9 10 10 13\n",
              " [7921]  9 15  9  9 10 12 10  9 10 14 13 10 14 11 10  9  9  9 10 13 11 14  9 10\n",
              " [7945] 11  9  9 14  9 11 11 10 13 10  4  5 10 10  7  8  9 10 14 13 13  9  9 10\n",
              " [7969] 13  9  9  9  9  9 10 11  9  9 11 11 15 13 10  9 12 11  9 13 14 14 10  9\n",
              " [7993]  9 12 15  9  9 10 15 13 13 12  9 10  9 10  9 13 10  9 11 12 13 13  9  9\n",
              " [8017]  8  8  9 13  9 13  9  5  5  9  8  7  9 10 15  6  9  9  9 10  8 10  9  4\n",
              " [8041]  7 10 13 13  9 13  6  9  9 10 10  4 13 13  9  9 13 12 13 13  9 13 10  9\n",
              " [8065]  9 10 13  9  9 14 13  8  6 13 10 10  9 12 13  9 13  9  9 10 13  6 13 12\n",
              " [8089] 13 13 14 14  9 10  5 13 12  9  9 11 13 10 10  9 14  9  9  9 10 10  9  5\n",
              " [8113] 14 16  9 13  9  9 10 14 12 13 10 13 10  9 12 10 10  9 10  9 13 12  9 13\n",
              " [8137] 10 13  9 13 10  9  9  9 10  9 13 10 12 13 13 13 16  9 10  6  9 10 10 10\n",
              " [8161]  9  9  9  4  9  9  5  9 10 15  9 10  5 10  9  9 10 10 13 11 13 13 13 10\n",
              " [8185]  9  9 12  9 14 10  9  9 10  6 13 10 10  5  6 10  9  9 10 10 16 10 10  9\n",
              " [8209] 10 10  6 11  4  9 10  9 10 10 10  7  6 13  7  9 16 13 10  9  9 10  9  9\n",
              " [8233]  6 10  9  9  5 16 13  9  9 10 11  7 11  7  9 10  9 10  9 10  7  9  9 14\n",
              " [8257] 13  9 15 13  9 13 15 10 10  9  9 10 14  9  9 10  9  9 10 13 13 13 14  9\n",
              " [8281] 15 10  6  6 10 12 13  9 10  4 10  9 10 13  9  9 13 10  9 10  9 10 10  9\n",
              " [8305] 10 15 10  7  4 10  7 10 12 13  9 10 10  9 12 10 13  9 13  9 13 13  9 10\n",
              " [8329]  9 13  9  9  9 10 10 10 12  9  9 13 13 10 13 10 12  9 13  9  9  5  8  7\n",
              " [8353]  9  9  9 10  9 10  9 10  9  7 10  9  8  9  9  7 13 10 13 10 10 16 10  9\n",
              " [8377]  9  9  9  9  9 10  9  6  9 12 10 14 14  5 13 12  4  9 13 10  9 10  6  9\n",
              " [8401]  9 13 15 11 11  9  9 13  7 10 10  7 13  9 10 13 14  9  9  9 13 10  9  9\n",
              " [8425] 10  6 10 10 13 10  9  9 10  5  9 13 10  6  9  9 10  9 10  9 14  9  6 12\n",
              " [8449] 13  9  9  6  7 15 13 13  9  9 10  9 14  9 13 10  6  9 12 10 12 13 10 11\n",
              " [8473] 13 13 13 10 13 10  9  9  9  9 13 10 12  9 14  9 13  9 15 10 10  9 10 15\n",
              " [8497]  9 14  9 10  8  9  9 11  9 13 10  9 14 11 10  6 10 10 10  4  4 10  9 14\n",
              " [8521] 10  9 13  9 13  9 13 10 10 10  9  9 13  9  9 13 14 13  9  9  9 13 12 13\n",
              " [8545] 13  9  9 15 10 10  9 13  6 13  9 10  9 10 12 14 13  9 13 10 13 13  9  9\n",
              " [8569] 13 10 16 10 10  4  9  9 13 10  9 10 13 13 10 10  9  9 11  9 12  9  9  9\n",
              " [8593] 10 11 10  9  9 10 11 12  9  6  7  7  4 10  5  9  8 13 10  6  5 13  9 13\n",
              " [8617] 16  9  7 10  7  6 13  9 13  7  9 15 13 10 13  9  7 10 10 13 10  9 10 10\n",
              " [8641]  9  9  9  6 10  7 10 10 14  7 13 10 14  9 13 14  9 10  9  7 14  9 10  9\n",
              " [8665]  9 14  9  9  9  9 10  9 15 13  9  9 14 10 10 13 10  7  9 10 12  9 13 14\n",
              " [8689] 12 11 11 10  5 10  9  9  9 13  9 10 12 14 13  9 13 10 10  9  9 15  9  9\n",
              " [8713] 14 11 14  9  5  7  9  9 11 10 13 10 11  9  9  9 13 10 10  9  9 14 13  9\n",
              " [8737]  9 14  6 11 10 10 10 10 10 14 14  9 10 13 11  6  9  9  9  9  9  9  9  9\n",
              " [8761] 13  9 13 16 13  9  9 11  9 10  6 11  6 13 13 11  9 10 13  9 14 10  7 10\n",
              " [8785]  9 10 10 13  9  9 10 13 10  9  9  9 13 10 11 11  9 12  5 10  6 10  9 11\n",
              " [8809]  7 10  9 13 10 14 10 14 10  9 13  9  9 10  9 11  9 13  9  9 10 13  9  6\n",
              " [8833]  9  7 10  6 15  9  9  9 14  9  6 10  9 10 14  9  9  7 10  9  9  6  7  9\n",
              " [8857]  9 13  9 10 13 13 10  6  6  9  9  9 13 11 12 10 13 13  9 10  6 14  6  7\n",
              " [8881] 13  9 13  9 10 13 10 14  9 16 14 13  9  9  9  6 13  9 10  9  9  9 13 10\n",
              " [8905]  9  9 11 10  9 16 13  9 13  6 10  9 13  6 15 13  9 13  9 10 10  8  9 11\n",
              " [8929] 16 13  9 13 10  7 10  9 14 10 13 14  9  9 10 10 11 10 10 14 10  9  9 13\n",
              " [8953] 12  9 14  5  9  9  5  9 10 13 11  8  9 10  6 13  9 10  9 13 13  6  9 14\n",
              " [8977] 10 13  4  9 13 10  6 13  9  9 13 15 10  9 11  6 10  9  6 10  6 11  9 13\n",
              " [9001]  7  4 13 14 13 10 10 13 13  9  7 11 10 11 10 10  9 13 12 10 12  9  9 13\n",
              " [9025] 11 13 10 12  9  9 10  9  4 10 13 10  9 16  9 14 11 14  9  9  9  7 10 10\n",
              " [9049]  5  9  9 10 11 13 13 14  9 14 14 12 12 11 14 11 11  4  9  9  4 14 11  9\n",
              " [9073] 15 13 10 10 10  9 13 10 14 10 13 10 10  4 14 10 13 14  4 11 14  9  6  9\n",
              " [9097] 10  9  9 10 16  9 12 10  9 13  9 13 10 10 14 15  9 14 10 13 13 10  7 10\n",
              " [9121] 13  9  5 13  6 10 13  9  9 10  9 13  7 13 10 13  9  7 11  9 16  9 13  9\n",
              " [9145] 10 13  7  9  6  9  9 11  9 10 10 10  6 13  4  9 12  9 13 13 14  9 13  9\n",
              " [9169]  9 10 10 10 10  8  9  9 10  9 10 10 15 13 13 13  9  7 10 13  9 13 11 10\n",
              " [9193]  7 14 12  8  9  9  9 13  9 11 14  9  9 15  5 13  4  7 10  9  9 10 10  5\n",
              " [9217] 10  9  9  9 15 14 10 10 10  7  9  9 10  5  9  9  9 13  6 13 10  9  4 15\n",
              " [9241] 10 10  9 13  9  9 13  9 11  9  9 14 10 13  9  9  7  9 13 11  6 14 10  7\n",
              " [9265]  9 10 14  9  7 11  9 13  9 13  9 11 10 10 13 13 10 14 13 13 10  9 13 13\n",
              " [9289]  9 13  9  9 10  9 13 12 10 13  9 11 13  9  9 12  7 10  9 13 13 10 13 11\n",
              " [9313] 10 10 13  9 11  9  7 11  9  6  7  8  5  9 11 10 11  6 10  8  9 10 10  9\n",
              " [9337] 16  9 13  9 10  9 13  8 13  9  9 10  8  9  9 13 10  9 10  9 10 10 10  9\n",
              " [9361] 15 10  9  9  9  9  9 10  9  9 13 13  4  9  9  9  9 10 12 14 10 10 12 10\n",
              " [9385]  9  9  7 10 13  9  9 10 13 10  9 13 10 10 11 13 13 12 10  9 10 10  9  4\n",
              " [9409] 13 13  6 10 10 10 13 11  9  6  9  9 10  9 10 13 10 10 11  9  9 12  9 10\n",
              " [9433] 10  9 10  9  9 10 10 10 10 10 10  9  9  9 13  7 13  9  9  9  9  9  9 13\n",
              " [9457]  9 10 11 12  9  5 10  9  9  9 10  7 10  9  5  7  9  9 13 13 16  6 10 15\n",
              " [9481] 10 13  9 13 13 10 10 14 10 13 13  9 11 13 10  9  7 10 10 13  4 12 13 13\n",
              " [9505]  7  9  9 12 10  9 13 10 13  9  9 12  8 10 10 16  9 10  4  9 10 10 10 14\n",
              " [9529]  4 11  4 13  9 10  9 10 10 15 12  9  9 10 10 10  6 10  9 13  9 10 10 10\n",
              " [9553] 10 10 10 13 16 13  6  6  9 10 13 13 10 10 10  9 14  9 12  9  9  5  7 11\n",
              " [9577] 13  7  9 13  4  9 10  7 10  4 10 10 13 14 15  7 10 10 13 14  9 14 11 10\n",
              " [9601]  9 13  9 10 10 13 10 12 10 12  9 10  9  9  7 14 13  4 13  5  9  9 14 10\n",
              " [9625]  7  5 12  9 10 15 14 11 10 14  9 13 13 13 10  9  9 10 11  7  9  7 10 10\n",
              " [9649] 10 11 10  9 13  9  7 12 13  9  9  9  9  9 13  4 14 10  9  6 13 11 10 13\n",
              " [9673]  4  9  7 12  9  9 10 10 10 13 10  9 13  9 10  8 10  9 13  9 10 13 13  4\n",
              " [9697] 13  9 14 13 10  9  5  9  9 10  7 11  8 11  6 10 10 10  9 10  9  9 12  7\n",
              " [9721] 13 13 11 13 10  9 12  9 10 14  7 13 10  9 11  9 13 10 10 10 10  9  9  9\n",
              " [9745] 10 11  9  6  8 14  9 10 13  9 10 10  9  9  9 11 13 14 10 13 10  9  9 13\n",
              " [9769] 10  7  9  9 10 10  5 12  9  9  9 10  9 10 14  9 10 10  7  9  6  9 13  7\n",
              " [9793]  9 10 16 10 13 10  9  9 12  9 15  9 13 13 10  7 10  9 10 13  6 10  4 13\n",
              " [9817] 13 10 14 10  9  9 10 10  9  9  9 10 15 10  7  9  9 11 13 13 13  9  9 14\n",
              " [9841] 10 15 14 13 13  9  9 13  9  9 10  4  9  7  6  9 10 10 13  9  9  9  6 14\n",
              " [9865] 15  5 10 10  9 13 14  9 10 15  6 13 13 13  9 10  9  9 13  9  9  9  9 11\n",
              " [9889] 10  5 10 16 10 13 10 10  9 10 13  9 14 16 11  9 14 10 13 13  9  9 11 10\n",
              " [9913]  9 10 10 12 10 10  9  9 13  9 12  9  9 10  9  9 10 14 10 13 10  9  6  9\n",
              " [9937]  9  9 11  7  9  9 10 10 11  9 13 10  9  9 14 11 12  9 10 10 11  6  9 13\n",
              " [9961]  9  5 10  8 10 10 13 13  7  9  9  4  9  6  9 10  9  6 14 10  9 13 10  9\n",
              " [9985] 14  9 10 12  9  9  9  9 10 13 10  8  6  9 14  9  8 10 13 14  9  9 10  9\n",
              "[10009] 16 10 16 10 13  9 13  9 12 10 13 10  7  6 10  9  9 13 13 12  9 15  9 10\n",
              "[10033] 13 14  9  9  6  9  9 10  9  5 10 10 10  5 13  9  9  9  4 13  9 13  9 10\n",
              "[10057]  8 14 14 16 10  9  9  9  9 12 13  9 10  9  9  9  6  7  9  6  9 14  9 13\n",
              "[10081]  9 12 11  9 10  4  9 15  9 15 10  9 10  9 10 11  7 13  9  9  7 13  5 10\n",
              "[10105] 12 10  6 13  9  6  5  6 10  9 14  9 12 15  9  5  7 14  9  9 14 15  9 13\n",
              "[10129] 12  9 11  9 11 14  9  7 14 11 12 13 14 10  7  9 10 13 13 13 12 10 10  9\n",
              "[10153] 13  9 13 10 11 15 13 10  7 13 11 13 13  9 14 10 11 13  9 10 13  5 10 13\n",
              "[10177]  9  9 13 14  5 13  7 10 13 10  9  8  9 10  9  9 13 13  9 13 10 13  6 13\n",
              "[10201] 13 10 13 15 13  9 13  9 11 13 11  9  9  9 13 10  4 10  9 13 15  9  9  7\n",
              "[10225] 10  9  7  9  9  9  9  9  9  9  8 14  9  9  4  9 10 13 10 10  9 13 10 10\n",
              "[10249] 10  9  9 15 14  8 10  9  9 14  9 10  9 13 14 12 10  7  9 13 11  9 10 13\n",
              "[10273]  9 16 14  7 13 10  8 13 10  9 13 10 13  9  9 10  7  9  9  9 14  8 13 15\n",
              "[10297] 12 12 10 11 12 15 10  9  9  9  9 11  9 13 10 10 13  7  7  9 10 13  7 10\n",
              "[10321] 10 13 10  9  9 14 10 13  9 13 11  9 15 13 10  4 10  9 13  9  9  9 14 10\n",
              "[10345]  6 10 10  9  5  7 13  6 10  9  9 13 13 10 12 13 13  9 12 10  9 16  9  9\n",
              "[10369]  9 16 11 13 12  9 10 10  9  6  6  5  9 10  7 10  8 10  9 10  5 10 11 14\n",
              "[10393] 10 10  4  6  9 13 10 10 10 11  9 12  9  9 11  9 14  8 12  9  9  4 10  8\n",
              "[10417]  5  4  9 10  7 14 16 10  9 10  9  9  4 13  9  9 12  9 11 12  5 10 10 13\n",
              "[10441] 13  9  8  9  9 12 11  9 13  9  9  5  9 16 10 13  9  9 10 15 14 13 13 15\n",
              "[10465]  9 10  5 13  9  9 11 10 14 10 13 13  9  8  7  9  9 14  9 10 10 13 10  9\n",
              "[10489] 10 13 10 13 10 10 13  9  7 10  9  9 14 10 10 14  6  6  9 13  9  9  9  9\n",
              "[10513]  9 10  9  9  7  7  4  6 14  6  9 11  9 10 11 13  9  4  9  9  4 10  9 10\n",
              "[10537] 13 13 16  9 13 10  9 13  9 10 16  9  9 10  9  9  5 13  9  6  9 10  9 11\n",
              "[10561]  7  9 14  9 10  9 13 11  9 10 10 13 13  7 10  9 13  9 10  9 10  9  9 10\n",
              "[10585] 13 13 14  9 10 13 13 13  9  9 10 13 16  9  9 10 14 10 12 11  9 13 10  9\n",
              "[10609] 10 12 10  8  6 10 13 10 15 13  7  9  9  9 13 10  6  9  9  9 10 13 10 15\n",
              "[10633] 13 10 14 13  9  9  9  9 10 13 10 13 10  9 13 13  9 13 10 13 13 10  9 11\n",
              "[10657]  4 11 10 13 16  4  9  9  9  6  9 10 16 10  9 10  9 10 14  9  9  9 14 10\n",
              "[10681] 12 10 11  7  9 10  4 10  5 13  7 10 13  9  7 10 13  9  7  9 10 10  4 13\n",
              "[10705]  9 10 11  5  9 12  8 13  9 10 13 12 10 13 10  9 10  9  6 15 10 16  8 10\n",
              "[10729] 13 10  8 10  9  7 14 13  9 13  9 10 10 13  6  9 10  9 12  5 13 10 10 10\n",
              "[10753] 12 13 10 11 13  6 10  9 13  6 10  9 10  9 11 13  9 10  9 10  9  9 13 12\n",
              "[10777]  9 13 12 10  9 13 13 11  9 10  9  9  9  9  9 14 15 14 10 13 10  6 13 11\n",
              "[10801]  9 14 11  7  9 10 10 12  6 10  9 10  4 14 12  9 10 13 13 10  6  9 10 10\n",
              "[10825]  9 10  9  9  9 10  9 10  9 13 13  9 10  9  9 13  9  9 15 13  9  9 10 12\n",
              "[10849]  9 10 13  9 13  9 13 16  9 10 13  7  4 10 13 10 13  9 16  7 13  9 16 10\n",
              "[10873]  9 14  9 13 13 10 13 13 13 10 10  7 10 13 10  9 14  9 10 13  9 11  9 12\n",
              "[10897] 16 10  9 10  9  9 10 13 10  4 11  9  5 13 10  5 16 12  9 13  4 16 13 10\n",
              "[10921] 10  9 10  9 12 13  9 10  9  9 10 13 11  4 10 10  6  9  9  9  9 11  9 12\n",
              "[10945] 10 12  9 13  6 13 12 10  4 10  9 14 13  9 10 13  7  6  9 13 15 13  9  9\n",
              "[10969]  9 16 10 10  6 13  9  9  9  9 16  9 13 10  9  9 13  4 13 13 13 14  7 14\n",
              "[10993] 11  5 10  9  9 14  9  9 15  9 14  5 10 10 13 13  9 10  5 10 10  5 15 14\n",
              "[11017] 10 15 15  9 11  4 15 10  9  5  9  9  9 13 10  7 13  9 13  9 13 12  6  9\n",
              "[11041] 13  6 13 10 14 13 10  9  9 10  6  9 10  6 10 13 13  4  9 10 10 13  7  7\n",
              "[11065]  9 10 13  9  7  9  6 10  9  9 13 13 16 11  9 10  9  9  8 14 10  9 10 10\n",
              "[11089] 10  9  9  9 13  9  9  9 14  9 10 16 14 10 15  7  9 10  9 10 11 10  5  7\n",
              "[11113]  9  9  9  9  9 10 13 10 13  9  9  9 13  9 10 10  9 14  7  9  9 10 10 10\n",
              "[11137]  4 10  7 13  9 13  9 10 12  9  9  9 13  9  6  7  7  9  9 13 10  9  9 10\n",
              "[11161] 10  9 13 13 10 10 13  9 13  9 10 10  7 10 16 10 10 12 10 13  9 10  9 15\n",
              "[11185]  9  7  9 10 10  5  6  9 10 10 12 15 13 12 11 10 13  6  5  8 13 13  9 10\n",
              "[11209] 10 11  9 14  9 10  9 12 10 10  7 10  9 13 13 10  9 10 10  9 10  7 13 13\n",
              "[11233] 13 10  6 12 12 10  9  9  6 10 13  7 10  9 11 10 14 10  9  7 13 13  9 10\n",
              "[11257]  5  9 15 14 10 10  9 12  9  9 10  9 11 13 10 10  9 10  9  9  9  9 13 11\n",
              "[11281] 10  9 13 14 13 10 10 13  9  9  4  7  9 11 14  9  9  5 10 10 10 11  9  4\n",
              "[11305]  9 14  9  9  9 14 12 10  9  9 12  4 10 10 10 13 13 11 13 10  7 11  9  9\n",
              "[11329] 14 15 10 10  6  9 13  9  9  9  7  9 16 10 11  7 14  9  9 16 12 12 13 10\n",
              "[11353]  9 12  4  9 13  9 15 15 11 13  9  7 11 13  4 13  6  8 15 10  8  9  9  9\n",
              "[11377] 10 13 10 10  9 13  9 13  9 13 13 14 10 13 16  9  6  4 10 10  9  9 10  9\n",
              "[11401] 11 11 10 11  7 10 10  9 13  9 10  5  9 11 13 10 11 10 12  9  9 13 13 10\n",
              "[11425] 13 14  9 10  9 10 13  6 13  5 13 10 10 13  9  6 13 10  9  9  9  9  9 13\n",
              "[11449]  9  9 14  5  9 10  5 14 10 10  9  6 10 13 10  9  9 10 10  9 14 13  9  9\n",
              "[11473] 11  9 13  9  9  9  7 13 13  9  9 13  4 10  9  9 13 10 13 13  7  9 10  4\n",
              "[11497] 13  9 10 13  9  9  9 10 12  9 13 10 13 10  9 14  9 13  9  9 10 10 14  9\n",
              "[11521] 13 11  9 13 13 13  9 10  7 14 10 14  9 10  9 10  9 11  9 15  9  7 16  4\n",
              "[11545]  9 10 13 10 10 10 12 10 10 10  9 13 10  9 11  9 13  9 13 13 15  7  9 16\n",
              "[11569] 10 10  9 16 10  9 10 10  9  7 13  9 10 14 13 10 13  7 16 10  9 10 10  5\n",
              "[11593] 13 13 13  9  4 10 11  9  9  9  9  4 13  4 14 12 10 10  9  9 10 10 14  9\n",
              "[11617] 10  7  9  9 15 10 13 10  4 10  9 11  9  9 14  9 10 10 13  8 10  9 10  9\n",
              "[11641]  7 10 14 10 10  5 10  9  9  9  6  9 16  9  9  9 14  9 16 16  9  5  9  9\n",
              "[11665]  7  9 10 13 12 13 10  9  9  7  9  9 12 10  7  8  9 13  9 11  9  9 14 12\n",
              "[11689] 11  9 13  9  9 14 13 13  9  9 10 13  9  9 15 10  4  9  7 13  9 16 13 10\n",
              "[11713]  9  4 15  9 14  9 10  6 14 13 10 15 13 10 13 10 12  7 14 16 13 10 13 10\n",
              "[11737] 10  9  9 10 15  9 10 10 13 13 14  5 15  9 10  6  9 14 14 10  9 13  9  4\n",
              "[11761] 14  9 10 13  9 10  9 11 13 13  9 14 10 11 12 10 15  9 10 10 13 16 10 14\n",
              "[11785]  9 12 10  9 13 10  9 10  9  9  5 10 16 13 14  9  7 13 14 14  9  9  6  9\n",
              "[11809]  9 13  9  9 14 10 13  9 13  9 10 10 13 13  9 11 10 12  9  7 12  9 10 10\n",
              "[11833] 14  9 10 10 13  4 10  9 15  9  5  9 14 11 11  9  5 10 10  9 10  9 13 10\n",
              "[11857] 10  6 10 11  4  9  9  9  9  9 10 13  6 13  9 13 10  9 13  9 13  9  9 10\n",
              "[11881] 10  9 10  9 12  7 11  9 10  9  9 13  9  9 14 10 13 14 10  9  9  9 10 13\n",
              "[11905] 16 12  9  9 10 10 10 13  9 10  7 10  9 14 12 10  9 10  9 12  9  9 14 11\n",
              "[11929] 13 10  9  9  9 10  9 11 13 13  9 10 15 13 13  9  9 14  4  9  7 10  9 10\n",
              "[11953]  6  4 13 10 13  9 10 14 13 10  9 12 10  6  9 13  9  9 10  9 10  9  9  9\n",
              "[11977]  9 13 13 13 14 10 12 10  9 10 14  9  9  6  9 14 10 13 11 10  9  9  9  9\n",
              "[12001]  7  7 13 13  9 10 10 14  5  9  9  5 10 10 13  9 13  9 11  9 10 12 10 12\n",
              "[12025]  9  9  9  9 13  9  9  9  9  7 13 12 13 13 10  9 13  8 13 15  9 13  6  5\n",
              "[12049] 10 10  9 13 13 13  7  7  9 15 13  9 13 14 10  9  7 15 10 13  9  9 10 14\n",
              "[12073]  8 13 14 13  9 10  7  9  9 11 10  9 14 10  9 13  4 10  9 10 11  9 13 10\n",
              "[12097] 11  7 11 11 10 10  9 13 13 12  9 13  9  9 11  9 10 13  9 13 13 10  9 10\n",
              "[12121] 13 10  9 13  9  4 10  9 13  6 10 10  9 13 12  9 13  9 14 10  8 14 14 11\n",
              "[12145]  8 13  9 13  9 13  9 10 13  9 15 10 14 13 10  9  9 13 14  9 13 16 13  8\n",
              "[12169] 10  9  9  9 10 13  9 10 14  9  9 10  9  9  9 13 10  6  9  9 10  9 11 10\n",
              "[12193]  9 10  9 13 10 13  9 13  9 10 13 10  6  9 12  9  9 10 14 14 13 10 10  9\n",
              "[12217] 10  8  9  9  9  9  9  9  7  7  9  9 14 12 10  9 13 12 11  7 10 10 13 16\n",
              "[12241] 13  9  9  4  9 11 10 14 13 13  7 10  9  6  9  9 11 10 14 10  9 10 10 13\n",
              "[12265] 14  9 10  7 10 10 16 13  9  9  9  9 14 13 13  9  8  9 10  9  9  9  9  9\n",
              "[12289]  8  9 10 10 13 13 10  4 10 13 12 10 10 10  9 11 12 10 10 10 13  9 10 15\n",
              "[12313] 10 12 10  9  8  5  9 13 14  4 13 13  7 10 13 12  9 13  9  9 10 13  9 13\n",
              "[12337] 10  9  9  9 10  9  6 10 10 13 11 10 10  9  4 13 10  9 10  4 11  9 11 10\n",
              "[12361] 13  9  9  9 10 10 15  9  7 11 11 10  9 14 14 14 13 10 13  6  9 12 13 13\n",
              "[12385] 13 13 10  7  9 12  9 11  9  9  6  9 10  6  9  9 10  7 14  8 13  9 13  9\n",
              "[12409] 10 10  9 10  9  9 10 11 12 13 13 13  9  5  7 11 10  7 10  9  9  5  8 10\n",
              "[12433] 13  9  9  6 10  4 15  9 10 10 10 10 10 14 13 10 10  9  9 10  9 13  9 13\n",
              "[12457]  9 12 13  9 13 10  9 10 13  7  5 15 15  9 14 14  9  9 14  9 10 10  9 10\n",
              "[12481]  9  9 15  9  9 12 13  6 13 10  7 13  9  9  4 10 10 13 13 13  9 10 14  9\n",
              "[12505] 10 10 11 14  9 11 10 11 10 13 13 11  9  9  9 14  9  9  9 10 10  9  9 12\n",
              "[12529]  5 13 10  9 10  4 10 13 10  9  9  9 13 11  9  9  9 14  9  9  9  9  9 10\n",
              "[12553]  9  9  8  9 10  9 13 10  9 10  9  9  9  5  4 13 12 10 13 13 13 14  9 14\n",
              "[12577] 13 10  5  9 10 10  9 14 13  9  9  9  7 13  9 10 10  9  7  9 10  9  9 10\n",
              "[12601] 10  9 12  4  9  8  9 10  9  8 10 13 13  9  9  9 10 10  9  9  9  9 16  9\n",
              "[12625] 10  9  6 16  9 14  9 13 10  9  7  9 11 13  9  9 10  9  9  9  9 10 10  9\n",
              "[12649] 10 10  9 14 14  5 13 14 10  7 13  9  9 10 13  4 14 13 10  9  9  9  9 10\n",
              "[12673] 11 13 10  9 10  9 10 13 10  9  9  9 13  9  9  9 13  9 10 10 10  9 10  9\n",
              "[12697]  6 10  9  9  9  7  9  5  9 14 13  9 11  9 10 13 10  9 14 11 13  9 13 13\n",
              "[12721]  9  9  9 13  9 13 12  9 13  5  9 11  9  4 12 10 16 13 12  9 11 10  4  6\n",
              "[12745]  9  7 13 10  6  9 13  9 13 12 10 14 11 14 13  7  9  6 10 13  9 10 13 10\n",
              "[12769]  9  9 13 13 10 12  9 11  9  9  9 10  9 16  9  7  9  7  9 10 13 11  9 11\n",
              "[12793]  9 15 10  9  9  7 11  9  9 10 10  5 10 16 14 14 11  9 10 14 13  7 11 14\n",
              "[12817] 10 10  9 13  6 14  9 10 10  9 12  9  7  9 11 13 13  7  7 10 10  9 16 13\n",
              "[12841] 10  9  9  9  7  4  7 10  6  6  9 11  9 10 14 10 13  9 10 13 10 10 10 10\n",
              "[12865]  9 10 10  4 10  9  9  9 13 14  9 10  9 10  9  6 10 13 13 13 10 13 10  9\n",
              "[12889] 10 14  9 12 10 10 13 14 10  9  9 13  7  9  7 11 13 10  9  9 10 10  9  4\n",
              "[12913] 10  6 12 10 10 12 13 10  9 10 10 13  4  9  9 10  9 10 13  4 10 14  5  9\n",
              "[12937]  9  5  9 10 13 10  6  9 14 10 10  9 13  9  9  9 10  5  9 13 10 10 14 16\n",
              "[12961]  9 13 10  9 10  9 10 10  4 10 10 13  9  6  9 11 13 11  9 10 10  4 10  9\n",
              "[12985]  9  9 13 10 10 10  9  9  4  5 13 11 10 10  9 10  6  9 13 10  9 11  9 10\n",
              "[13009]  7  5 16  9 10 14 16  5 13  7 10 10 13 11  6  9  9  9  9 13  4  9 13 10\n",
              "[13033] 10 13 10  9  9 13 14 10 10 10  9  9 10 11  9 12 10 10  7 10  6  9 13 13\n",
              "[13057] 10  4  9  9 10  9 15  9 11 10 13  9  9 13  5 10 13 13 14 10 10 10  9  9\n",
              "[13081] 13 12 10 10 14 15  9  9 12 10  9 10 14 13  9 13 10  9 13 15 10 10  9  9\n",
              "[13105] 13  9 10  9  9  9 15 12 13 10 10 13  9  9  9 10 13 10  9 10  9  9 10  9\n",
              "[13129] 10 12  9 12  9  9 11 11  9 13 13  7  6  9 10 10 10  9 10  9 15 10  4 13\n",
              "[13153] 13  9 10  4 13 10 10  9  9  8 14 11  9 12  9 13 13 11  9  9  9 13 10 13\n",
              "[13177] 10 10  9  9 10 10 10 10 10 16 10  9  5 11 10  9 14 13 10  9 10 10 13  9\n",
              "[13201]  9 13 10  9  7 13 11 10 10 10 13  9  9 13  9  9  7 12 15 10 13 14  9 10\n",
              "[13225] 13  9  9 13 11 11 13  5 12 10 11  9  7 11 10 10 10 10 13  4 12 14  9  6\n",
              "[13249]  9 12 11  9 10  9 13 13 13 10 12 15  9  9  9 13 10  9  9 10  9  8 13 10\n",
              "[13273] 10  9  7  9 13 13 12 11 13  9 12  9 11 10 10 13 13  6 15 10  7 10 15  9\n",
              "[13297]  7 10 10 10  5  9  9 10  9 10  9 10 12  9 14 10 10  9 10  9 15 13  9 14\n",
              "[13321] 14  9 10  9 11  9 14 10  6  6  7  9  9 13  9 10 10 10 10  9  9  9  7 10\n",
              "[13345] 13  9 13  6 14 10 13 14 10  9 10  9 10 12  7 13  9  9 13  6 14  9 13 12\n",
              "[13369] 10  7  9 10  9 10  9 14 10 13 16 10  7  9 10 10  9 10 12  9  9 13 10  9\n",
              "[13393] 13  9 14  9  9  9  9  8 11 10 10  9 14  9 11  7 10 13 13  6 11  9  9 13\n",
              "[13417]  9  6  9  9  7 13  9  9  9 13  7  4  9 14 13 12 10 10  9 10  9 10 13  5\n",
              "[13441] 13 10 16  9  9  9 14 12  9  5 11  9  8  9 13  9 10 10  7  7 13 15  4  7\n",
              "[13465]  6 11  9 14 13 13  9 10 10  8 10  9 10  9  7  9  9  9 10 15  9 10  9  8\n",
              "[13489] 13 13 10 14  9 10  9 10 10 13  9 15  9 10  5  4 13 13  9 10  9 11  9  4\n",
              "[13513]  9 13 13  9 10  6  9  9  9  7  7  9 16 13  9  9 11  9 11  9  9  9 10  9\n",
              "[13537]  9  9 14 12  9  9 14  9  9 12  6 10  9  6  9 10 14  9 13  7 11 11 10  9\n",
              "[13561]  9 13 13  9  9  9  9 13  9  9  9 10  9  9  9 13  9 13  9 11 10 13  9  9\n",
              "[13585] 10 10  9 10  9 10  9 14  6 10  7  9 10 10 10  9  9 10 10  8 10 13  9 10\n",
              "[13609]  9 13 10 14 12  5 16  9 11 13 10  7  9 14  9 10  9 16 13  7 12 10 12 10\n",
              "[13633] 12  5  9  9  9  9  9 13 14 11  9  4 10 13  9 10  9  7 11 10 13  9  9 13\n",
              "[13657]  9 10 13  6 13  9  7 13 11  9  9 13  9  9 10 13  9  9  5 13 13 13  4 16\n",
              "[13681] 12 10  8  9 13 12  9 10 13 14 10  9  9  9  5 10 13  7 10 10  9  9 10 13\n",
              "[13705] 13 10 12 10  6  9  9  9  9 13  9  9  5 10  9 10  9 12  9 10 15  9  9  9\n",
              "[13729] 10  9 10 11 10  6  7  9 10  6  9 15 10 12  9 10 12  9 13 10  9  9 13 13\n",
              "[13753]  7 13 11 10  7 12  6  9  9  9  9  9  9 11 13 14 13  9  9  9 10  9  9 11\n",
              "[13777] 15 10  9 10 10  5 13  9 10 12 10 13 10 16  9 11  9  9  4 10  9  7  9 13\n",
              "[13801]  9 13  9  9  9 10 14  9 10 13  7  9  9  9 11  9 10 16 12 13 13 12 10  9\n",
              "[13825] 13  9 14  4 14 10  8  9  4  9 10  9  9 16 10  9 13 11 10 14  9 13  5 10\n",
              "[13849] 10 12 10  7  9 14 14 10 10  7  9  9 12 14  6 13 14  8  9 10  5  9  9 10\n",
              "[13873]  9 10  9  9 13 10  6  5 10 14 10  6  9  9 14 15 11 10  5  9 13 13 11 10\n",
              "[13897]  9  9 10 13 13  9  9 16  9 13 10 10  9  8 11  9 10 10 10 10 15 11 10  9\n",
              "[13921]  9  9  6 10  5  9  7  9  9  8 10 13 12 10  9 15 13  9  9  6 13  9  9 15\n",
              "[13945]  9 10 13 10  9 11 13  9 11  9  5 13 13 13 10  9  9  9  9 12  9  9 11 10\n",
              "[13969] 13  7 10 10 10 10 11 12  9 13  9  9 13  9 10  9 10  9 14  9 14  9 13 13\n",
              "[13993] 10  9 15 13  9 10 13  9 14 10  9  9 14 13 13 13 10 10  9 13 15  9 14  6\n",
              "[14017]  9 14 10 10  9 14  9 10  9 14 14  9  9 10  9  7  9 12 10  4 14 10 15  9\n",
              "[14041]  9  9 10 13  6 10 10  9 13  9 11 13 13 16 11 10 13 10  9 11 12  9  9 10\n",
              "[14065] 10 10 13  9  9 10 13  8  9  9 16 13  9  9 16  9  9  7  9 15 10  9  9 11\n",
              "[14089]  5  6 12 10  8 13 12  9 10 16  9  9  9  9  5  9 10  9  9  9 13 13  9  9\n",
              "[14113] 10  9 13  9  9 13 14 13 10  9 10  9 10  9  9  9  9  9  9  7 10 10 10  9\n",
              "[14137] 12 10  9  8  9 12 13 10 10  9 10  9  4 10 14 11  7 16 12 13 10 12 13 15\n",
              "[14161] 15 15  7 13 10 10  9  9  9 13  9 13 10  9 16 13 12 15 10 13 10  9  9  9\n",
              "[14185] 14  9 15 14 13 12  9 10  4 14 10  5 15  9 11  9 12 10 10 13 11 15 10  9\n",
              "[14209]  9  9  9 10  9  9  9 13  9 10  9 14  8 10  6 14  6  8 14  9 10  9  9 13\n",
              "[14233] 10  4 10 13  9  9 10 10 13  9 10  5 10  7  9 11  7  9  9  8  9  9 16  9\n",
              "[14257] 13 10 13 10  9 10 10 11 10 10 10  8 10 10 12 10  9  9  9 13 13  9 10 12\n",
              "[14281]  9  9  9 14 10  4  9  7 13 13  9 11 13 10 13 14  9 10 13 10 10 16 10 13\n",
              "[14305]  8  9  9  4 13  5 13 10 10  9  9 13 11  9 10  4  9 10 10 12  5  9  9  9\n",
              "[14329] 10  9 13 10 14 15 10  9 14 14  9 13  8 10  9 13 13  9  6  9 12  9 10  9\n",
              "[14353]  9  8  9  9  9 10 14 10 10 11  9  9  9 16  9 10 11  9 10 10  9 12 10 11\n",
              "[14377]  9 13  9  9 13 13 13  9  9 15  6 10  9 14 11  9 10 10  9  8  9  7 13 12\n",
              "[14401]  5  9 10 10 10  9 13  9 13  6 10 14  8 10  9 10  9  9 10  9 10 13  8  9\n",
              "[14425]  9  9 14  8 13  7 11  9  6 11 10 10 14  9  9 11  9  9  9  9  5  9 10 12\n",
              "[14449] 10  8  9  9  9  9 13 10  4 10  9 12 13  9  7 13  9  9 13  9 14 13 10  9\n",
              "[14473]  9  4 14 10  7 13  9 13  9  9  9 15  9 16 16 10  8  8  4 14 11 10 10 10\n",
              "[14497]  9  9  7  9  9  5 13  6  9  9 14 11  6 10  9  7  9  6 10 16  8 13 12 12\n",
              "[14521] 12 15 10 10  6 14  9  9"
            ]
          },
          "metadata": {}
        },
        {
          "output_type": "stream",
          "name": "stdout",
          "text": [
            "\n",
            "\n",
            "The scaled education values that are NOT outliers: \n",
            "\n"
          ]
        },
        {
          "output_type": "display_data",
          "data": {
            "text/html": [
              "<style>\n",
              ".list-inline {list-style: none; margin:0; padding: 0}\n",
              ".list-inline>li {display: inline-block}\n",
              ".list-inline>li:not(:last-child)::after {content: \"\\00b7\"; padding: 0 .5ex}\n",
              "</style>\n",
              "<ol class=list-inline><li>2</li><li>1</li><li>2</li><li>3</li><li>2</li><li>3</li><li>3</li><li>2</li><li>2</li><li>3</li><li>3</li><li>2</li><li>3</li><li>3</li><li>2</li><li>3</li><li>3</li><li>2</li><li>3</li><li>2</li><li>3</li><li>1</li><li>1</li><li>3</li><li>3</li><li>2</li><li>3</li><li>3</li><li>1</li><li>3</li><li>3</li><li>2</li><li>1</li><li>2</li><li>3</li><li>3</li><li>3</li><li>3</li><li>3</li><li>2</li><li>3</li><li>3</li><li>3</li><li>3</li><li>2</li><li>2</li><li>2</li><li>2</li><li>3</li><li>1</li><li>1</li><li>2</li><li>2</li><li>1</li><li>1</li><li>1</li><li>3</li><li>2</li><li>2</li><li>1</li><li>3</li><li>2</li><li>3</li><li>3</li><li>2</li><li>3</li><li>3</li><li>3</li><li>3</li><li>3</li><li>3</li><li>3</li><li>3</li><li>2</li><li>3</li><li>3</li><li>3</li><li>3</li><li>3</li><li>3</li><li>3</li><li>3</li><li>3</li><li>1</li><li>2</li><li>3</li><li>3</li><li>3</li><li>1</li><li>2</li><li>3</li><li>3</li><li>2</li><li>3</li><li>3</li><li>2</li><li>3</li><li>2</li><li>2</li><li>3</li><li>2</li><li>3</li><li>3</li><li>3</li><li>2</li><li>2</li><li>2</li><li>3</li><li>3</li><li>3</li><li>3</li><li>2</li><li>2</li><li>3</li><li>3</li><li>2</li><li>3</li><li>2</li><li>3</li><li>2</li><li>2</li><li>3</li><li>3</li><li>3</li><li>3</li><li>2</li><li>2</li><li>2</li><li>2</li><li>3</li><li>2</li><li>1</li><li>3</li><li>2</li><li>3</li><li>3</li><li>2</li><li>3</li><li>3</li><li>3</li><li>3</li><li>3</li><li>3</li><li>2</li><li>3</li><li>3</li><li>3</li><li>3</li><li>2</li><li>2</li><li>3</li><li>2</li><li>2</li><li>2</li><li>2</li><li>3</li><li>3</li><li>2</li><li>3</li><li>3</li><li>3</li><li>3</li><li>3</li><li>2</li><li>3</li><li>3</li><li>3</li><li>1</li><li>3</li><li>2</li><li>1</li><li>3</li><li>1</li><li>3</li><li>3</li><li>3</li><li>1</li><li>3</li><li>3</li><li>2</li><li>3</li><li>3</li><li>3</li><li>3</li><li>3</li><li>3</li><li>3</li><li>3</li><li>3</li><li>3</li><li>1</li><li>2</li><li>1</li><li>1</li><li>3</li><li>1</li><li>3</li><li>3</li><li>3</li><li>2</li><li>3</li><li>1</li><li>3</li><li>2</li><li>3</li><li>2</li><li>3</li><li>2</li><li>3</li><li>2</li><li>3</li><li>3</li><li>3</li><li>3</li><li>3</li><li>3</li><li>3</li><li>3</li><li>3</li><li>2</li><li>3</li><li>3</li><li>2</li><li>2</li><li>2</li><li>2</li><li>3</li><li>3</li><li>3</li><li>2</li><li>3</li><li>2</li><li>3</li><li>3</li><li>3</li><li>3</li><li>2</li><li>3</li><li>2</li><li>2</li><li>2</li><li>3</li><li>2</li><li>2</li><li>2</li><li>2</li><li>3</li><li>3</li><li>3</li><li>3</li><li>3</li><li>3</li><li>2</li><li>2</li><li>2</li><li>3</li><li>2</li><li>2</li><li>2</li><li>3</li><li>2</li><li>2</li><li>3</li><li>2</li><li>1</li><li>3</li><li>3</li><li>2</li><li>3</li></ol>\n"
            ],
            "text/markdown": "1. 2\n2. 1\n3. 2\n4. 3\n5. 2\n6. 3\n7. 3\n8. 2\n9. 2\n10. 3\n11. 3\n12. 2\n13. 3\n14. 3\n15. 2\n16. 3\n17. 3\n18. 2\n19. 3\n20. 2\n21. 3\n22. 1\n23. 1\n24. 3\n25. 3\n26. 2\n27. 3\n28. 3\n29. 1\n30. 3\n31. 3\n32. 2\n33. 1\n34. 2\n35. 3\n36. 3\n37. 3\n38. 3\n39. 3\n40. 2\n41. 3\n42. 3\n43. 3\n44. 3\n45. 2\n46. 2\n47. 2\n48. 2\n49. 3\n50. 1\n51. 1\n52. 2\n53. 2\n54. 1\n55. 1\n56. 1\n57. 3\n58. 2\n59. 2\n60. 1\n61. 3\n62. 2\n63. 3\n64. 3\n65. 2\n66. 3\n67. 3\n68. 3\n69. 3\n70. 3\n71. 3\n72. 3\n73. 3\n74. 2\n75. 3\n76. 3\n77. 3\n78. 3\n79. 3\n80. 3\n81. 3\n82. 3\n83. 3\n84. 1\n85. 2\n86. 3\n87. 3\n88. 3\n89. 1\n90. 2\n91. 3\n92. 3\n93. 2\n94. 3\n95. 3\n96. 2\n97. 3\n98. 2\n99. 2\n100. 3\n101. 2\n102. 3\n103. 3\n104. 3\n105. 2\n106. 2\n107. 2\n108. 3\n109. 3\n110. 3\n111. 3\n112. 2\n113. 2\n114. 3\n115. 3\n116. 2\n117. 3\n118. 2\n119. 3\n120. 2\n121. 2\n122. 3\n123. 3\n124. 3\n125. 3\n126. 2\n127. 2\n128. 2\n129. 2\n130. 3\n131. 2\n132. 1\n133. 3\n134. 2\n135. 3\n136. 3\n137. 2\n138. 3\n139. 3\n140. 3\n141. 3\n142. 3\n143. 3\n144. 2\n145. 3\n146. 3\n147. 3\n148. 3\n149. 2\n150. 2\n151. 3\n152. 2\n153. 2\n154. 2\n155. 2\n156. 3\n157. 3\n158. 2\n159. 3\n160. 3\n161. 3\n162. 3\n163. 3\n164. 2\n165. 3\n166. 3\n167. 3\n168. 1\n169. 3\n170. 2\n171. 1\n172. 3\n173. 1\n174. 3\n175. 3\n176. 3\n177. 1\n178. 3\n179. 3\n180. 2\n181. 3\n182. 3\n183. 3\n184. 3\n185. 3\n186. 3\n187. 3\n188. 3\n189. 3\n190. 3\n191. 1\n192. 2\n193. 1\n194. 1\n195. 3\n196. 1\n197. 3\n198. 3\n199. 3\n200. 2\n201. 3\n202. 1\n203. 3\n204. 2\n205. 3\n206. 2\n207. 3\n208. 2\n209. 3\n210. 2\n211. 3\n212. 3\n213. 3\n214. 3\n215. 3\n216. 3\n217. 3\n218. 3\n219. 3\n220. 2\n221. 3\n222. 3\n223. 2\n224. 2\n225. 2\n226. 2\n227. 3\n228. 3\n229. 3\n230. 2\n231. 3\n232. 2\n233. 3\n234. 3\n235. 3\n236. 3\n237. 2\n238. 3\n239. 2\n240. 2\n241. 2\n242. 3\n243. 2\n244. 2\n245. 2\n246. 2\n247. 3\n248. 3\n249. 3\n250. 3\n251. 3\n252. 3\n253. 2\n254. 2\n255. 2\n256. 3\n257. 2\n258. 2\n259. 2\n260. 3\n261. 2\n262. 2\n263. 3\n264. 2\n265. 1\n266. 3\n267. 3\n268. 2\n269. 3\n\n\n",
            "text/latex": "\\begin{enumerate*}\n\\item 2\n\\item 1\n\\item 2\n\\item 3\n\\item 2\n\\item 3\n\\item 3\n\\item 2\n\\item 2\n\\item 3\n\\item 3\n\\item 2\n\\item 3\n\\item 3\n\\item 2\n\\item 3\n\\item 3\n\\item 2\n\\item 3\n\\item 2\n\\item 3\n\\item 1\n\\item 1\n\\item 3\n\\item 3\n\\item 2\n\\item 3\n\\item 3\n\\item 1\n\\item 3\n\\item 3\n\\item 2\n\\item 1\n\\item 2\n\\item 3\n\\item 3\n\\item 3\n\\item 3\n\\item 3\n\\item 2\n\\item 3\n\\item 3\n\\item 3\n\\item 3\n\\item 2\n\\item 2\n\\item 2\n\\item 2\n\\item 3\n\\item 1\n\\item 1\n\\item 2\n\\item 2\n\\item 1\n\\item 1\n\\item 1\n\\item 3\n\\item 2\n\\item 2\n\\item 1\n\\item 3\n\\item 2\n\\item 3\n\\item 3\n\\item 2\n\\item 3\n\\item 3\n\\item 3\n\\item 3\n\\item 3\n\\item 3\n\\item 3\n\\item 3\n\\item 2\n\\item 3\n\\item 3\n\\item 3\n\\item 3\n\\item 3\n\\item 3\n\\item 3\n\\item 3\n\\item 3\n\\item 1\n\\item 2\n\\item 3\n\\item 3\n\\item 3\n\\item 1\n\\item 2\n\\item 3\n\\item 3\n\\item 2\n\\item 3\n\\item 3\n\\item 2\n\\item 3\n\\item 2\n\\item 2\n\\item 3\n\\item 2\n\\item 3\n\\item 3\n\\item 3\n\\item 2\n\\item 2\n\\item 2\n\\item 3\n\\item 3\n\\item 3\n\\item 3\n\\item 2\n\\item 2\n\\item 3\n\\item 3\n\\item 2\n\\item 3\n\\item 2\n\\item 3\n\\item 2\n\\item 2\n\\item 3\n\\item 3\n\\item 3\n\\item 3\n\\item 2\n\\item 2\n\\item 2\n\\item 2\n\\item 3\n\\item 2\n\\item 1\n\\item 3\n\\item 2\n\\item 3\n\\item 3\n\\item 2\n\\item 3\n\\item 3\n\\item 3\n\\item 3\n\\item 3\n\\item 3\n\\item 2\n\\item 3\n\\item 3\n\\item 3\n\\item 3\n\\item 2\n\\item 2\n\\item 3\n\\item 2\n\\item 2\n\\item 2\n\\item 2\n\\item 3\n\\item 3\n\\item 2\n\\item 3\n\\item 3\n\\item 3\n\\item 3\n\\item 3\n\\item 2\n\\item 3\n\\item 3\n\\item 3\n\\item 1\n\\item 3\n\\item 2\n\\item 1\n\\item 3\n\\item 1\n\\item 3\n\\item 3\n\\item 3\n\\item 1\n\\item 3\n\\item 3\n\\item 2\n\\item 3\n\\item 3\n\\item 3\n\\item 3\n\\item 3\n\\item 3\n\\item 3\n\\item 3\n\\item 3\n\\item 3\n\\item 1\n\\item 2\n\\item 1\n\\item 1\n\\item 3\n\\item 1\n\\item 3\n\\item 3\n\\item 3\n\\item 2\n\\item 3\n\\item 1\n\\item 3\n\\item 2\n\\item 3\n\\item 2\n\\item 3\n\\item 2\n\\item 3\n\\item 2\n\\item 3\n\\item 3\n\\item 3\n\\item 3\n\\item 3\n\\item 3\n\\item 3\n\\item 3\n\\item 3\n\\item 2\n\\item 3\n\\item 3\n\\item 2\n\\item 2\n\\item 2\n\\item 2\n\\item 3\n\\item 3\n\\item 3\n\\item 2\n\\item 3\n\\item 2\n\\item 3\n\\item 3\n\\item 3\n\\item 3\n\\item 2\n\\item 3\n\\item 2\n\\item 2\n\\item 2\n\\item 3\n\\item 2\n\\item 2\n\\item 2\n\\item 2\n\\item 3\n\\item 3\n\\item 3\n\\item 3\n\\item 3\n\\item 3\n\\item 2\n\\item 2\n\\item 2\n\\item 3\n\\item 2\n\\item 2\n\\item 2\n\\item 3\n\\item 2\n\\item 2\n\\item 3\n\\item 2\n\\item 1\n\\item 3\n\\item 3\n\\item 2\n\\item 3\n\\end{enumerate*}\n",
            "text/plain": [
              "  [1] 2 1 2 3 2 3 3 2 2 3 3 2 3 3 2 3 3 2 3 2 3 1 1 3 3 2 3 3 1 3 3 2 1 2 3 3 3\n",
              " [38] 3 3 2 3 3 3 3 2 2 2 2 3 1 1 2 2 1 1 1 3 2 2 1 3 2 3 3 2 3 3 3 3 3 3 3 3 2\n",
              " [75] 3 3 3 3 3 3 3 3 3 1 2 3 3 3 1 2 3 3 2 3 3 2 3 2 2 3 2 3 3 3 2 2 2 3 3 3 3\n",
              "[112] 2 2 3 3 2 3 2 3 2 2 3 3 3 3 2 2 2 2 3 2 1 3 2 3 3 2 3 3 3 3 3 3 2 3 3 3 3\n",
              "[149] 2 2 3 2 2 2 2 3 3 2 3 3 3 3 3 2 3 3 3 1 3 2 1 3 1 3 3 3 1 3 3 2 3 3 3 3 3\n",
              "[186] 3 3 3 3 3 1 2 1 1 3 1 3 3 3 2 3 1 3 2 3 2 3 2 3 2 3 3 3 3 3 3 3 3 3 2 3 3\n",
              "[223] 2 2 2 2 3 3 3 2 3 2 3 3 3 3 2 3 2 2 2 3 2 2 2 2 3 3 3 3 3 3 2 2 2 3 2 2 2\n",
              "[260] 3 2 2 3 2 1 3 3 2 3"
            ]
          },
          "metadata": {}
        }
      ]
    },
    {
      "cell_type": "code",
      "source": [
        "df_aducltAbove80<- subset(df,age>80)"
      ],
      "metadata": {
        "id": "mv7ncvFNtXR3"
      },
      "execution_count": 106,
      "outputs": []
    },
    {
      "cell_type": "code",
      "source": [
        "#Plotting histogram for Age\n",
        "hist(df_aducltAbove80$age)"
      ],
      "metadata": {
        "id": "xZdcQ0oMt2CF",
        "outputId": "133129c9-4a30-42e1-bb13-9766990e181e",
        "colab": {
          "base_uri": "https://localhost:8080/",
          "height": 437
        }
      },
      "execution_count": 107,
      "outputs": [
        {
          "output_type": "display_data",
          "data": {
            "text/plain": [
              "Plot with title “Histogram of df_aducltAbove80$age”"
            ],
            "image/png": "[encoded data removed]"
          },
          "metadata": {
            "image/png": {
              "width": 420,
              "height": 420
            }
          }
        }
      ]
    },
    {
      "cell_type": "code",
      "source": [
        ""
      ],
      "metadata": {
        "id": "cT6b4DKEt7K8"
      },
      "execution_count": null,
      "outputs": []
    }
  ]
}