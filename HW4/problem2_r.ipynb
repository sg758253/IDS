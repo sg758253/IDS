{
  "nbformat": 4,
  "nbformat_minor": 0,
  "metadata": {
    "colab": {
      "name": "problem2_r.ipynb",
      "provenance": [],
      "authorship_tag": "ABX9TyPCfoALLHmGNkH5sQzZ/Tpq",
      "include_colab_link": true
    },
    "kernelspec": {
      "name": "ir",
      "display_name": "R"
    },
    "language_info": {
      "name": "R"
    }
  },
  "cells": [
    {
      "cell_type": "markdown",
      "metadata": {
        "id": "view-in-github",
        "colab_type": "text"
      },
      "source": [
        "<a href=\"https://colab.research.google.com/github/sg758253/IDS/blob/main/HW4/problem2_r.ipynb\" target=\"_parent\"><img src=\"https://colab.research.google.com/assets/colab-badge.svg\" alt=\"Open In Colab\"/></a>"
      ]
    },
    {
      "cell_type": "code",
      "execution_count": 7,
      "metadata": {
        "id": "ZFP8gxOD-SSv"
      },
      "outputs": [],
      "source": [
        "# import csv\n",
        "library(readr)\n"
      ]
    },
    {
      "cell_type": "code",
      "source": [
        "df <- read_csv(\"https://raw.githubusercontent.com/sg758253/IDS/main/HW4/nutrition_subset.csv\")"
      ],
      "metadata": {
        "id": "MJ8CHFGpHaYr",
        "outputId": "77fce028-3b7b-4df7-e479-32f6c7870d46",
        "colab": {
          "base_uri": "https://localhost:8080/"
        }
      },
      "execution_count": 8,
      "outputs": [
        {
          "output_type": "stream",
          "name": "stderr",
          "text": [
            "\u001b[1mRows: \u001b[22m\u001b[34m961\u001b[39m \u001b[1mColumns: \u001b[22m\u001b[34m4\u001b[39m\n",
            "\u001b[36m──\u001b[39m \u001b[1mColumn specification\u001b[22m \u001b[36m────────────────────────────────────────────────────────\u001b[39m\n",
            "\u001b[1mDelimiter:\u001b[22m \",\"\n",
            "\u001b[31mchr\u001b[39m (1): food_item\n",
            "\u001b[32mdbl\u001b[39m (3): weight_in_grams, saturated_fat, cholesterol\n",
            "\n",
            "\u001b[36mℹ\u001b[39m Use `spec()` to retrieve the full column specification for this data.\n",
            "\u001b[36mℹ\u001b[39m Specify the column types or set `show_col_types = FALSE` to quiet this message.\n"
          ]
        }
      ]
    },
    {
      "cell_type": "code",
      "source": [
        "head(df,10)"
      ],
      "metadata": {
        "id": "FZZGv2_SHmuO",
        "outputId": "28f5b793-a6f1-4018-ebe4-c7f1a88b1e0f",
        "colab": {
          "base_uri": "https://localhost:8080/",
          "height": 412
        }
      },
      "execution_count": 16,
      "outputs": [
        {
          "output_type": "display_data",
          "data": {
            "text/html": [
              "<table class=\"dataframe\">\n",
              "<caption>A tibble: 10 × 4</caption>\n",
              "<thead>\n",
              "\t<tr><th scope=col>food_item</th><th scope=col>weight_in_grams</th><th scope=col>saturated_fat</th><th scope=col>cholesterol</th></tr>\n",
              "\t<tr><th scope=col>&lt;chr&gt;</th><th scope=col>&lt;dbl&gt;</th><th scope=col>&lt;dbl&gt;</th><th scope=col>&lt;dbl&gt;</th></tr>\n",
              "</thead>\n",
              "<tbody>\n",
              "\t<tr><td>CHEESECAKE                    1 CAKE  </td><td>1110</td><td>119.9</td><td>2053</td></tr>\n",
              "\t<tr><td>ICE CREAM; VANLLA; RICH 16% FT1/2 GAL </td><td>1188</td><td>118.3</td><td> 703</td></tr>\n",
              "\t<tr><td>YELLOWCAKE W/ CHOCFRSTNG;COMML1 CAKE  </td><td>1108</td><td> 92.0</td><td> 609</td></tr>\n",
              "\t<tr><td>CREME PIE                     1 PIE   </td><td> 910</td><td> 90.1</td><td>  46</td></tr>\n",
              "\t<tr><td>LARD                          1 CUP   </td><td> 205</td><td> 80.4</td><td> 195</td></tr>\n",
              "\t<tr><td>ICE CREAM; VANLLA; REGULR 11% 1/2 GALN</td><td>1064</td><td> 71.3</td><td> 476</td></tr>\n",
              "\t<tr><td>CARROT CAKE;CREMCHESE FRST;REC1 CAKE  </td><td>1536</td><td> 66.0</td><td>1183</td></tr>\n",
              "\t<tr><td>BUTTER; SALTED                1/2 CUP </td><td> 113</td><td> 57.1</td><td> 247</td></tr>\n",
              "\t<tr><td>BUTTER; UNSALTED              1/2 CUP </td><td> 113</td><td> 57.1</td><td> 247</td></tr>\n",
              "\t<tr><td>DEVIL'S FOOD CAKE;CHOCFRST;FMX1 CAKE  </td><td>1107</td><td> 55.6</td><td> 598</td></tr>\n",
              "</tbody>\n",
              "</table>\n"
            ],
            "text/markdown": "\nA tibble: 10 × 4\n\n| food_item &lt;chr&gt; | weight_in_grams &lt;dbl&gt; | saturated_fat &lt;dbl&gt; | cholesterol &lt;dbl&gt; |\n|---|---|---|---|\n| CHEESECAKE                    1 CAKE   | 1110 | 119.9 | 2053 |\n| ICE CREAM; VANLLA; RICH 16% FT1/2 GAL  | 1188 | 118.3 |  703 |\n| YELLOWCAKE W/ CHOCFRSTNG;COMML1 CAKE   | 1108 |  92.0 |  609 |\n| CREME PIE                     1 PIE    |  910 |  90.1 |   46 |\n| LARD                          1 CUP    |  205 |  80.4 |  195 |\n| ICE CREAM; VANLLA; REGULR 11% 1/2 GALN | 1064 |  71.3 |  476 |\n| CARROT CAKE;CREMCHESE FRST;REC1 CAKE   | 1536 |  66.0 | 1183 |\n| BUTTER; SALTED                1/2 CUP  |  113 |  57.1 |  247 |\n| BUTTER; UNSALTED              1/2 CUP  |  113 |  57.1 |  247 |\n| DEVIL'S FOOD CAKE;CHOCFRST;FMX1 CAKE   | 1107 |  55.6 |  598 |\n\n",
            "text/latex": "A tibble: 10 × 4\n\\begin{tabular}{llll}\n food\\_item & weight\\_in\\_grams & saturated\\_fat & cholesterol\\\\\n <chr> & <dbl> & <dbl> & <dbl>\\\\\n\\hline\n\t CHEESECAKE                    1 CAKE   & 1110 & 119.9 & 2053\\\\\n\t ICE CREAM; VANLLA; RICH 16\\% FT1/2 GAL  & 1188 & 118.3 &  703\\\\\n\t YELLOWCAKE W/ CHOCFRSTNG;COMML1 CAKE   & 1108 &  92.0 &  609\\\\\n\t CREME PIE                     1 PIE    &  910 &  90.1 &   46\\\\\n\t LARD                          1 CUP    &  205 &  80.4 &  195\\\\\n\t ICE CREAM; VANLLA; REGULR 11\\% 1/2 GALN & 1064 &  71.3 &  476\\\\\n\t CARROT CAKE;CREMCHESE FRST;REC1 CAKE   & 1536 &  66.0 & 1183\\\\\n\t BUTTER; SALTED                1/2 CUP  &  113 &  57.1 &  247\\\\\n\t BUTTER; UNSALTED              1/2 CUP  &  113 &  57.1 &  247\\\\\n\t DEVIL'S FOOD CAKE;CHOCFRST;FMX1 CAKE   & 1107 &  55.6 &  598\\\\\n\\end{tabular}\n",
            "text/plain": [
              "   food_item                              weight_in_grams saturated_fat\n",
              "1  CHEESECAKE                    1 CAKE   1110            119.9        \n",
              "2  ICE CREAM; VANLLA; RICH 16% FT1/2 GAL  1188            118.3        \n",
              "3  YELLOWCAKE W/ CHOCFRSTNG;COMML1 CAKE   1108             92.0        \n",
              "4  CREME PIE                     1 PIE     910             90.1        \n",
              "5  LARD                          1 CUP     205             80.4        \n",
              "6  ICE CREAM; VANLLA; REGULR 11% 1/2 GALN 1064             71.3        \n",
              "7  CARROT CAKE;CREMCHESE FRST;REC1 CAKE   1536             66.0        \n",
              "8  BUTTER; SALTED                1/2 CUP   113             57.1        \n",
              "9  BUTTER; UNSALTED              1/2 CUP   113             57.1        \n",
              "10 DEVIL'S FOOD CAKE;CHOCFRST;FMX1 CAKE   1107             55.6        \n",
              "   cholesterol\n",
              "1  2053       \n",
              "2   703       \n",
              "3   609       \n",
              "4    46       \n",
              "5   195       \n",
              "6   476       \n",
              "7  1183       \n",
              "8   247       \n",
              "9   247       \n",
              "10  598       "
            ]
          },
          "metadata": {}
        }
      ]
    },
    {
      "cell_type": "code",
      "source": [
        "#Checking missing values\n",
        "sum(is.na(df))"
      ],
      "metadata": {
        "id": "QTCbgpS6H70Z",
        "outputId": "fff4689a-a0fc-4d98-c478-d53f9cdd1708",
        "colab": {
          "base_uri": "https://localhost:8080/",
          "height": 34
        }
      },
      "execution_count": 17,
      "outputs": [
        {
          "output_type": "display_data",
          "data": {
            "text/html": [
              "0"
            ],
            "text/markdown": "0",
            "text/latex": "0",
            "text/plain": [
              "[1] 0"
            ]
          },
          "metadata": {}
        }
      ]
    },
    {
      "cell_type": "markdown",
      "source": [
        "# 3. Sort the data set by saturated_ fat and produce a listing of the five food items highest in saturated fat. Comment on the validity of comparing food items of different sizes."
      ],
      "metadata": {
        "id": "8QfsUBrKIDTd"
      }
    },
    {
      "cell_type": "code",
      "source": [
        "#Sorting saturated fat into desending order\n",
        "head(df[order(df$saturated_fat, decreasing=TRUE), 1:4])\n"
      ],
      "metadata": {
        "id": "QtvNvehRH_OZ",
        "outputId": "9c39d6ed-df44-4123-a3ad-6ada30e73393",
        "colab": {
          "base_uri": "https://localhost:8080/",
          "height": 286
        }
      },
      "execution_count": 18,
      "outputs": [
        {
          "output_type": "display_data",
          "data": {
            "text/html": [
              "<table class=\"dataframe\">\n",
              "<caption>A tibble: 6 × 4</caption>\n",
              "<thead>\n",
              "\t<tr><th scope=col>food_item</th><th scope=col>weight_in_grams</th><th scope=col>saturated_fat</th><th scope=col>cholesterol</th></tr>\n",
              "\t<tr><th scope=col>&lt;chr&gt;</th><th scope=col>&lt;dbl&gt;</th><th scope=col>&lt;dbl&gt;</th><th scope=col>&lt;dbl&gt;</th></tr>\n",
              "</thead>\n",
              "<tbody>\n",
              "\t<tr><td>CHEESECAKE                    1 CAKE  </td><td>1110</td><td>119.9</td><td>2053</td></tr>\n",
              "\t<tr><td>ICE CREAM; VANLLA; RICH 16% FT1/2 GAL </td><td>1188</td><td>118.3</td><td> 703</td></tr>\n",
              "\t<tr><td>YELLOWCAKE W/ CHOCFRSTNG;COMML1 CAKE  </td><td>1108</td><td> 92.0</td><td> 609</td></tr>\n",
              "\t<tr><td>CREME PIE                     1 PIE   </td><td> 910</td><td> 90.1</td><td>  46</td></tr>\n",
              "\t<tr><td>LARD                          1 CUP   </td><td> 205</td><td> 80.4</td><td> 195</td></tr>\n",
              "\t<tr><td>ICE CREAM; VANLLA; REGULR 11% 1/2 GALN</td><td>1064</td><td> 71.3</td><td> 476</td></tr>\n",
              "</tbody>\n",
              "</table>\n"
            ],
            "text/markdown": "\nA tibble: 6 × 4\n\n| food_item &lt;chr&gt; | weight_in_grams &lt;dbl&gt; | saturated_fat &lt;dbl&gt; | cholesterol &lt;dbl&gt; |\n|---|---|---|---|\n| CHEESECAKE                    1 CAKE   | 1110 | 119.9 | 2053 |\n| ICE CREAM; VANLLA; RICH 16% FT1/2 GAL  | 1188 | 118.3 |  703 |\n| YELLOWCAKE W/ CHOCFRSTNG;COMML1 CAKE   | 1108 |  92.0 |  609 |\n| CREME PIE                     1 PIE    |  910 |  90.1 |   46 |\n| LARD                          1 CUP    |  205 |  80.4 |  195 |\n| ICE CREAM; VANLLA; REGULR 11% 1/2 GALN | 1064 |  71.3 |  476 |\n\n",
            "text/latex": "A tibble: 6 × 4\n\\begin{tabular}{llll}\n food\\_item & weight\\_in\\_grams & saturated\\_fat & cholesterol\\\\\n <chr> & <dbl> & <dbl> & <dbl>\\\\\n\\hline\n\t CHEESECAKE                    1 CAKE   & 1110 & 119.9 & 2053\\\\\n\t ICE CREAM; VANLLA; RICH 16\\% FT1/2 GAL  & 1188 & 118.3 &  703\\\\\n\t YELLOWCAKE W/ CHOCFRSTNG;COMML1 CAKE   & 1108 &  92.0 &  609\\\\\n\t CREME PIE                     1 PIE    &  910 &  90.1 &   46\\\\\n\t LARD                          1 CUP    &  205 &  80.4 &  195\\\\\n\t ICE CREAM; VANLLA; REGULR 11\\% 1/2 GALN & 1064 &  71.3 &  476\\\\\n\\end{tabular}\n",
            "text/plain": [
              "  food_item                              weight_in_grams saturated_fat\n",
              "1 CHEESECAKE                    1 CAKE   1110            119.9        \n",
              "2 ICE CREAM; VANLLA; RICH 16% FT1/2 GAL  1188            118.3        \n",
              "3 YELLOWCAKE W/ CHOCFRSTNG;COMML1 CAKE   1108             92.0        \n",
              "4 CREME PIE                     1 PIE     910             90.1        \n",
              "5 LARD                          1 CUP     205             80.4        \n",
              "6 ICE CREAM; VANLLA; REGULR 11% 1/2 GALN 1064             71.3        \n",
              "  cholesterol\n",
              "1 2053       \n",
              "2  703       \n",
              "3  609       \n",
              "4   46       \n",
              "5  195       \n",
              "6  476       "
            ]
          },
          "metadata": {}
        }
      ]
    },
    {
      "cell_type": "code",
      "source": [
        "df$saturated_fat_per_gram <- df$saturated_fat/df$weight_in_grams"
      ],
      "metadata": {
        "id": "GEe7WH5vIbLV"
      },
      "execution_count": 45,
      "outputs": []
    },
    {
      "cell_type": "code",
      "source": [
        "head(df[order(df$saturated_fat_per_gram, decreasing=TRUE), 1:5])"
      ],
      "metadata": {
        "id": "b8dvVT-uJEmK",
        "outputId": "71eabf13-39d9-40e8-ea70-9b00a2eb3e55",
        "colab": {
          "base_uri": "https://localhost:8080/",
          "height": 286
        }
      },
      "execution_count": 47,
      "outputs": [
        {
          "output_type": "display_data",
          "data": {
            "text/html": [
              "<table class=\"dataframe\">\n",
              "<caption>A tibble: 6 × 5</caption>\n",
              "<thead>\n",
              "\t<tr><th scope=col>food_item</th><th scope=col>weight_in_grams</th><th scope=col>saturated_fat</th><th scope=col>cholesterol</th><th scope=col>saturated_fat_per_gram</th></tr>\n",
              "\t<tr><th scope=col>&lt;chr&gt;</th><th scope=col>&lt;dbl&gt;</th><th scope=col>&lt;dbl&gt;</th><th scope=col>&lt;dbl&gt;</th><th scope=col>&lt;dbl&gt;</th></tr>\n",
              "</thead>\n",
              "<tbody>\n",
              "\t<tr><td>BUTTER; SALTED                1 TBSP </td><td> 14</td><td> 7.1</td><td> 31</td><td>0.5071429</td></tr>\n",
              "\t<tr><td>BUTTER; UNSALTED              1 TBSP </td><td> 14</td><td> 7.1</td><td> 31</td><td>0.5071429</td></tr>\n",
              "\t<tr><td>BUTTER; SALTED                1/2 CUP</td><td>113</td><td>57.1</td><td>247</td><td>0.5053097</td></tr>\n",
              "\t<tr><td>BUTTER; UNSALTED              1/2 CUP</td><td>113</td><td>57.1</td><td>247</td><td>0.5053097</td></tr>\n",
              "\t<tr><td>BUTTER; SALTED                1 PAT  </td><td>  5</td><td> 2.5</td><td> 11</td><td>0.5000000</td></tr>\n",
              "\t<tr><td>BUTTER; UNSALTED              1 PAT  </td><td>  5</td><td> 2.5</td><td> 11</td><td>0.5000000</td></tr>\n",
              "</tbody>\n",
              "</table>\n"
            ],
            "text/markdown": "\nA tibble: 6 × 5\n\n| food_item &lt;chr&gt; | weight_in_grams &lt;dbl&gt; | saturated_fat &lt;dbl&gt; | cholesterol &lt;dbl&gt; | saturated_fat_per_gram &lt;dbl&gt; |\n|---|---|---|---|---|\n| BUTTER; SALTED                1 TBSP  |  14 |  7.1 |  31 | 0.5071429 |\n| BUTTER; UNSALTED              1 TBSP  |  14 |  7.1 |  31 | 0.5071429 |\n| BUTTER; SALTED                1/2 CUP | 113 | 57.1 | 247 | 0.5053097 |\n| BUTTER; UNSALTED              1/2 CUP | 113 | 57.1 | 247 | 0.5053097 |\n| BUTTER; SALTED                1 PAT   |   5 |  2.5 |  11 | 0.5000000 |\n| BUTTER; UNSALTED              1 PAT   |   5 |  2.5 |  11 | 0.5000000 |\n\n",
            "text/latex": "A tibble: 6 × 5\n\\begin{tabular}{lllll}\n food\\_item & weight\\_in\\_grams & saturated\\_fat & cholesterol & saturated\\_fat\\_per\\_gram\\\\\n <chr> & <dbl> & <dbl> & <dbl> & <dbl>\\\\\n\\hline\n\t BUTTER; SALTED                1 TBSP  &  14 &  7.1 &  31 & 0.5071429\\\\\n\t BUTTER; UNSALTED              1 TBSP  &  14 &  7.1 &  31 & 0.5071429\\\\\n\t BUTTER; SALTED                1/2 CUP & 113 & 57.1 & 247 & 0.5053097\\\\\n\t BUTTER; UNSALTED              1/2 CUP & 113 & 57.1 & 247 & 0.5053097\\\\\n\t BUTTER; SALTED                1 PAT   &   5 &  2.5 &  11 & 0.5000000\\\\\n\t BUTTER; UNSALTED              1 PAT   &   5 &  2.5 &  11 & 0.5000000\\\\\n\\end{tabular}\n",
            "text/plain": [
              "  food_item                             weight_in_grams saturated_fat\n",
              "1 BUTTER; SALTED                1 TBSP   14              7.1         \n",
              "2 BUTTER; UNSALTED              1 TBSP   14              7.1         \n",
              "3 BUTTER; SALTED                1/2 CUP 113             57.1         \n",
              "4 BUTTER; UNSALTED              1/2 CUP 113             57.1         \n",
              "5 BUTTER; SALTED                1 PAT     5              2.5         \n",
              "6 BUTTER; UNSALTED              1 PAT     5              2.5         \n",
              "  cholesterol saturated_fat_per_gram\n",
              "1  31         0.5071429             \n",
              "2  31         0.5071429             \n",
              "3 247         0.5053097             \n",
              "4 247         0.5053097             \n",
              "5  11         0.5000000             \n",
              "6  11         0.5000000             "
            ]
          },
          "metadata": {}
        }
      ]
    },
    {
      "cell_type": "code",
      "source": [
        "summary(df$saturated_fat_per_gram)"
      ],
      "metadata": {
        "id": "jPA_mQhaJ_7v",
        "outputId": "b8be94ff-47b9-4165-9b48-bc88da2e3b81",
        "colab": {
          "base_uri": "https://localhost:8080/",
          "height": 52
        }
      },
      "execution_count": 48,
      "outputs": [
        {
          "output_type": "display_data",
          "data": {
            "text/plain": [
              "   Min. 1st Qu.  Median    Mean 3rd Qu.    Max. \n",
              "0.00000 0.00000 0.00800 0.03717 0.04735 0.50714 "
            ]
          },
          "metadata": {}
        }
      ]
    },
    {
      "cell_type": "code",
      "source": [
        "zscore=abs((df$saturated_fat_per_gram-mean(df$saturated_fat_per_gram))/sd(df$saturated_fat_per_gram))"
      ],
      "metadata": {
        "id": "3jxfm6ofKGER"
      },
      "execution_count": 49,
      "outputs": []
    },
    {
      "cell_type": "code",
      "source": [
        "q1 <- quantile(df$saturated_fat_per_gram,0.25)\n",
        "q3 <- quantile(df$saturated_fat_per_gram,0.75)\n",
        "IQR = q3-q1\n",
        "IQR"
      ],
      "metadata": {
        "id": "df8Ni-f6Kew4",
        "outputId": "d1aa3fd7-b4f9-4c71-9947-1d9984af817e",
        "colab": {
          "base_uri": "https://localhost:8080/",
          "height": 34
        }
      },
      "execution_count": 50,
      "outputs": [
        {
          "output_type": "display_data",
          "data": {
            "text/html": [
              "<strong>75%:</strong> 0.0473469387755102"
            ],
            "text/markdown": "**75%:** 0.0473469387755102",
            "text/latex": "\\textbf{75\\textbackslash{}\\%:} 0.0473469387755102",
            "text/plain": [
              "       75% \n",
              "0.04734694 "
            ]
          },
          "metadata": {}
        }
      ]
    },
    {
      "cell_type": "code",
      "source": [
        "#lower and upper bound of outliers\n",
        "lower_bound=q1-(1.5 * IQR)\n",
        "upper_bound=q3 +(1.5 * IQR)"
      ],
      "metadata": {
        "id": "zL9PdUxwLAXY"
      },
      "execution_count": 51,
      "outputs": []
    },
    {
      "cell_type": "code",
      "source": [
        "cat(\"lower_bound: \", lower_bound)"
      ],
      "metadata": {
        "id": "VkpaR1t0L1ic",
        "outputId": "a4c7c7b5-55c7-41b8-a6d6-26ee090e029b",
        "colab": {
          "base_uri": "https://localhost:8080/"
        }
      },
      "execution_count": 52,
      "outputs": [
        {
          "output_type": "stream",
          "name": "stdout",
          "text": [
            "lower_bound:  -0.07102041"
          ]
        }
      ]
    },
    {
      "cell_type": "code",
      "source": [
        "cat(\"upper_bound: \", upper_bound)"
      ],
      "metadata": {
        "id": "YZ2vSPZjL1rg",
        "outputId": "a7c88f98-672d-487c-a53e-dd3a3c1de943",
        "colab": {
          "base_uri": "https://localhost:8080/"
        }
      },
      "execution_count": 53,
      "outputs": [
        {
          "output_type": "stream",
          "name": "stdout",
          "text": [
            "upper_bound:  0.1183673"
          ]
        }
      ]
    },
    {
      "cell_type": "code",
      "source": [
        "df[(df.saturated_fat_per_gram<lower_bound) | (df.saturated_fat_per_gram> upper_bound) ]"
      ],
      "metadata": {
        "id": "pZu00GdcLDI7",
        "outputId": "de04373e-136d-496a-ec78-d73e471464e3",
        "colab": {
          "base_uri": "https://localhost:8080/",
          "height": 183
        }
      },
      "execution_count": 54,
      "outputs": [
        {
          "output_type": "error",
          "ename": "ERROR",
          "evalue": "ignored",
          "traceback": [
            "Error in `[.tbl_df`(df, (df.saturated_fat_per_gram < lower_bound) | (df.saturated_fat_per_gram > : object 'df.saturated_fat_per_gram' not found\nTraceback:\n",
            "1. df[(df.saturated_fat_per_gram < lower_bound) | (df.saturated_fat_per_gram > \n .     upper_bound)]",
            "2. `[.tbl_df`(df, (df.saturated_fat_per_gram < lower_bound) | (df.saturated_fat_per_gram > \n .     upper_bound))"
          ]
        }
      ]
    },
    {
      "cell_type": "code",
      "source": [
        ""
      ],
      "metadata": {
        "id": "ZkCkodz0MIdr"
      },
      "execution_count": null,
      "outputs": []
    }
  ]
}