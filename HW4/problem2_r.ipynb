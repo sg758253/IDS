{
  "nbformat": 4,
  "nbformat_minor": 0,
  "metadata": {
    "colab": {
      "name": "problem2_r.ipynb",
      "provenance": [],
      "authorship_tag": "ABX9TyMKf5CmU81nHvDGlNKGAabj",
      "include_colab_link": true
    },
    "kernelspec": {
      "name": "ir",
      "display_name": "R"
    },
    "language_info": {
      "name": "R"
    }
  },
  "cells": [
    {
      "cell_type": "markdown",
      "metadata": {
        "id": "view-in-github",
        "colab_type": "text"
      },
      "source": [
        "<a href=\"https://colab.research.google.com/github/sg758253/IDS/blob/main/HW4/problem2_r.ipynb\" target=\"_parent\"><img src=\"https://colab.research.google.com/assets/colab-badge.svg\" alt=\"Open In Colab\"/></a>"
      ]
    },
    {
      "cell_type": "code",
      "execution_count": 119,
      "metadata": {
        "id": "ZFP8gxOD-SSv"
      },
      "outputs": [],
      "source": [
        "#Import library\n",
        "library(readr)\n",
        "library(stringr)\n",
        "library(dplyr)"
      ]
    },
    {
      "cell_type": "code",
      "source": [
        "# read csv\n",
        "df <- read_csv(\"https://raw.githubusercontent.com/sg758253/IDS/main/HW4/nutrition_subset.csv\")"
      ],
      "metadata": {
        "id": "MJ8CHFGpHaYr",
        "outputId": "d57d27d5-7d95-4ead-b613-02636231158a",
        "colab": {
          "base_uri": "https://localhost:8080/"
        }
      },
      "execution_count": 120,
      "outputs": [
        {
          "output_type": "stream",
          "name": "stderr",
          "text": [
            "\u001b[1mRows: \u001b[22m\u001b[34m961\u001b[39m \u001b[1mColumns: \u001b[22m\u001b[34m4\u001b[39m\n",
            "\u001b[36m──\u001b[39m \u001b[1mColumn specification\u001b[22m \u001b[36m────────────────────────────────────────────────────────\u001b[39m\n",
            "\u001b[1mDelimiter:\u001b[22m \",\"\n",
            "\u001b[31mchr\u001b[39m (1): food_item\n",
            "\u001b[32mdbl\u001b[39m (3): weight_in_grams, saturated_fat, cholesterol\n",
            "\n",
            "\u001b[36mℹ\u001b[39m Use `spec()` to retrieve the full column specification for this data.\n",
            "\u001b[36mℹ\u001b[39m Specify the column types or set `show_col_types = FALSE` to quiet this message.\n"
          ]
        }
      ]
    },
    {
      "cell_type": "markdown",
      "source": [
        "Dataset has 961 rows and 4 columns"
      ],
      "metadata": {
        "id": "_p5OZbVnlMHR"
      }
    },
    {
      "cell_type": "code",
      "source": [
        "# column names\n",
        "colnames(df)"
      ],
      "metadata": {
        "colab": {
          "base_uri": "https://localhost:8080/",
          "height": 34
        },
        "id": "9PRuYebilRv0",
        "outputId": "5b69baee-4169-4d2d-fbc9-85701fd01383"
      },
      "execution_count": 121,
      "outputs": [
        {
          "output_type": "display_data",
          "data": {
            "text/html": [
              "<style>\n",
              ".list-inline {list-style: none; margin:0; padding: 0}\n",
              ".list-inline>li {display: inline-block}\n",
              ".list-inline>li:not(:last-child)::after {content: \"\\00b7\"; padding: 0 .5ex}\n",
              "</style>\n",
              "<ol class=list-inline><li>'food_item'</li><li>'weight_in_grams'</li><li>'saturated_fat'</li><li>'cholesterol'</li></ol>\n"
            ],
            "text/markdown": "1. 'food_item'\n2. 'weight_in_grams'\n3. 'saturated_fat'\n4. 'cholesterol'\n\n\n",
            "text/latex": "\\begin{enumerate*}\n\\item 'food\\_item'\n\\item 'weight\\_in\\_grams'\n\\item 'saturated\\_fat'\n\\item 'cholesterol'\n\\end{enumerate*}\n",
            "text/plain": [
              "[1] \"food_item\"       \"weight_in_grams\" \"saturated_fat\"   \"cholesterol\"    "
            ]
          },
          "metadata": {}
        }
      ]
    },
    {
      "cell_type": "code",
      "source": [
        "head(df,10)"
      ],
      "metadata": {
        "id": "FZZGv2_SHmuO",
        "outputId": "308fbdbf-6237-44e1-809f-d2087c63e091",
        "colab": {
          "base_uri": "https://localhost:8080/",
          "height": 412
        }
      },
      "execution_count": 122,
      "outputs": [
        {
          "output_type": "display_data",
          "data": {
            "text/html": [
              "<table class=\"dataframe\">\n",
              "<caption>A tibble: 10 × 4</caption>\n",
              "<thead>\n",
              "\t<tr><th scope=col>food_item</th><th scope=col>weight_in_grams</th><th scope=col>saturated_fat</th><th scope=col>cholesterol</th></tr>\n",
              "\t<tr><th scope=col>&lt;chr&gt;</th><th scope=col>&lt;dbl&gt;</th><th scope=col>&lt;dbl&gt;</th><th scope=col>&lt;dbl&gt;</th></tr>\n",
              "</thead>\n",
              "<tbody>\n",
              "\t<tr><td>GELATIN; DRY                  1 ENVELP</td><td>  7.00</td><td> 0.0</td><td> 0</td></tr>\n",
              "\t<tr><td>SEAWEED; SPIRULINA; DRIED     1 OZ    </td><td> 28.35</td><td> 0.8</td><td> 0</td></tr>\n",
              "\t<tr><td>YEAST; BAKERS; DRY; ACTIVE    1 PKG   </td><td>  7.00</td><td> 0.0</td><td> 0</td></tr>\n",
              "\t<tr><td>PARMESAN CHEESE; GRATED       1 OZ    </td><td> 28.35</td><td> 5.4</td><td>22</td></tr>\n",
              "\t<tr><td>PARMESAN CHEESE; GRATED       1 CUP   </td><td>100.00</td><td>19.1</td><td>79</td></tr>\n",
              "\t<tr><td>PARMESAN CHEESE; GRATED       1 TBSP  </td><td>  5.00</td><td> 1.0</td><td> 4</td></tr>\n",
              "\t<tr><td>YEAST; BREWERS; DRY           1 TBSP  </td><td>  8.00</td><td> 0.0</td><td> 0</td></tr>\n",
              "\t<tr><td>LAMB;CHOPS;ARM;BRAISED;LEAN   1.7 OZ  </td><td> 48.00</td><td> 2.9</td><td>59</td></tr>\n",
              "\t<tr><td>TUNA; CANND; DRND;WATR; WHITE 3 OZ    </td><td> 85.00</td><td> 0.3</td><td>48</td></tr>\n",
              "\t<tr><td>NONFAT DRY MILK; INSTANTIZED  1 CUP   </td><td> 68.00</td><td> 0.3</td><td>12</td></tr>\n",
              "</tbody>\n",
              "</table>\n"
            ],
            "text/markdown": "\nA tibble: 10 × 4\n\n| food_item &lt;chr&gt; | weight_in_grams &lt;dbl&gt; | saturated_fat &lt;dbl&gt; | cholesterol &lt;dbl&gt; |\n|---|---|---|---|\n| GELATIN; DRY                  1 ENVELP |   7.00 |  0.0 |  0 |\n| SEAWEED; SPIRULINA; DRIED     1 OZ     |  28.35 |  0.8 |  0 |\n| YEAST; BAKERS; DRY; ACTIVE    1 PKG    |   7.00 |  0.0 |  0 |\n| PARMESAN CHEESE; GRATED       1 OZ     |  28.35 |  5.4 | 22 |\n| PARMESAN CHEESE; GRATED       1 CUP    | 100.00 | 19.1 | 79 |\n| PARMESAN CHEESE; GRATED       1 TBSP   |   5.00 |  1.0 |  4 |\n| YEAST; BREWERS; DRY           1 TBSP   |   8.00 |  0.0 |  0 |\n| LAMB;CHOPS;ARM;BRAISED;LEAN   1.7 OZ   |  48.00 |  2.9 | 59 |\n| TUNA; CANND; DRND;WATR; WHITE 3 OZ     |  85.00 |  0.3 | 48 |\n| NONFAT DRY MILK; INSTANTIZED  1 CUP    |  68.00 |  0.3 | 12 |\n\n",
            "text/latex": "A tibble: 10 × 4\n\\begin{tabular}{llll}\n food\\_item & weight\\_in\\_grams & saturated\\_fat & cholesterol\\\\\n <chr> & <dbl> & <dbl> & <dbl>\\\\\n\\hline\n\t GELATIN; DRY                  1 ENVELP &   7.00 &  0.0 &  0\\\\\n\t SEAWEED; SPIRULINA; DRIED     1 OZ     &  28.35 &  0.8 &  0\\\\\n\t YEAST; BAKERS; DRY; ACTIVE    1 PKG    &   7.00 &  0.0 &  0\\\\\n\t PARMESAN CHEESE; GRATED       1 OZ     &  28.35 &  5.4 & 22\\\\\n\t PARMESAN CHEESE; GRATED       1 CUP    & 100.00 & 19.1 & 79\\\\\n\t PARMESAN CHEESE; GRATED       1 TBSP   &   5.00 &  1.0 &  4\\\\\n\t YEAST; BREWERS; DRY           1 TBSP   &   8.00 &  0.0 &  0\\\\\n\t LAMB;CHOPS;ARM;BRAISED;LEAN   1.7 OZ   &  48.00 &  2.9 & 59\\\\\n\t TUNA; CANND; DRND;WATR; WHITE 3 OZ     &  85.00 &  0.3 & 48\\\\\n\t NONFAT DRY MILK; INSTANTIZED  1 CUP    &  68.00 &  0.3 & 12\\\\\n\\end{tabular}\n",
            "text/plain": [
              "   food_item                              weight_in_grams saturated_fat\n",
              "1  GELATIN; DRY                  1 ENVELP   7.00           0.0         \n",
              "2  SEAWEED; SPIRULINA; DRIED     1 OZ      28.35           0.8         \n",
              "3  YEAST; BAKERS; DRY; ACTIVE    1 PKG      7.00           0.0         \n",
              "4  PARMESAN CHEESE; GRATED       1 OZ      28.35           5.4         \n",
              "5  PARMESAN CHEESE; GRATED       1 CUP    100.00          19.1         \n",
              "6  PARMESAN CHEESE; GRATED       1 TBSP     5.00           1.0         \n",
              "7  YEAST; BREWERS; DRY           1 TBSP     8.00           0.0         \n",
              "8  LAMB;CHOPS;ARM;BRAISED;LEAN   1.7 OZ    48.00           2.9         \n",
              "9  TUNA; CANND; DRND;WATR; WHITE 3 OZ      85.00           0.3         \n",
              "10 NONFAT DRY MILK; INSTANTIZED  1 CUP     68.00           0.3         \n",
              "   cholesterol\n",
              "1   0         \n",
              "2   0         \n",
              "3   0         \n",
              "4  22         \n",
              "5  79         \n",
              "6   4         \n",
              "7   0         \n",
              "8  59         \n",
              "9  48         \n",
              "10 12         "
            ]
          },
          "metadata": {}
        }
      ]
    },
    {
      "cell_type": "code",
      "source": [
        "#Checking missing values\n",
        "sum(is.na(df))"
      ],
      "metadata": {
        "id": "QTCbgpS6H70Z",
        "outputId": "04ef40fd-38b3-42bf-da9b-99814db23d6b",
        "colab": {
          "base_uri": "https://localhost:8080/",
          "height": 34
        }
      },
      "execution_count": 123,
      "outputs": [
        {
          "output_type": "display_data",
          "data": {
            "text/html": [
              "0"
            ],
            "text/markdown": "0",
            "text/latex": "0",
            "text/plain": [
              "[1] 0"
            ]
          },
          "metadata": {}
        }
      ]
    },
    {
      "cell_type": "markdown",
      "source": [
        "# 3. Sort the data set by saturated_ fat and produce a listing of the five food items highest in saturated fat. Comment on the validity of comparing food items of different sizes."
      ],
      "metadata": {
        "id": "8QfsUBrKIDTd"
      }
    },
    {
      "cell_type": "code",
      "source": [
        "#Sorting saturated fat into desending order\n",
        "head(df[order(df$saturated_fat, decreasing=TRUE), 1:4])\n"
      ],
      "metadata": {
        "id": "QtvNvehRH_OZ",
        "outputId": "a33696b7-93af-48ca-c230-f752c260ae3d",
        "colab": {
          "base_uri": "https://localhost:8080/",
          "height": 286
        }
      },
      "execution_count": 124,
      "outputs": [
        {
          "output_type": "display_data",
          "data": {
            "text/html": [
              "<table class=\"dataframe\">\n",
              "<caption>A tibble: 6 × 4</caption>\n",
              "<thead>\n",
              "\t<tr><th scope=col>food_item</th><th scope=col>weight_in_grams</th><th scope=col>saturated_fat</th><th scope=col>cholesterol</th></tr>\n",
              "\t<tr><th scope=col>&lt;chr&gt;</th><th scope=col>&lt;dbl&gt;</th><th scope=col>&lt;dbl&gt;</th><th scope=col>&lt;dbl&gt;</th></tr>\n",
              "</thead>\n",
              "<tbody>\n",
              "\t<tr><td>CHEESECAKE                    1 CAKE  </td><td>1110</td><td>119.9</td><td>2053</td></tr>\n",
              "\t<tr><td>ICE CREAM; VANLLA; RICH 16% FT1/2 GAL </td><td>1188</td><td>118.3</td><td> 703</td></tr>\n",
              "\t<tr><td>YELLOWCAKE W/ CHOCFRSTNG;COMML1 CAKE  </td><td>1108</td><td> 92.0</td><td> 609</td></tr>\n",
              "\t<tr><td>CREME PIE                     1 PIE   </td><td> 910</td><td> 90.1</td><td>  46</td></tr>\n",
              "\t<tr><td>LARD                          1 CUP   </td><td> 205</td><td> 80.4</td><td> 195</td></tr>\n",
              "\t<tr><td>ICE CREAM; VANLLA; REGULR 11% 1/2 GALN</td><td>1064</td><td> 71.3</td><td> 476</td></tr>\n",
              "</tbody>\n",
              "</table>\n"
            ],
            "text/markdown": "\nA tibble: 6 × 4\n\n| food_item &lt;chr&gt; | weight_in_grams &lt;dbl&gt; | saturated_fat &lt;dbl&gt; | cholesterol &lt;dbl&gt; |\n|---|---|---|---|\n| CHEESECAKE                    1 CAKE   | 1110 | 119.9 | 2053 |\n| ICE CREAM; VANLLA; RICH 16% FT1/2 GAL  | 1188 | 118.3 |  703 |\n| YELLOWCAKE W/ CHOCFRSTNG;COMML1 CAKE   | 1108 |  92.0 |  609 |\n| CREME PIE                     1 PIE    |  910 |  90.1 |   46 |\n| LARD                          1 CUP    |  205 |  80.4 |  195 |\n| ICE CREAM; VANLLA; REGULR 11% 1/2 GALN | 1064 |  71.3 |  476 |\n\n",
            "text/latex": "A tibble: 6 × 4\n\\begin{tabular}{llll}\n food\\_item & weight\\_in\\_grams & saturated\\_fat & cholesterol\\\\\n <chr> & <dbl> & <dbl> & <dbl>\\\\\n\\hline\n\t CHEESECAKE                    1 CAKE   & 1110 & 119.9 & 2053\\\\\n\t ICE CREAM; VANLLA; RICH 16\\% FT1/2 GAL  & 1188 & 118.3 &  703\\\\\n\t YELLOWCAKE W/ CHOCFRSTNG;COMML1 CAKE   & 1108 &  92.0 &  609\\\\\n\t CREME PIE                     1 PIE    &  910 &  90.1 &   46\\\\\n\t LARD                          1 CUP    &  205 &  80.4 &  195\\\\\n\t ICE CREAM; VANLLA; REGULR 11\\% 1/2 GALN & 1064 &  71.3 &  476\\\\\n\\end{tabular}\n",
            "text/plain": [
              "  food_item                              weight_in_grams saturated_fat\n",
              "1 CHEESECAKE                    1 CAKE   1110            119.9        \n",
              "2 ICE CREAM; VANLLA; RICH 16% FT1/2 GAL  1188            118.3        \n",
              "3 YELLOWCAKE W/ CHOCFRSTNG;COMML1 CAKE   1108             92.0        \n",
              "4 CREME PIE                     1 PIE     910             90.1        \n",
              "5 LARD                          1 CUP     205             80.4        \n",
              "6 ICE CREAM; VANLLA; REGULR 11% 1/2 GALN 1064             71.3        \n",
              "  cholesterol\n",
              "1 2053       \n",
              "2  703       \n",
              "3  609       \n",
              "4   46       \n",
              "5  195       \n",
              "6  476       "
            ]
          },
          "metadata": {}
        }
      ]
    },
    {
      "cell_type": "markdown",
      "source": [
        "food item 'CHEESECAKE 1 CAKE' has the highest cholesterol"
      ],
      "metadata": {
        "id": "4xPPOSqClgXb"
      }
    },
    {
      "cell_type": "markdown",
      "source": [
        "#4. Create a new variable, saturated fat pergram, by dividing the amount of saturated fat by the weight in grams. Sort the data set by saturated fat_ per_gram and produce a listing of the five food items highest in saturated fat per gram. Which food has the most saturated fat per gram?"
      ],
      "metadata": {
        "id": "s5zpGLwJll3m"
      }
    },
    {
      "cell_type": "code",
      "source": [
        "df$saturated_fat_per_gram <- df$saturated_fat/df$weight_in_grams"
      ],
      "metadata": {
        "id": "GEe7WH5vIbLV"
      },
      "execution_count": 125,
      "outputs": []
    },
    {
      "cell_type": "code",
      "source": [
        "head(df[order(df$saturated_fat_per_gram, decreasing=TRUE), 1:5])"
      ],
      "metadata": {
        "id": "b8dvVT-uJEmK",
        "outputId": "83d0a9fb-110d-4481-9749-15208a4af8f4",
        "colab": {
          "base_uri": "https://localhost:8080/",
          "height": 286
        }
      },
      "execution_count": 126,
      "outputs": [
        {
          "output_type": "display_data",
          "data": {
            "text/html": [
              "<table class=\"dataframe\">\n",
              "<caption>A tibble: 6 × 5</caption>\n",
              "<thead>\n",
              "\t<tr><th scope=col>food_item</th><th scope=col>weight_in_grams</th><th scope=col>saturated_fat</th><th scope=col>cholesterol</th><th scope=col>saturated_fat_per_gram</th></tr>\n",
              "\t<tr><th scope=col>&lt;chr&gt;</th><th scope=col>&lt;dbl&gt;</th><th scope=col>&lt;dbl&gt;</th><th scope=col>&lt;dbl&gt;</th><th scope=col>&lt;dbl&gt;</th></tr>\n",
              "</thead>\n",
              "<tbody>\n",
              "\t<tr><td>BUTTER; SALTED                1 TBSP </td><td> 14</td><td> 7.1</td><td> 31</td><td>0.5071429</td></tr>\n",
              "\t<tr><td>BUTTER; UNSALTED              1 TBSP </td><td> 14</td><td> 7.1</td><td> 31</td><td>0.5071429</td></tr>\n",
              "\t<tr><td>BUTTER; SALTED                1/2 CUP</td><td>113</td><td>57.1</td><td>247</td><td>0.5053097</td></tr>\n",
              "\t<tr><td>BUTTER; UNSALTED              1/2 CUP</td><td>113</td><td>57.1</td><td>247</td><td>0.5053097</td></tr>\n",
              "\t<tr><td>BUTTER; SALTED                1 PAT  </td><td>  5</td><td> 2.5</td><td> 11</td><td>0.5000000</td></tr>\n",
              "\t<tr><td>BUTTER; UNSALTED              1 PAT  </td><td>  5</td><td> 2.5</td><td> 11</td><td>0.5000000</td></tr>\n",
              "</tbody>\n",
              "</table>\n"
            ],
            "text/markdown": "\nA tibble: 6 × 5\n\n| food_item &lt;chr&gt; | weight_in_grams &lt;dbl&gt; | saturated_fat &lt;dbl&gt; | cholesterol &lt;dbl&gt; | saturated_fat_per_gram &lt;dbl&gt; |\n|---|---|---|---|---|\n| BUTTER; SALTED                1 TBSP  |  14 |  7.1 |  31 | 0.5071429 |\n| BUTTER; UNSALTED              1 TBSP  |  14 |  7.1 |  31 | 0.5071429 |\n| BUTTER; SALTED                1/2 CUP | 113 | 57.1 | 247 | 0.5053097 |\n| BUTTER; UNSALTED              1/2 CUP | 113 | 57.1 | 247 | 0.5053097 |\n| BUTTER; SALTED                1 PAT   |   5 |  2.5 |  11 | 0.5000000 |\n| BUTTER; UNSALTED              1 PAT   |   5 |  2.5 |  11 | 0.5000000 |\n\n",
            "text/latex": "A tibble: 6 × 5\n\\begin{tabular}{lllll}\n food\\_item & weight\\_in\\_grams & saturated\\_fat & cholesterol & saturated\\_fat\\_per\\_gram\\\\\n <chr> & <dbl> & <dbl> & <dbl> & <dbl>\\\\\n\\hline\n\t BUTTER; SALTED                1 TBSP  &  14 &  7.1 &  31 & 0.5071429\\\\\n\t BUTTER; UNSALTED              1 TBSP  &  14 &  7.1 &  31 & 0.5071429\\\\\n\t BUTTER; SALTED                1/2 CUP & 113 & 57.1 & 247 & 0.5053097\\\\\n\t BUTTER; UNSALTED              1/2 CUP & 113 & 57.1 & 247 & 0.5053097\\\\\n\t BUTTER; SALTED                1 PAT   &   5 &  2.5 &  11 & 0.5000000\\\\\n\t BUTTER; UNSALTED              1 PAT   &   5 &  2.5 &  11 & 0.5000000\\\\\n\\end{tabular}\n",
            "text/plain": [
              "  food_item                             weight_in_grams saturated_fat\n",
              "1 BUTTER; SALTED                1 TBSP   14              7.1         \n",
              "2 BUTTER; UNSALTED              1 TBSP   14              7.1         \n",
              "3 BUTTER; SALTED                1/2 CUP 113             57.1         \n",
              "4 BUTTER; UNSALTED              1/2 CUP 113             57.1         \n",
              "5 BUTTER; SALTED                1 PAT     5              2.5         \n",
              "6 BUTTER; UNSALTED              1 PAT     5              2.5         \n",
              "  cholesterol saturated_fat_per_gram\n",
              "1  31         0.5071429             \n",
              "2  31         0.5071429             \n",
              "3 247         0.5053097             \n",
              "4 247         0.5053097             \n",
              "5  11         0.5000000             \n",
              "6  11         0.5000000             "
            ]
          },
          "metadata": {}
        }
      ]
    },
    {
      "cell_type": "code",
      "source": [
        "summary(df$saturated_fat_per_gram)"
      ],
      "metadata": {
        "id": "jPA_mQhaJ_7v",
        "outputId": "05df0af4-4d35-47f4-e178-f9d9d9d6f0ae",
        "colab": {
          "base_uri": "https://localhost:8080/",
          "height": 52
        }
      },
      "execution_count": 127,
      "outputs": [
        {
          "output_type": "display_data",
          "data": {
            "text/plain": [
              "   Min. 1st Qu.  Median    Mean 3rd Qu.    Max. \n",
              "0.00000 0.00000 0.00800 0.03717 0.04735 0.50714 "
            ]
          },
          "metadata": {}
        }
      ]
    },
    {
      "cell_type": "code",
      "source": [
        "zscore=abs((df$saturated_fat_per_gram-mean(df$saturated_fat_per_gram))/sd(df$saturated_fat_per_gram))"
      ],
      "metadata": {
        "id": "3jxfm6ofKGER"
      },
      "execution_count": 128,
      "outputs": []
    },
    {
      "cell_type": "code",
      "source": [
        "mean = mean(df$saturated_fat_per_gram)\n",
        "std = sd(df$saturated_fat_per_gram)\n",
        "df['saturated_fat_per_gram1'] = (df$saturated_fat_per_gram-mean)/std\n",
        "head(df)"
      ],
      "metadata": {
        "colab": {
          "base_uri": "https://localhost:8080/",
          "height": 286
        },
        "id": "GbSCveUNmMex",
        "outputId": "74b42a98-d274-4c0a-8f1b-39938c141732"
      },
      "execution_count": 129,
      "outputs": [
        {
          "output_type": "display_data",
          "data": {
            "text/html": [
              "<table class=\"dataframe\">\n",
              "<caption>A tibble: 6 × 6</caption>\n",
              "<thead>\n",
              "\t<tr><th scope=col>food_item</th><th scope=col>weight_in_grams</th><th scope=col>saturated_fat</th><th scope=col>cholesterol</th><th scope=col>saturated_fat_per_gram</th><th scope=col>saturated_fat_per_gram1</th></tr>\n",
              "\t<tr><th scope=col>&lt;chr&gt;</th><th scope=col>&lt;dbl&gt;</th><th scope=col>&lt;dbl&gt;</th><th scope=col>&lt;dbl&gt;</th><th scope=col>&lt;dbl&gt;</th><th scope=col>&lt;dbl&gt;</th></tr>\n",
              "</thead>\n",
              "<tbody>\n",
              "\t<tr><td>GELATIN; DRY                  1 ENVELP</td><td>  7.00</td><td> 0.0</td><td> 0</td><td>0.00000000</td><td>-0.5620426</td></tr>\n",
              "\t<tr><td>SEAWEED; SPIRULINA; DRIED     1 OZ    </td><td> 28.35</td><td> 0.8</td><td> 0</td><td>0.02821869</td><td>-0.1353304</td></tr>\n",
              "\t<tr><td>YEAST; BAKERS; DRY; ACTIVE    1 PKG   </td><td>  7.00</td><td> 0.0</td><td> 0</td><td>0.00000000</td><td>-0.5620426</td></tr>\n",
              "\t<tr><td>PARMESAN CHEESE; GRATED       1 OZ    </td><td> 28.35</td><td> 5.4</td><td>22</td><td>0.19047619</td><td> 2.3182645</td></tr>\n",
              "\t<tr><td>PARMESAN CHEESE; GRATED       1 CUP   </td><td>100.00</td><td>19.1</td><td>79</td><td>0.19100000</td><td> 2.3261853</td></tr>\n",
              "\t<tr><td>PARMESAN CHEESE; GRATED       1 TBSP  </td><td>  5.00</td><td> 1.0</td><td> 4</td><td>0.20000000</td><td> 2.4622798</td></tr>\n",
              "</tbody>\n",
              "</table>\n"
            ],
            "text/markdown": "\nA tibble: 6 × 6\n\n| food_item &lt;chr&gt; | weight_in_grams &lt;dbl&gt; | saturated_fat &lt;dbl&gt; | cholesterol &lt;dbl&gt; | saturated_fat_per_gram &lt;dbl&gt; | saturated_fat_per_gram1 &lt;dbl&gt; |\n|---|---|---|---|---|---|\n| GELATIN; DRY                  1 ENVELP |   7.00 |  0.0 |  0 | 0.00000000 | -0.5620426 |\n| SEAWEED; SPIRULINA; DRIED     1 OZ     |  28.35 |  0.8 |  0 | 0.02821869 | -0.1353304 |\n| YEAST; BAKERS; DRY; ACTIVE    1 PKG    |   7.00 |  0.0 |  0 | 0.00000000 | -0.5620426 |\n| PARMESAN CHEESE; GRATED       1 OZ     |  28.35 |  5.4 | 22 | 0.19047619 |  2.3182645 |\n| PARMESAN CHEESE; GRATED       1 CUP    | 100.00 | 19.1 | 79 | 0.19100000 |  2.3261853 |\n| PARMESAN CHEESE; GRATED       1 TBSP   |   5.00 |  1.0 |  4 | 0.20000000 |  2.4622798 |\n\n",
            "text/latex": "A tibble: 6 × 6\n\\begin{tabular}{llllll}\n food\\_item & weight\\_in\\_grams & saturated\\_fat & cholesterol & saturated\\_fat\\_per\\_gram & saturated\\_fat\\_per\\_gram1\\\\\n <chr> & <dbl> & <dbl> & <dbl> & <dbl> & <dbl>\\\\\n\\hline\n\t GELATIN; DRY                  1 ENVELP &   7.00 &  0.0 &  0 & 0.00000000 & -0.5620426\\\\\n\t SEAWEED; SPIRULINA; DRIED     1 OZ     &  28.35 &  0.8 &  0 & 0.02821869 & -0.1353304\\\\\n\t YEAST; BAKERS; DRY; ACTIVE    1 PKG    &   7.00 &  0.0 &  0 & 0.00000000 & -0.5620426\\\\\n\t PARMESAN CHEESE; GRATED       1 OZ     &  28.35 &  5.4 & 22 & 0.19047619 &  2.3182645\\\\\n\t PARMESAN CHEESE; GRATED       1 CUP    & 100.00 & 19.1 & 79 & 0.19100000 &  2.3261853\\\\\n\t PARMESAN CHEESE; GRATED       1 TBSP   &   5.00 &  1.0 &  4 & 0.20000000 &  2.4622798\\\\\n\\end{tabular}\n",
            "text/plain": [
              "  food_item                              weight_in_grams saturated_fat\n",
              "1 GELATIN; DRY                  1 ENVELP   7.00           0.0         \n",
              "2 SEAWEED; SPIRULINA; DRIED     1 OZ      28.35           0.8         \n",
              "3 YEAST; BAKERS; DRY; ACTIVE    1 PKG      7.00           0.0         \n",
              "4 PARMESAN CHEESE; GRATED       1 OZ      28.35           5.4         \n",
              "5 PARMESAN CHEESE; GRATED       1 CUP    100.00          19.1         \n",
              "6 PARMESAN CHEESE; GRATED       1 TBSP     5.00           1.0         \n",
              "  cholesterol saturated_fat_per_gram saturated_fat_per_gram1\n",
              "1  0          0.00000000             -0.5620426             \n",
              "2  0          0.02821869             -0.1353304             \n",
              "3  0          0.00000000             -0.5620426             \n",
              "4 22          0.19047619              2.3182645             \n",
              "5 79          0.19100000              2.3261853             \n",
              "6  4          0.20000000              2.4622798             "
            ]
          },
          "metadata": {}
        }
      ]
    },
    {
      "cell_type": "code",
      "source": [
        "# finding upper and lower bound\n",
        "q1 <- quantile(df$saturated_fat_per_gram1,0.25)\n",
        "q3 <- quantile(df$saturated_fat_per_gram1,0.75)\n",
        "IQR <- q3-q1\n",
        "lower_bound<-q1-(1.5 * IQR)\n",
        "upper_bound<-q3 +(1.5 * IQR)\n",
        "cat(\"lower_bound: \", lower_bound)\n",
        "cat(\"upper_bound: \", upper_bound)"
      ],
      "metadata": {
        "colab": {
          "base_uri": "https://localhost:8080/"
        },
        "id": "Pug_UTj0mUZt",
        "outputId": "0d4b4bf4-f4f9-4ff4-c7ef-4e6ba918b01b"
      },
      "execution_count": 130,
      "outputs": [
        {
          "output_type": "stream",
          "name": "stdout",
          "text": [
            "lower_bound:  -1.635986upper_bound:  1.227863"
          ]
        }
      ]
    },
    {
      "cell_type": "code",
      "source": [
        "df_saturated_fat_per_gram1 <- df[(df$saturated_fat_per_gram1< lower_bound) | (df$saturated_fat_per_gram1> upper_bound),]\n",
        "count(df_saturated_fat_per_gram1)"
      ],
      "metadata": {
        "id": "pZu00GdcLDI7",
        "outputId": "172b3a78-db2b-4258-d45d-3c38ee6f0a10",
        "colab": {
          "base_uri": "https://localhost:8080/",
          "height": 147
        }
      },
      "execution_count": 131,
      "outputs": [
        {
          "output_type": "display_data",
          "data": {
            "text/html": [
              "<table class=\"dataframe\">\n",
              "<caption>A tibble: 1 × 1</caption>\n",
              "<thead>\n",
              "\t<tr><th scope=col>n</th></tr>\n",
              "\t<tr><th scope=col>&lt;int&gt;</th></tr>\n",
              "</thead>\n",
              "<tbody>\n",
              "\t<tr><td>85</td></tr>\n",
              "</tbody>\n",
              "</table>\n"
            ],
            "text/markdown": "\nA tibble: 1 × 1\n\n| n &lt;int&gt; |\n|---|\n| 85 |\n\n",
            "text/latex": "A tibble: 1 × 1\n\\begin{tabular}{l}\n n\\\\\n <int>\\\\\n\\hline\n\t 85\\\\\n\\end{tabular}\n",
            "text/plain": [
              "  n \n",
              "1 85"
            ]
          },
          "metadata": {}
        }
      ]
    },
    {
      "cell_type": "code",
      "source": [
        "#Density Plot for  df_saturated_fat_per_gram\n",
        "par(mfrow=c(1,1))\n",
        "saturated_fat_per_gram_1 <- density(df$saturated_fat_per_gram) \n",
        "plot(saturated_fat_per_gram_1, main=\"Density plot for saturated_fat_per_gram\") \n",
        "polygon(saturated_fat_per_gram_1, col=\"white\", border=\"blue\")"
      ],
      "metadata": {
        "colab": {
          "base_uri": "https://localhost:8080/",
          "height": 437
        },
        "id": "1CJcN4UgpbmD",
        "outputId": "beeb54c8-003c-4956-8b30-4b023e1d6db6"
      },
      "execution_count": 132,
      "outputs": [
        {
          "output_type": "display_data",
          "data": {
            "text/plain": [
              "Plot with title “Density plot for saturated_fat_per_gram”"
            ],
            "image/png": "[encoded data removed]"
          },
          "metadata": {
            "image/png": {
              "width": 420,
              "height": 420
            }
          }
        }
      ]
    },
    {
      "cell_type": "markdown",
      "source": [
        "There are 85 outliers for saturated_fat_per_gram1"
      ],
      "metadata": {
        "id": "Tl6-sw1LnDsd"
      }
    },
    {
      "cell_type": "markdown",
      "source": [
        "6. Are there any missing values? If so, impute as necessary and explain your approach."
      ],
      "metadata": {
        "id": "4QYP90jqnP3b"
      }
    },
    {
      "cell_type": "code",
      "source": [
        "#Checking missing values\n",
        "sum(is.na(df))"
      ],
      "metadata": {
        "id": "ZkCkodz0MIdr",
        "colab": {
          "base_uri": "https://localhost:8080/",
          "height": 34
        },
        "outputId": "6209b788-8990-4dd1-c100-c5bb7b321fdf"
      },
      "execution_count": 133,
      "outputs": [
        {
          "output_type": "display_data",
          "data": {
            "text/html": [
              "0"
            ],
            "text/markdown": "0",
            "text/latex": "0",
            "text/plain": [
              "[1] 0"
            ]
          },
          "metadata": {}
        }
      ]
    },
    {
      "cell_type": "markdown",
      "source": [
        "#7. Standardize (zero mean) the numeric variables, and determine if there are any outliers."
      ],
      "metadata": {
        "id": "YcIXO2URnZ1U"
      }
    },
    {
      "cell_type": "markdown",
      "source": [
        "# 7.1 numeric field - weight_in_grams"
      ],
      "metadata": {
        "id": "HJfTchw5oTpI"
      }
    },
    {
      "cell_type": "code",
      "source": [
        "summary(df['weight_in_grams'])"
      ],
      "metadata": {
        "colab": {
          "base_uri": "https://localhost:8080/",
          "height": 139
        },
        "id": "q6GZ6hbxnXmG",
        "outputId": "912a33e7-2a98-4fc1-d271-f1168adf797e"
      },
      "execution_count": 134,
      "outputs": [
        {
          "output_type": "display_data",
          "data": {
            "text/plain": [
              " weight_in_grams \n",
              " Min.   :   0.4  \n",
              " 1st Qu.:  32.0  \n",
              " Median : 113.0  \n",
              " Mean   : 149.4  \n",
              " 3rd Qu.: 218.0  \n",
              " Max.   :1542.0  "
            ]
          },
          "metadata": {}
        }
      ]
    },
    {
      "cell_type": "code",
      "source": [
        "mean = mean(df$weight_in_grams)\n",
        "std = sd(df$weight_in_grams)\n",
        "df['weight_in_grams1'] = (df$weight_in_grams-mean)/std\n",
        "head(df)"
      ],
      "metadata": {
        "colab": {
          "base_uri": "https://localhost:8080/",
          "height": 286
        },
        "id": "VZJTYFxGnfBV",
        "outputId": "33ec5d06-5d4b-4166-8266-d50f193a15dc"
      },
      "execution_count": 135,
      "outputs": [
        {
          "output_type": "display_data",
          "data": {
            "text/html": [
              "<table class=\"dataframe\">\n",
              "<caption>A tibble: 6 × 7</caption>\n",
              "<thead>\n",
              "\t<tr><th scope=col>food_item</th><th scope=col>weight_in_grams</th><th scope=col>saturated_fat</th><th scope=col>cholesterol</th><th scope=col>saturated_fat_per_gram</th><th scope=col>saturated_fat_per_gram1</th><th scope=col>weight_in_grams1</th></tr>\n",
              "\t<tr><th scope=col>&lt;chr&gt;</th><th scope=col>&lt;dbl&gt;</th><th scope=col>&lt;dbl&gt;</th><th scope=col>&lt;dbl&gt;</th><th scope=col>&lt;dbl&gt;</th><th scope=col>&lt;dbl&gt;</th><th scope=col>&lt;dbl&gt;</th></tr>\n",
              "</thead>\n",
              "<tbody>\n",
              "\t<tr><td>GELATIN; DRY                  1 ENVELP</td><td>  7.00</td><td> 0.0</td><td> 0</td><td>0.00000000</td><td>-0.5620426</td><td>-0.8095611</td></tr>\n",
              "\t<tr><td>SEAWEED; SPIRULINA; DRIED     1 OZ    </td><td> 28.35</td><td> 0.8</td><td> 0</td><td>0.02821869</td><td>-0.1353304</td><td>-0.6881917</td></tr>\n",
              "\t<tr><td>YEAST; BAKERS; DRY; ACTIVE    1 PKG   </td><td>  7.00</td><td> 0.0</td><td> 0</td><td>0.00000000</td><td>-0.5620426</td><td>-0.8095611</td></tr>\n",
              "\t<tr><td>PARMESAN CHEESE; GRATED       1 OZ    </td><td> 28.35</td><td> 5.4</td><td>22</td><td>0.19047619</td><td> 2.3182645</td><td>-0.6881917</td></tr>\n",
              "\t<tr><td>PARMESAN CHEESE; GRATED       1 CUP   </td><td>100.00</td><td>19.1</td><td>79</td><td>0.19100000</td><td> 2.3261853</td><td>-0.2808797</td></tr>\n",
              "\t<tr><td>PARMESAN CHEESE; GRATED       1 TBSP  </td><td>  5.00</td><td> 1.0</td><td> 4</td><td>0.20000000</td><td> 2.4622798</td><td>-0.8209306</td></tr>\n",
              "</tbody>\n",
              "</table>\n"
            ],
            "text/markdown": "\nA tibble: 6 × 7\n\n| food_item &lt;chr&gt; | weight_in_grams &lt;dbl&gt; | saturated_fat &lt;dbl&gt; | cholesterol &lt;dbl&gt; | saturated_fat_per_gram &lt;dbl&gt; | saturated_fat_per_gram1 &lt;dbl&gt; | weight_in_grams1 &lt;dbl&gt; |\n|---|---|---|---|---|---|---|\n| GELATIN; DRY                  1 ENVELP |   7.00 |  0.0 |  0 | 0.00000000 | -0.5620426 | -0.8095611 |\n| SEAWEED; SPIRULINA; DRIED     1 OZ     |  28.35 |  0.8 |  0 | 0.02821869 | -0.1353304 | -0.6881917 |\n| YEAST; BAKERS; DRY; ACTIVE    1 PKG    |   7.00 |  0.0 |  0 | 0.00000000 | -0.5620426 | -0.8095611 |\n| PARMESAN CHEESE; GRATED       1 OZ     |  28.35 |  5.4 | 22 | 0.19047619 |  2.3182645 | -0.6881917 |\n| PARMESAN CHEESE; GRATED       1 CUP    | 100.00 | 19.1 | 79 | 0.19100000 |  2.3261853 | -0.2808797 |\n| PARMESAN CHEESE; GRATED       1 TBSP   |   5.00 |  1.0 |  4 | 0.20000000 |  2.4622798 | -0.8209306 |\n\n",
            "text/latex": "A tibble: 6 × 7\n\\begin{tabular}{lllllll}\n food\\_item & weight\\_in\\_grams & saturated\\_fat & cholesterol & saturated\\_fat\\_per\\_gram & saturated\\_fat\\_per\\_gram1 & weight\\_in\\_grams1\\\\\n <chr> & <dbl> & <dbl> & <dbl> & <dbl> & <dbl> & <dbl>\\\\\n\\hline\n\t GELATIN; DRY                  1 ENVELP &   7.00 &  0.0 &  0 & 0.00000000 & -0.5620426 & -0.8095611\\\\\n\t SEAWEED; SPIRULINA; DRIED     1 OZ     &  28.35 &  0.8 &  0 & 0.02821869 & -0.1353304 & -0.6881917\\\\\n\t YEAST; BAKERS; DRY; ACTIVE    1 PKG    &   7.00 &  0.0 &  0 & 0.00000000 & -0.5620426 & -0.8095611\\\\\n\t PARMESAN CHEESE; GRATED       1 OZ     &  28.35 &  5.4 & 22 & 0.19047619 &  2.3182645 & -0.6881917\\\\\n\t PARMESAN CHEESE; GRATED       1 CUP    & 100.00 & 19.1 & 79 & 0.19100000 &  2.3261853 & -0.2808797\\\\\n\t PARMESAN CHEESE; GRATED       1 TBSP   &   5.00 &  1.0 &  4 & 0.20000000 &  2.4622798 & -0.8209306\\\\\n\\end{tabular}\n",
            "text/plain": [
              "  food_item                              weight_in_grams saturated_fat\n",
              "1 GELATIN; DRY                  1 ENVELP   7.00           0.0         \n",
              "2 SEAWEED; SPIRULINA; DRIED     1 OZ      28.35           0.8         \n",
              "3 YEAST; BAKERS; DRY; ACTIVE    1 PKG      7.00           0.0         \n",
              "4 PARMESAN CHEESE; GRATED       1 OZ      28.35           5.4         \n",
              "5 PARMESAN CHEESE; GRATED       1 CUP    100.00          19.1         \n",
              "6 PARMESAN CHEESE; GRATED       1 TBSP     5.00           1.0         \n",
              "  cholesterol saturated_fat_per_gram saturated_fat_per_gram1 weight_in_grams1\n",
              "1  0          0.00000000             -0.5620426              -0.8095611      \n",
              "2  0          0.02821869             -0.1353304              -0.6881917      \n",
              "3  0          0.00000000             -0.5620426              -0.8095611      \n",
              "4 22          0.19047619              2.3182645              -0.6881917      \n",
              "5 79          0.19100000              2.3261853              -0.2808797      \n",
              "6  4          0.20000000              2.4622798              -0.8209306      "
            ]
          },
          "metadata": {}
        }
      ]
    },
    {
      "cell_type": "code",
      "source": [
        "# finding upper and lower bound\n",
        "q1 <- quantile(df$weight_in_grams1,0.25)\n",
        "q3 <- quantile(df$weight_in_grams1,0.75)\n",
        "IQR <- q3-q1\n",
        "lower_bound<-q1-(1.5 * IQR)\n",
        "upper_bound<-q3 +(1.5 * IQR)\n",
        "cat('lower_bound',lower_bound)\n",
        "cat('\\nupper_bound',upper_bound)"
      ],
      "metadata": {
        "colab": {
          "base_uri": "https://localhost:8080/"
        },
        "id": "1gjzlnSOnl7H",
        "outputId": "47bb808b-e997-479e-c54e-15d4ff92cfc4"
      },
      "execution_count": 136,
      "outputs": [
        {
          "output_type": "stream",
          "name": "stdout",
          "text": [
            "lower_bound -2.253487\n",
            "upper_bound 1.975964"
          ]
        }
      ]
    },
    {
      "cell_type": "code",
      "source": [
        "df_weight_in_grams1 <- df[(df$weight_in_grams1< lower_bound) | (df$weight_in_grams1> upper_bound),]\n",
        "count(df_weight_in_grams1)"
      ],
      "metadata": {
        "colab": {
          "base_uri": "https://localhost:8080/",
          "height": 147
        },
        "id": "9WEMa_ttntU3",
        "outputId": "6175b408-0b84-4b8d-a33c-f3002863a544"
      },
      "execution_count": 137,
      "outputs": [
        {
          "output_type": "display_data",
          "data": {
            "text/html": [
              "<table class=\"dataframe\">\n",
              "<caption>A tibble: 1 × 1</caption>\n",
              "<thead>\n",
              "\t<tr><th scope=col>n</th></tr>\n",
              "\t<tr><th scope=col>&lt;int&gt;</th></tr>\n",
              "</thead>\n",
              "<tbody>\n",
              "\t<tr><td>27</td></tr>\n",
              "</tbody>\n",
              "</table>\n"
            ],
            "text/markdown": "\nA tibble: 1 × 1\n\n| n &lt;int&gt; |\n|---|\n| 27 |\n\n",
            "text/latex": "A tibble: 1 × 1\n\\begin{tabular}{l}\n n\\\\\n <int>\\\\\n\\hline\n\t 27\\\\\n\\end{tabular}\n",
            "text/plain": [
              "  n \n",
              "1 27"
            ]
          },
          "metadata": {}
        }
      ]
    },
    {
      "cell_type": "code",
      "source": [
        "boxplot(df$weight_in_grams1,ylab = \"cholesterol\",main = \"Boxplot\",horizontal = TRUE)"
      ],
      "metadata": {
        "colab": {
          "base_uri": "https://localhost:8080/",
          "height": 437
        },
        "id": "BDFIp3wMpNln",
        "outputId": "f66fd796-9f0a-4d76-9cab-7a8ddf02053e"
      },
      "execution_count": 138,
      "outputs": [
        {
          "output_type": "display_data",
          "data": {
            "text/plain": [
              "Plot with title “Boxplot”"
            ],
            "image/png": "[encoded data removed]"
          },
          "metadata": {
            "image/png": {
              "width": 420,
              "height": 420
            }
          }
        }
      ]
    },
    {
      "cell_type": "markdown",
      "source": [
        "There are 27 outliers for weight_in_grams"
      ],
      "metadata": {
        "id": "8vfJLa6DoCPD"
      }
    },
    {
      "cell_type": "markdown",
      "source": [
        "# 7.2 numeric field - cholesterol"
      ],
      "metadata": {
        "id": "I6VDBNWkoQRB"
      }
    },
    {
      "cell_type": "code",
      "source": [
        "summary(df['cholesterol'])"
      ],
      "metadata": {
        "colab": {
          "base_uri": "https://localhost:8080/",
          "height": 139
        },
        "id": "Jm7bPmV2n35s",
        "outputId": "97690c7e-dd53-474a-f843-0892b3b179b3"
      },
      "execution_count": 139,
      "outputs": [
        {
          "output_type": "display_data",
          "data": {
            "text/plain": [
              "  cholesterol     \n",
              " Min.   :   0.00  \n",
              " 1st Qu.:   0.00  \n",
              " Median :   0.00  \n",
              " Mean   :  32.55  \n",
              " 3rd Qu.:  20.00  \n",
              " Max.   :2053.00  "
            ]
          },
          "metadata": {}
        }
      ]
    },
    {
      "cell_type": "code",
      "source": [
        "mean = mean(df$cholesterol)\n",
        "std = sd(df$cholesterol)\n",
        "df['cholesterol1'] = (df$cholesterol-mean)/std\n",
        "head(df)"
      ],
      "metadata": {
        "colab": {
          "base_uri": "https://localhost:8080/",
          "height": 286
        },
        "id": "fGFXS9myoRWv",
        "outputId": "6f1fa704-a528-4407-ca6a-c6b21a8391fe"
      },
      "execution_count": 140,
      "outputs": [
        {
          "output_type": "display_data",
          "data": {
            "text/html": [
              "<table class=\"dataframe\">\n",
              "<caption>A tibble: 6 × 8</caption>\n",
              "<thead>\n",
              "\t<tr><th scope=col>food_item</th><th scope=col>weight_in_grams</th><th scope=col>saturated_fat</th><th scope=col>cholesterol</th><th scope=col>saturated_fat_per_gram</th><th scope=col>saturated_fat_per_gram1</th><th scope=col>weight_in_grams1</th><th scope=col>cholesterol1</th></tr>\n",
              "\t<tr><th scope=col>&lt;chr&gt;</th><th scope=col>&lt;dbl&gt;</th><th scope=col>&lt;dbl&gt;</th><th scope=col>&lt;dbl&gt;</th><th scope=col>&lt;dbl&gt;</th><th scope=col>&lt;dbl&gt;</th><th scope=col>&lt;dbl&gt;</th><th scope=col>&lt;dbl&gt;</th></tr>\n",
              "</thead>\n",
              "<tbody>\n",
              "\t<tr><td>GELATIN; DRY                  1 ENVELP</td><td>  7.00</td><td> 0.0</td><td> 0</td><td>0.00000000</td><td>-0.5620426</td><td>-0.8095611</td><td>-0.27136904</td></tr>\n",
              "\t<tr><td>SEAWEED; SPIRULINA; DRIED     1 OZ    </td><td> 28.35</td><td> 0.8</td><td> 0</td><td>0.02821869</td><td>-0.1353304</td><td>-0.6881917</td><td>-0.27136904</td></tr>\n",
              "\t<tr><td>YEAST; BAKERS; DRY; ACTIVE    1 PKG   </td><td>  7.00</td><td> 0.0</td><td> 0</td><td>0.00000000</td><td>-0.5620426</td><td>-0.8095611</td><td>-0.27136904</td></tr>\n",
              "\t<tr><td>PARMESAN CHEESE; GRATED       1 OZ    </td><td> 28.35</td><td> 5.4</td><td>22</td><td>0.19047619</td><td> 2.3182645</td><td>-0.6881917</td><td>-0.08797548</td></tr>\n",
              "\t<tr><td>PARMESAN CHEESE; GRATED       1 CUP   </td><td>100.00</td><td>19.1</td><td>79</td><td>0.19100000</td><td> 2.3261853</td><td>-0.2808797</td><td> 0.38718057</td></tr>\n",
              "\t<tr><td>PARMESAN CHEESE; GRATED       1 TBSP  </td><td>  5.00</td><td> 1.0</td><td> 4</td><td>0.20000000</td><td> 2.4622798</td><td>-0.8209306</td><td>-0.23802475</td></tr>\n",
              "</tbody>\n",
              "</table>\n"
            ],
            "text/markdown": "\nA tibble: 6 × 8\n\n| food_item &lt;chr&gt; | weight_in_grams &lt;dbl&gt; | saturated_fat &lt;dbl&gt; | cholesterol &lt;dbl&gt; | saturated_fat_per_gram &lt;dbl&gt; | saturated_fat_per_gram1 &lt;dbl&gt; | weight_in_grams1 &lt;dbl&gt; | cholesterol1 &lt;dbl&gt; |\n|---|---|---|---|---|---|---|---|\n| GELATIN; DRY                  1 ENVELP |   7.00 |  0.0 |  0 | 0.00000000 | -0.5620426 | -0.8095611 | -0.27136904 |\n| SEAWEED; SPIRULINA; DRIED     1 OZ     |  28.35 |  0.8 |  0 | 0.02821869 | -0.1353304 | -0.6881917 | -0.27136904 |\n| YEAST; BAKERS; DRY; ACTIVE    1 PKG    |   7.00 |  0.0 |  0 | 0.00000000 | -0.5620426 | -0.8095611 | -0.27136904 |\n| PARMESAN CHEESE; GRATED       1 OZ     |  28.35 |  5.4 | 22 | 0.19047619 |  2.3182645 | -0.6881917 | -0.08797548 |\n| PARMESAN CHEESE; GRATED       1 CUP    | 100.00 | 19.1 | 79 | 0.19100000 |  2.3261853 | -0.2808797 |  0.38718057 |\n| PARMESAN CHEESE; GRATED       1 TBSP   |   5.00 |  1.0 |  4 | 0.20000000 |  2.4622798 | -0.8209306 | -0.23802475 |\n\n",
            "text/latex": "A tibble: 6 × 8\n\\begin{tabular}{llllllll}\n food\\_item & weight\\_in\\_grams & saturated\\_fat & cholesterol & saturated\\_fat\\_per\\_gram & saturated\\_fat\\_per\\_gram1 & weight\\_in\\_grams1 & cholesterol1\\\\\n <chr> & <dbl> & <dbl> & <dbl> & <dbl> & <dbl> & <dbl> & <dbl>\\\\\n\\hline\n\t GELATIN; DRY                  1 ENVELP &   7.00 &  0.0 &  0 & 0.00000000 & -0.5620426 & -0.8095611 & -0.27136904\\\\\n\t SEAWEED; SPIRULINA; DRIED     1 OZ     &  28.35 &  0.8 &  0 & 0.02821869 & -0.1353304 & -0.6881917 & -0.27136904\\\\\n\t YEAST; BAKERS; DRY; ACTIVE    1 PKG    &   7.00 &  0.0 &  0 & 0.00000000 & -0.5620426 & -0.8095611 & -0.27136904\\\\\n\t PARMESAN CHEESE; GRATED       1 OZ     &  28.35 &  5.4 & 22 & 0.19047619 &  2.3182645 & -0.6881917 & -0.08797548\\\\\n\t PARMESAN CHEESE; GRATED       1 CUP    & 100.00 & 19.1 & 79 & 0.19100000 &  2.3261853 & -0.2808797 &  0.38718057\\\\\n\t PARMESAN CHEESE; GRATED       1 TBSP   &   5.00 &  1.0 &  4 & 0.20000000 &  2.4622798 & -0.8209306 & -0.23802475\\\\\n\\end{tabular}\n",
            "text/plain": [
              "  food_item                              weight_in_grams saturated_fat\n",
              "1 GELATIN; DRY                  1 ENVELP   7.00           0.0         \n",
              "2 SEAWEED; SPIRULINA; DRIED     1 OZ      28.35           0.8         \n",
              "3 YEAST; BAKERS; DRY; ACTIVE    1 PKG      7.00           0.0         \n",
              "4 PARMESAN CHEESE; GRATED       1 OZ      28.35           5.4         \n",
              "5 PARMESAN CHEESE; GRATED       1 CUP    100.00          19.1         \n",
              "6 PARMESAN CHEESE; GRATED       1 TBSP     5.00           1.0         \n",
              "  cholesterol saturated_fat_per_gram saturated_fat_per_gram1 weight_in_grams1\n",
              "1  0          0.00000000             -0.5620426              -0.8095611      \n",
              "2  0          0.02821869             -0.1353304              -0.6881917      \n",
              "3  0          0.00000000             -0.5620426              -0.8095611      \n",
              "4 22          0.19047619              2.3182645              -0.6881917      \n",
              "5 79          0.19100000              2.3261853              -0.2808797      \n",
              "6  4          0.20000000              2.4622798              -0.8209306      \n",
              "  cholesterol1\n",
              "1 -0.27136904 \n",
              "2 -0.27136904 \n",
              "3 -0.27136904 \n",
              "4 -0.08797548 \n",
              "5  0.38718057 \n",
              "6 -0.23802475 "
            ]
          },
          "metadata": {}
        }
      ]
    },
    {
      "cell_type": "code",
      "source": [
        "# finding upper and lower bound\n",
        "q1 <- quantile(df$cholesterol1,0.25)\n",
        "q3 <- quantile(df$cholesterol1,0.75)\n",
        "IQR <- q3-q1\n",
        "lower_bound<-q1-(1.5 * IQR)\n",
        "upper_bound<-q3 +(1.5 * IQR)\n",
        "cat('lower_bound',lower_bound)\n",
        "cat('\\nupper_bound',upper_bound)"
      ],
      "metadata": {
        "colab": {
          "base_uri": "https://localhost:8080/"
        },
        "id": "VujxoUzdof4E",
        "outputId": "e864f0e3-f0d7-44c2-b5ef-5e891cbeac20"
      },
      "execution_count": 141,
      "outputs": [
        {
          "output_type": "stream",
          "name": "stdout",
          "text": [
            "lower_bound -0.5214512\n",
            "upper_bound 0.1454345"
          ]
        }
      ]
    },
    {
      "cell_type": "code",
      "source": [
        "df_cholesterol1 <- df[(df$cholesterol1< lower_bound) | (df$cholesterol1> upper_bound),]\n",
        "count(df_cholesterol1)"
      ],
      "metadata": {
        "colab": {
          "base_uri": "https://localhost:8080/",
          "height": 147
        },
        "id": "libL0c_qojjS",
        "outputId": "3849a230-421c-4ecb-bcf9-711a26dc8221"
      },
      "execution_count": 142,
      "outputs": [
        {
          "output_type": "display_data",
          "data": {
            "text/html": [
              "<table class=\"dataframe\">\n",
              "<caption>A tibble: 1 × 1</caption>\n",
              "<thead>\n",
              "\t<tr><th scope=col>n</th></tr>\n",
              "\t<tr><th scope=col>&lt;int&gt;</th></tr>\n",
              "</thead>\n",
              "<tbody>\n",
              "\t<tr><td>146</td></tr>\n",
              "</tbody>\n",
              "</table>\n"
            ],
            "text/markdown": "\nA tibble: 1 × 1\n\n| n &lt;int&gt; |\n|---|\n| 146 |\n\n",
            "text/latex": "A tibble: 1 × 1\n\\begin{tabular}{l}\n n\\\\\n <int>\\\\\n\\hline\n\t 146\\\\\n\\end{tabular}\n",
            "text/plain": [
              "  n  \n",
              "1 146"
            ]
          },
          "metadata": {}
        }
      ]
    },
    {
      "cell_type": "markdown",
      "source": [
        "There are 146 outliers for cholesterol"
      ],
      "metadata": {
        "id": "zRa2hHJFoztU"
      }
    },
    {
      "cell_type": "code",
      "source": [
        "boxplot(df$cholesterol,ylab = \"cholesterol\",main = \"Boxplot\",horizontal = TRUE)"
      ],
      "metadata": {
        "colab": {
          "base_uri": "https://localhost:8080/",
          "height": 437
        },
        "id": "RQu69ERRoyb7",
        "outputId": "27d5d5f7-3c89-42fd-e1d4-305982d2205d"
      },
      "execution_count": 145,
      "outputs": [
        {
          "output_type": "display_data",
          "data": {
            "text/plain": [
              "Plot with title “Boxplot”"
            ],
            "image/png": "[encoded data removed]"
          },
          "metadata": {
            "image/png": {
              "width": 420,
              "height": 420
            }
          }
        }
      ]
    },
    {
      "cell_type": "markdown",
      "source": [
        "**Summary**\n",
        "\n",
        "1. There is no missing value/null value/unknown value in dataset and dataset has 961 rows.\n",
        "2. food item 'CHEESECAKE 1 CAKE' has the highest saturated_fat.\n",
        "3. food item 'BUTTER; SALTED 1 TBSP' has the highest sat.urated_fat in per gram.\n",
        "4. There are 85 outliers for saturated_fat_per_gram\n",
        "5. There are 27 outliers for weight_in_grams and 146 for cholesterol."
      ],
      "metadata": {
        "id": "Dty1v_gBry9b"
      }
    },
    {
      "cell_type": "code",
      "source": [
        ""
      ],
      "metadata": {
        "id": "Jh27TOqdsFJu"
      },
      "execution_count": 144,
      "outputs": []
    }
  ]
}