{
  "nbformat": 4,
  "nbformat_minor": 0,
  "metadata": {
    "colab": {
      "name": "Problem2_p.ipynb",
      "provenance": [],
      "authorship_tag": "ABX9TyNkGon+mvndhmnwwkzlh7GI",
      "include_colab_link": true
    },
    "kernelspec": {
      "name": "python3",
      "display_name": "Python 3"
    },
    "language_info": {
      "name": "python"
    }
  },
  "cells": [
    {
      "cell_type": "markdown",
      "metadata": {
        "id": "view-in-github",
        "colab_type": "text"
      },
      "source": [
        "<a href=\"https://colab.research.google.com/github/sg758253/IDS/blob/main/HW5/Problem2_p.ipynb\" target=\"_parent\"><img src=\"https://colab.research.google.com/assets/colab-badge.svg\" alt=\"Open In Colab\"/></a>"
      ]
    },
    {
      "cell_type": "markdown",
      "source": [
        "*   Name: Sachin Gupta (sg758253@sju.edu)\n",
        "*   Date: 03/05/22\n",
        "*   Assignment: 5\n",
        "*   Use Naïve Bayes to classify a response variable. Specifically, predict whether a wine is red or white based on whether the wine has high or low alcohol and sugar content.\n",
        "\n"
      ],
      "metadata": {
        "id": "Csns4SKSEj9I"
      }
    },
    {
      "cell_type": "code",
      "execution_count": 271,
      "metadata": {
        "id": "aoT2iSz6S9XH"
      },
      "outputs": [],
      "source": [
        "#import required library\n",
        "import pandas as pd\n",
        "import numpy as np\n",
        "import seaborn as sns"
      ]
    },
    {
      "cell_type": "code",
      "source": [
        "# import data\n",
        "df = pd.read_csv(\"https://raw.githubusercontent.com/sg758253/IDS/main/HW5/wine_flag_all.csv\")\n",
        "df"
      ],
      "metadata": {
        "id": "DQ5McfafVgbF",
        "outputId": "f807d580-b6bb-442b-d3a6-8264e0819517",
        "colab": {
          "base_uri": "https://localhost:8080/",
          "height": 424
        }
      },
      "execution_count": 272,
      "outputs": [
        {
          "output_type": "execute_result",
          "data": {
            "text/plain": [
              "       Type Alcohol_flag Sugar_flag\n",
              "0       Red         High       High\n",
              "1       Red         High        Low\n",
              "2       Red          Low       High\n",
              "3       Red         High        Low\n",
              "4       Red          Low        Low\n",
              "...     ...          ...        ...\n",
              "3340  White         High       High\n",
              "3341  White         High        Low\n",
              "3342  White         High        Low\n",
              "3343  White         High        Low\n",
              "3344  White         High        Low\n",
              "\n",
              "[3345 rows x 3 columns]"
            ],
            "text/html": [
              "\n",
              "  <div id=\"df-778ca0f9-e214-421e-bc4d-f18bc65a8de5\">\n",
              "    <div class=\"colab-df-container\">\n",
              "      <div>\n",
              "<style scoped>\n",
              "    .dataframe tbody tr th:only-of-type {\n",
              "        vertical-align: middle;\n",
              "    }\n",
              "\n",
              "    .dataframe tbody tr th {\n",
              "        vertical-align: top;\n",
              "    }\n",
              "\n",
              "    .dataframe thead th {\n",
              "        text-align: right;\n",
              "    }\n",
              "</style>\n",
              "<table border=\"1\" class=\"dataframe\">\n",
              "  <thead>\n",
              "    <tr style=\"text-align: right;\">\n",
              "      <th></th>\n",
              "      <th>Type</th>\n",
              "      <th>Alcohol_flag</th>\n",
              "      <th>Sugar_flag</th>\n",
              "    </tr>\n",
              "  </thead>\n",
              "  <tbody>\n",
              "    <tr>\n",
              "      <th>0</th>\n",
              "      <td>Red</td>\n",
              "      <td>High</td>\n",
              "      <td>High</td>\n",
              "    </tr>\n",
              "    <tr>\n",
              "      <th>1</th>\n",
              "      <td>Red</td>\n",
              "      <td>High</td>\n",
              "      <td>Low</td>\n",
              "    </tr>\n",
              "    <tr>\n",
              "      <th>2</th>\n",
              "      <td>Red</td>\n",
              "      <td>Low</td>\n",
              "      <td>High</td>\n",
              "    </tr>\n",
              "    <tr>\n",
              "      <th>3</th>\n",
              "      <td>Red</td>\n",
              "      <td>High</td>\n",
              "      <td>Low</td>\n",
              "    </tr>\n",
              "    <tr>\n",
              "      <th>4</th>\n",
              "      <td>Red</td>\n",
              "      <td>Low</td>\n",
              "      <td>Low</td>\n",
              "    </tr>\n",
              "    <tr>\n",
              "      <th>...</th>\n",
              "      <td>...</td>\n",
              "      <td>...</td>\n",
              "      <td>...</td>\n",
              "    </tr>\n",
              "    <tr>\n",
              "      <th>3340</th>\n",
              "      <td>White</td>\n",
              "      <td>High</td>\n",
              "      <td>High</td>\n",
              "    </tr>\n",
              "    <tr>\n",
              "      <th>3341</th>\n",
              "      <td>White</td>\n",
              "      <td>High</td>\n",
              "      <td>Low</td>\n",
              "    </tr>\n",
              "    <tr>\n",
              "      <th>3342</th>\n",
              "      <td>White</td>\n",
              "      <td>High</td>\n",
              "      <td>Low</td>\n",
              "    </tr>\n",
              "    <tr>\n",
              "      <th>3343</th>\n",
              "      <td>White</td>\n",
              "      <td>High</td>\n",
              "      <td>Low</td>\n",
              "    </tr>\n",
              "    <tr>\n",
              "      <th>3344</th>\n",
              "      <td>White</td>\n",
              "      <td>High</td>\n",
              "      <td>Low</td>\n",
              "    </tr>\n",
              "  </tbody>\n",
              "</table>\n",
              "<p>3345 rows × 3 columns</p>\n",
              "</div>\n",
              "      <button class=\"colab-df-convert\" onclick=\"convertToInteractive('df-778ca0f9-e214-421e-bc4d-f18bc65a8de5')\"\n",
              "              title=\"Convert this dataframe to an interactive table.\"\n",
              "              style=\"display:none;\">\n",
              "        \n",
              "  <svg xmlns=\"http://www.w3.org/2000/svg\" height=\"24px\"viewBox=\"0 0 24 24\"\n",
              "       width=\"24px\">\n",
              "    <path d=\"M0 0h24v24H0V0z\" fill=\"none\"/>\n",
              "    <path d=\"M18.56 5.44l.94 2.06.94-2.06 2.06-.94-2.06-.94-.94-2.06-.94 2.06-2.06.94zm-11 1L8.5 8.5l.94-2.06 2.06-.94-2.06-.94L8.5 2.5l-.94 2.06-2.06.94zm10 10l.94 2.06.94-2.06 2.06-.94-2.06-.94-.94-2.06-.94 2.06-2.06.94z\"/><path d=\"M17.41 7.96l-1.37-1.37c-.4-.4-.92-.59-1.43-.59-.52 0-1.04.2-1.43.59L10.3 9.45l-7.72 7.72c-.78.78-.78 2.05 0 2.83L4 21.41c.39.39.9.59 1.41.59.51 0 1.02-.2 1.41-.59l7.78-7.78 2.81-2.81c.8-.78.8-2.07 0-2.86zM5.41 20L4 18.59l7.72-7.72 1.47 1.35L5.41 20z\"/>\n",
              "  </svg>\n",
              "      </button>\n",
              "      \n",
              "  <style>\n",
              "    .colab-df-container {\n",
              "      display:flex;\n",
              "      flex-wrap:wrap;\n",
              "      gap: 12px;\n",
              "    }\n",
              "\n",
              "    .colab-df-convert {\n",
              "      background-color: #E8F0FE;\n",
              "      border: none;\n",
              "      border-radius: 50%;\n",
              "      cursor: pointer;\n",
              "      display: none;\n",
              "      fill: #1967D2;\n",
              "      height: 32px;\n",
              "      padding: 0 0 0 0;\n",
              "      width: 32px;\n",
              "    }\n",
              "\n",
              "    .colab-df-convert:hover {\n",
              "      background-color: #E2EBFA;\n",
              "      box-shadow: 0px 1px 2px rgba(60, 64, 67, 0.3), 0px 1px 3px 1px rgba(60, 64, 67, 0.15);\n",
              "      fill: #174EA6;\n",
              "    }\n",
              "\n",
              "    [theme=dark] .colab-df-convert {\n",
              "      background-color: #3B4455;\n",
              "      fill: #D2E3FC;\n",
              "    }\n",
              "\n",
              "    [theme=dark] .colab-df-convert:hover {\n",
              "      background-color: #434B5C;\n",
              "      box-shadow: 0px 1px 3px 1px rgba(0, 0, 0, 0.15);\n",
              "      filter: drop-shadow(0px 1px 2px rgba(0, 0, 0, 0.3));\n",
              "      fill: #FFFFFF;\n",
              "    }\n",
              "  </style>\n",
              "\n",
              "      <script>\n",
              "        const buttonEl =\n",
              "          document.querySelector('#df-778ca0f9-e214-421e-bc4d-f18bc65a8de5 button.colab-df-convert');\n",
              "        buttonEl.style.display =\n",
              "          google.colab.kernel.accessAllowed ? 'block' : 'none';\n",
              "\n",
              "        async function convertToInteractive(key) {\n",
              "          const element = document.querySelector('#df-778ca0f9-e214-421e-bc4d-f18bc65a8de5');\n",
              "          const dataTable =\n",
              "            await google.colab.kernel.invokeFunction('convertToInteractive',\n",
              "                                                     [key], {});\n",
              "          if (!dataTable) return;\n",
              "\n",
              "          const docLinkHtml = 'Like what you see? Visit the ' +\n",
              "            '<a target=\"_blank\" href=https://colab.research.google.com/notebooks/data_table.ipynb>data table notebook</a>'\n",
              "            + ' to learn more about interactive tables.';\n",
              "          element.innerHTML = '';\n",
              "          dataTable['output_type'] = 'display_data';\n",
              "          await google.colab.output.renderOutput(dataTable, element);\n",
              "          const docLink = document.createElement('div');\n",
              "          docLink.innerHTML = docLinkHtml;\n",
              "          element.appendChild(docLink);\n",
              "        }\n",
              "      </script>\n",
              "    </div>\n",
              "  </div>\n",
              "  "
            ]
          },
          "metadata": {},
          "execution_count": 272
        }
      ]
    },
    {
      "cell_type": "code",
      "source": [
        "# describe dataset\n",
        "df.describe()"
      ],
      "metadata": {
        "colab": {
          "base_uri": "https://localhost:8080/",
          "height": 175
        },
        "id": "kur8XD3EWNfg",
        "outputId": "9e5fc90b-7169-4e02-b8a9-d1deb0db744f"
      },
      "execution_count": 273,
      "outputs": [
        {
          "output_type": "execute_result",
          "data": {
            "text/plain": [
              "         Type Alcohol_flag Sugar_flag\n",
              "count    3345         3345       3345\n",
              "unique      2            2          2\n",
              "top     White          Low        Low\n",
              "freq     2260         1684       1726"
            ],
            "text/html": [
              "\n",
              "  <div id=\"df-380cd4b4-d809-4b91-bef1-fb2a060c0a97\">\n",
              "    <div class=\"colab-df-container\">\n",
              "      <div>\n",
              "<style scoped>\n",
              "    .dataframe tbody tr th:only-of-type {\n",
              "        vertical-align: middle;\n",
              "    }\n",
              "\n",
              "    .dataframe tbody tr th {\n",
              "        vertical-align: top;\n",
              "    }\n",
              "\n",
              "    .dataframe thead th {\n",
              "        text-align: right;\n",
              "    }\n",
              "</style>\n",
              "<table border=\"1\" class=\"dataframe\">\n",
              "  <thead>\n",
              "    <tr style=\"text-align: right;\">\n",
              "      <th></th>\n",
              "      <th>Type</th>\n",
              "      <th>Alcohol_flag</th>\n",
              "      <th>Sugar_flag</th>\n",
              "    </tr>\n",
              "  </thead>\n",
              "  <tbody>\n",
              "    <tr>\n",
              "      <th>count</th>\n",
              "      <td>3345</td>\n",
              "      <td>3345</td>\n",
              "      <td>3345</td>\n",
              "    </tr>\n",
              "    <tr>\n",
              "      <th>unique</th>\n",
              "      <td>2</td>\n",
              "      <td>2</td>\n",
              "      <td>2</td>\n",
              "    </tr>\n",
              "    <tr>\n",
              "      <th>top</th>\n",
              "      <td>White</td>\n",
              "      <td>Low</td>\n",
              "      <td>Low</td>\n",
              "    </tr>\n",
              "    <tr>\n",
              "      <th>freq</th>\n",
              "      <td>2260</td>\n",
              "      <td>1684</td>\n",
              "      <td>1726</td>\n",
              "    </tr>\n",
              "  </tbody>\n",
              "</table>\n",
              "</div>\n",
              "      <button class=\"colab-df-convert\" onclick=\"convertToInteractive('df-380cd4b4-d809-4b91-bef1-fb2a060c0a97')\"\n",
              "              title=\"Convert this dataframe to an interactive table.\"\n",
              "              style=\"display:none;\">\n",
              "        \n",
              "  <svg xmlns=\"http://www.w3.org/2000/svg\" height=\"24px\"viewBox=\"0 0 24 24\"\n",
              "       width=\"24px\">\n",
              "    <path d=\"M0 0h24v24H0V0z\" fill=\"none\"/>\n",
              "    <path d=\"M18.56 5.44l.94 2.06.94-2.06 2.06-.94-2.06-.94-.94-2.06-.94 2.06-2.06.94zm-11 1L8.5 8.5l.94-2.06 2.06-.94-2.06-.94L8.5 2.5l-.94 2.06-2.06.94zm10 10l.94 2.06.94-2.06 2.06-.94-2.06-.94-.94-2.06-.94 2.06-2.06.94z\"/><path d=\"M17.41 7.96l-1.37-1.37c-.4-.4-.92-.59-1.43-.59-.52 0-1.04.2-1.43.59L10.3 9.45l-7.72 7.72c-.78.78-.78 2.05 0 2.83L4 21.41c.39.39.9.59 1.41.59.51 0 1.02-.2 1.41-.59l7.78-7.78 2.81-2.81c.8-.78.8-2.07 0-2.86zM5.41 20L4 18.59l7.72-7.72 1.47 1.35L5.41 20z\"/>\n",
              "  </svg>\n",
              "      </button>\n",
              "      \n",
              "  <style>\n",
              "    .colab-df-container {\n",
              "      display:flex;\n",
              "      flex-wrap:wrap;\n",
              "      gap: 12px;\n",
              "    }\n",
              "\n",
              "    .colab-df-convert {\n",
              "      background-color: #E8F0FE;\n",
              "      border: none;\n",
              "      border-radius: 50%;\n",
              "      cursor: pointer;\n",
              "      display: none;\n",
              "      fill: #1967D2;\n",
              "      height: 32px;\n",
              "      padding: 0 0 0 0;\n",
              "      width: 32px;\n",
              "    }\n",
              "\n",
              "    .colab-df-convert:hover {\n",
              "      background-color: #E2EBFA;\n",
              "      box-shadow: 0px 1px 2px rgba(60, 64, 67, 0.3), 0px 1px 3px 1px rgba(60, 64, 67, 0.15);\n",
              "      fill: #174EA6;\n",
              "    }\n",
              "\n",
              "    [theme=dark] .colab-df-convert {\n",
              "      background-color: #3B4455;\n",
              "      fill: #D2E3FC;\n",
              "    }\n",
              "\n",
              "    [theme=dark] .colab-df-convert:hover {\n",
              "      background-color: #434B5C;\n",
              "      box-shadow: 0px 1px 3px 1px rgba(0, 0, 0, 0.15);\n",
              "      filter: drop-shadow(0px 1px 2px rgba(0, 0, 0, 0.3));\n",
              "      fill: #FFFFFF;\n",
              "    }\n",
              "  </style>\n",
              "\n",
              "      <script>\n",
              "        const buttonEl =\n",
              "          document.querySelector('#df-380cd4b4-d809-4b91-bef1-fb2a060c0a97 button.colab-df-convert');\n",
              "        buttonEl.style.display =\n",
              "          google.colab.kernel.accessAllowed ? 'block' : 'none';\n",
              "\n",
              "        async function convertToInteractive(key) {\n",
              "          const element = document.querySelector('#df-380cd4b4-d809-4b91-bef1-fb2a060c0a97');\n",
              "          const dataTable =\n",
              "            await google.colab.kernel.invokeFunction('convertToInteractive',\n",
              "                                                     [key], {});\n",
              "          if (!dataTable) return;\n",
              "\n",
              "          const docLinkHtml = 'Like what you see? Visit the ' +\n",
              "            '<a target=\"_blank\" href=https://colab.research.google.com/notebooks/data_table.ipynb>data table notebook</a>'\n",
              "            + ' to learn more about interactive tables.';\n",
              "          element.innerHTML = '';\n",
              "          dataTable['output_type'] = 'display_data';\n",
              "          await google.colab.output.renderOutput(dataTable, element);\n",
              "          const docLink = document.createElement('div');\n",
              "          docLink.innerHTML = docLinkHtml;\n",
              "          element.appendChild(docLink);\n",
              "        }\n",
              "      </script>\n",
              "    </div>\n",
              "  </div>\n",
              "  "
            ]
          },
          "metadata": {},
          "execution_count": 273
        }
      ]
    },
    {
      "cell_type": "markdown",
      "source": [
        "#Task 3. Test for presence any missing attribute/target values and impute as necessary."
      ],
      "metadata": {
        "id": "a3TUKHfzFhTe"
      }
    },
    {
      "cell_type": "code",
      "source": [
        "# check null values\n",
        "df.isnull().sum()"
      ],
      "metadata": {
        "colab": {
          "base_uri": "https://localhost:8080/"
        },
        "id": "3LdB4KcmWPLA",
        "outputId": "6ce9301b-888c-4fdd-8dc4-ad7c9be417ec"
      },
      "execution_count": 274,
      "outputs": [
        {
          "output_type": "execute_result",
          "data": {
            "text/plain": [
              "Type            0\n",
              "Alcohol_flag    0\n",
              "Sugar_flag      0\n",
              "dtype: int64"
            ]
          },
          "metadata": {},
          "execution_count": 274
        }
      ]
    },
    {
      "cell_type": "markdown",
      "source": [
        "There is no null values in the dataset. There is 3 columns and 3345 rows in the dataset."
      ],
      "metadata": {
        "id": "DdGr4GMBFsL_"
      }
    },
    {
      "cell_type": "markdown",
      "source": [
        "#Task 4. Encode all categoric attributes (e.g. label encoding or ordinal encoding, etc.)"
      ],
      "metadata": {
        "id": "jNllyikjGpKO"
      }
    },
    {
      "cell_type": "code",
      "source": [
        "# import library\n",
        "from sklearn import preprocessing\n",
        "\n",
        "# label encoding\n",
        "le = preprocessing.LabelEncoder()\n",
        "\n",
        "# save the encoded dataframe here\n",
        "encoded_DF = pd.DataFrame()\n",
        "\n",
        "# Encode  only the categoric or boolean attributes\n",
        "for i in range(0, df.shape[1]):\n",
        "    if df.dtypes[i]=='object' or df.dtypes[i]=='bool':\n",
        "        encoded_DF[df.columns[i]] = le.fit_transform(df[df.columns[i]])\n",
        "\n",
        "print(df)\n",
        "\n",
        "print(encoded_DF)\n",
        "\n"
      ],
      "metadata": {
        "colab": {
          "base_uri": "https://localhost:8080/"
        },
        "id": "VGqm3f33WU0n",
        "outputId": "a2316dfa-8f8b-4f0e-889c-89b4ac31bf8f"
      },
      "execution_count": 275,
      "outputs": [
        {
          "output_type": "stream",
          "name": "stdout",
          "text": [
            "       Type Alcohol_flag Sugar_flag\n",
            "0       Red         High       High\n",
            "1       Red         High        Low\n",
            "2       Red          Low       High\n",
            "3       Red         High        Low\n",
            "4       Red          Low        Low\n",
            "...     ...          ...        ...\n",
            "3340  White         High       High\n",
            "3341  White         High        Low\n",
            "3342  White         High        Low\n",
            "3343  White         High        Low\n",
            "3344  White         High        Low\n",
            "\n",
            "[3345 rows x 3 columns]\n",
            "      Type  Alcohol_flag  Sugar_flag\n",
            "0        0             0           0\n",
            "1        0             0           1\n",
            "2        0             1           0\n",
            "3        0             0           1\n",
            "4        0             1           1\n",
            "...    ...           ...         ...\n",
            "3340     1             0           0\n",
            "3341     1             0           1\n",
            "3342     1             0           1\n",
            "3343     1             0           1\n",
            "3344     1             0           1\n",
            "\n",
            "[3345 rows x 3 columns]\n"
          ]
        }
      ]
    },
    {
      "cell_type": "markdown",
      "source": [
        "After label encoding\n",
        "Red is o and white is 1.\n",
        "High is 0 and low is 1."
      ],
      "metadata": {
        "id": "1fKBXtk1GR77"
      }
    },
    {
      "cell_type": "markdown",
      "source": [
        "#Task 5 and 6. Create contingency tables (cross tabulations) and Plot the two cross tabulations"
      ],
      "metadata": {
        "id": "zPPuahL0XFj1"
      }
    },
    {
      "cell_type": "markdown",
      "source": [
        "a. Type vs. alcohol content"
      ],
      "metadata": {
        "id": "-qcuhY15GzNV"
      }
    },
    {
      "cell_type": "code",
      "source": [
        "df_ct1 = pd.crosstab(df.Type,df.Sugar_flag)\n",
        "df_ct1\n"
      ],
      "metadata": {
        "id": "rEyCuSBvHSV9",
        "outputId": "3cd8fa47-0097-43a5-f133-32a3dbb3c280",
        "colab": {
          "base_uri": "https://localhost:8080/",
          "height": 143
        }
      },
      "execution_count": 276,
      "outputs": [
        {
          "output_type": "execute_result",
          "data": {
            "text/plain": [
              "Sugar_flag  High  Low\n",
              "Type                 \n",
              "Red          237  848\n",
              "White       1382  878"
            ],
            "text/html": [
              "\n",
              "  <div id=\"df-4a80ab4f-8908-413b-a6cd-a515d38c189a\">\n",
              "    <div class=\"colab-df-container\">\n",
              "      <div>\n",
              "<style scoped>\n",
              "    .dataframe tbody tr th:only-of-type {\n",
              "        vertical-align: middle;\n",
              "    }\n",
              "\n",
              "    .dataframe tbody tr th {\n",
              "        vertical-align: top;\n",
              "    }\n",
              "\n",
              "    .dataframe thead th {\n",
              "        text-align: right;\n",
              "    }\n",
              "</style>\n",
              "<table border=\"1\" class=\"dataframe\">\n",
              "  <thead>\n",
              "    <tr style=\"text-align: right;\">\n",
              "      <th>Sugar_flag</th>\n",
              "      <th>High</th>\n",
              "      <th>Low</th>\n",
              "    </tr>\n",
              "    <tr>\n",
              "      <th>Type</th>\n",
              "      <th></th>\n",
              "      <th></th>\n",
              "    </tr>\n",
              "  </thead>\n",
              "  <tbody>\n",
              "    <tr>\n",
              "      <th>Red</th>\n",
              "      <td>237</td>\n",
              "      <td>848</td>\n",
              "    </tr>\n",
              "    <tr>\n",
              "      <th>White</th>\n",
              "      <td>1382</td>\n",
              "      <td>878</td>\n",
              "    </tr>\n",
              "  </tbody>\n",
              "</table>\n",
              "</div>\n",
              "      <button class=\"colab-df-convert\" onclick=\"convertToInteractive('df-4a80ab4f-8908-413b-a6cd-a515d38c189a')\"\n",
              "              title=\"Convert this dataframe to an interactive table.\"\n",
              "              style=\"display:none;\">\n",
              "        \n",
              "  <svg xmlns=\"http://www.w3.org/2000/svg\" height=\"24px\"viewBox=\"0 0 24 24\"\n",
              "       width=\"24px\">\n",
              "    <path d=\"M0 0h24v24H0V0z\" fill=\"none\"/>\n",
              "    <path d=\"M18.56 5.44l.94 2.06.94-2.06 2.06-.94-2.06-.94-.94-2.06-.94 2.06-2.06.94zm-11 1L8.5 8.5l.94-2.06 2.06-.94-2.06-.94L8.5 2.5l-.94 2.06-2.06.94zm10 10l.94 2.06.94-2.06 2.06-.94-2.06-.94-.94-2.06-.94 2.06-2.06.94z\"/><path d=\"M17.41 7.96l-1.37-1.37c-.4-.4-.92-.59-1.43-.59-.52 0-1.04.2-1.43.59L10.3 9.45l-7.72 7.72c-.78.78-.78 2.05 0 2.83L4 21.41c.39.39.9.59 1.41.59.51 0 1.02-.2 1.41-.59l7.78-7.78 2.81-2.81c.8-.78.8-2.07 0-2.86zM5.41 20L4 18.59l7.72-7.72 1.47 1.35L5.41 20z\"/>\n",
              "  </svg>\n",
              "      </button>\n",
              "      \n",
              "  <style>\n",
              "    .colab-df-container {\n",
              "      display:flex;\n",
              "      flex-wrap:wrap;\n",
              "      gap: 12px;\n",
              "    }\n",
              "\n",
              "    .colab-df-convert {\n",
              "      background-color: #E8F0FE;\n",
              "      border: none;\n",
              "      border-radius: 50%;\n",
              "      cursor: pointer;\n",
              "      display: none;\n",
              "      fill: #1967D2;\n",
              "      height: 32px;\n",
              "      padding: 0 0 0 0;\n",
              "      width: 32px;\n",
              "    }\n",
              "\n",
              "    .colab-df-convert:hover {\n",
              "      background-color: #E2EBFA;\n",
              "      box-shadow: 0px 1px 2px rgba(60, 64, 67, 0.3), 0px 1px 3px 1px rgba(60, 64, 67, 0.15);\n",
              "      fill: #174EA6;\n",
              "    }\n",
              "\n",
              "    [theme=dark] .colab-df-convert {\n",
              "      background-color: #3B4455;\n",
              "      fill: #D2E3FC;\n",
              "    }\n",
              "\n",
              "    [theme=dark] .colab-df-convert:hover {\n",
              "      background-color: #434B5C;\n",
              "      box-shadow: 0px 1px 3px 1px rgba(0, 0, 0, 0.15);\n",
              "      filter: drop-shadow(0px 1px 2px rgba(0, 0, 0, 0.3));\n",
              "      fill: #FFFFFF;\n",
              "    }\n",
              "  </style>\n",
              "\n",
              "      <script>\n",
              "        const buttonEl =\n",
              "          document.querySelector('#df-4a80ab4f-8908-413b-a6cd-a515d38c189a button.colab-df-convert');\n",
              "        buttonEl.style.display =\n",
              "          google.colab.kernel.accessAllowed ? 'block' : 'none';\n",
              "\n",
              "        async function convertToInteractive(key) {\n",
              "          const element = document.querySelector('#df-4a80ab4f-8908-413b-a6cd-a515d38c189a');\n",
              "          const dataTable =\n",
              "            await google.colab.kernel.invokeFunction('convertToInteractive',\n",
              "                                                     [key], {});\n",
              "          if (!dataTable) return;\n",
              "\n",
              "          const docLinkHtml = 'Like what you see? Visit the ' +\n",
              "            '<a target=\"_blank\" href=https://colab.research.google.com/notebooks/data_table.ipynb>data table notebook</a>'\n",
              "            + ' to learn more about interactive tables.';\n",
              "          element.innerHTML = '';\n",
              "          dataTable['output_type'] = 'display_data';\n",
              "          await google.colab.output.renderOutput(dataTable, element);\n",
              "          const docLink = document.createElement('div');\n",
              "          docLink.innerHTML = docLinkHtml;\n",
              "          element.appendChild(docLink);\n",
              "        }\n",
              "      </script>\n",
              "    </div>\n",
              "  </div>\n",
              "  "
            ]
          },
          "metadata": {},
          "execution_count": 276
        }
      ]
    },
    {
      "cell_type": "code",
      "source": [
        "# Plotting Type vs. alcohol content\n",
        "df_ct1.plot.bar()"
      ],
      "metadata": {
        "id": "Y27m4Cvpd3XY",
        "outputId": "d49541f9-0773-46a5-f4b4-ab01d81f08df",
        "colab": {
          "base_uri": "https://localhost:8080/",
          "height": 315
        }
      },
      "execution_count": 277,
      "outputs": [
        {
          "output_type": "execute_result",
          "data": {
            "text/plain": [
              "<matplotlib.axes._subplots.AxesSubplot at 0x7f35fcf379d0>"
            ]
          },
          "metadata": {},
          "execution_count": 277
        },
        {
          "output_type": "display_data",
          "data": {
            "text/plain": [
              "<Figure size 432x288 with 1 Axes>"
            ],
            "image/png": "[encoded data removed]"
          },
          "metadata": {
            "needs_background": "light"
          }
        }
      ]
    },
    {
      "cell_type": "markdown",
      "source": [
        "White wine contains more sugar content than red wine"
      ],
      "metadata": {
        "id": "0QyuDuEBIG2l"
      }
    },
    {
      "cell_type": "markdown",
      "source": [
        "b. Type vs. Sugar content"
      ],
      "metadata": {
        "id": "AR1XS1WRG3Ax"
      }
    },
    {
      "cell_type": "code",
      "source": [
        "df_ct2 = pd.crosstab(df.Type, df.Alcohol_flag)\n",
        "df_ct2"
      ],
      "metadata": {
        "colab": {
          "base_uri": "https://localhost:8080/",
          "height": 143
        },
        "id": "jWBi_zJdYn8T",
        "outputId": "123dd5b2-9114-4d3b-e82a-1c0f7752d888"
      },
      "execution_count": 278,
      "outputs": [
        {
          "output_type": "execute_result",
          "data": {
            "text/plain": [
              "Alcohol_flag  High   Low\n",
              "Type                    \n",
              "Red            485   600\n",
              "White         1176  1084"
            ],
            "text/html": [
              "\n",
              "  <div id=\"df-8f29ed17-edc9-44ba-ab27-ec32d237553b\">\n",
              "    <div class=\"colab-df-container\">\n",
              "      <div>\n",
              "<style scoped>\n",
              "    .dataframe tbody tr th:only-of-type {\n",
              "        vertical-align: middle;\n",
              "    }\n",
              "\n",
              "    .dataframe tbody tr th {\n",
              "        vertical-align: top;\n",
              "    }\n",
              "\n",
              "    .dataframe thead th {\n",
              "        text-align: right;\n",
              "    }\n",
              "</style>\n",
              "<table border=\"1\" class=\"dataframe\">\n",
              "  <thead>\n",
              "    <tr style=\"text-align: right;\">\n",
              "      <th>Alcohol_flag</th>\n",
              "      <th>High</th>\n",
              "      <th>Low</th>\n",
              "    </tr>\n",
              "    <tr>\n",
              "      <th>Type</th>\n",
              "      <th></th>\n",
              "      <th></th>\n",
              "    </tr>\n",
              "  </thead>\n",
              "  <tbody>\n",
              "    <tr>\n",
              "      <th>Red</th>\n",
              "      <td>485</td>\n",
              "      <td>600</td>\n",
              "    </tr>\n",
              "    <tr>\n",
              "      <th>White</th>\n",
              "      <td>1176</td>\n",
              "      <td>1084</td>\n",
              "    </tr>\n",
              "  </tbody>\n",
              "</table>\n",
              "</div>\n",
              "      <button class=\"colab-df-convert\" onclick=\"convertToInteractive('df-8f29ed17-edc9-44ba-ab27-ec32d237553b')\"\n",
              "              title=\"Convert this dataframe to an interactive table.\"\n",
              "              style=\"display:none;\">\n",
              "        \n",
              "  <svg xmlns=\"http://www.w3.org/2000/svg\" height=\"24px\"viewBox=\"0 0 24 24\"\n",
              "       width=\"24px\">\n",
              "    <path d=\"M0 0h24v24H0V0z\" fill=\"none\"/>\n",
              "    <path d=\"M18.56 5.44l.94 2.06.94-2.06 2.06-.94-2.06-.94-.94-2.06-.94 2.06-2.06.94zm-11 1L8.5 8.5l.94-2.06 2.06-.94-2.06-.94L8.5 2.5l-.94 2.06-2.06.94zm10 10l.94 2.06.94-2.06 2.06-.94-2.06-.94-.94-2.06-.94 2.06-2.06.94z\"/><path d=\"M17.41 7.96l-1.37-1.37c-.4-.4-.92-.59-1.43-.59-.52 0-1.04.2-1.43.59L10.3 9.45l-7.72 7.72c-.78.78-.78 2.05 0 2.83L4 21.41c.39.39.9.59 1.41.59.51 0 1.02-.2 1.41-.59l7.78-7.78 2.81-2.81c.8-.78.8-2.07 0-2.86zM5.41 20L4 18.59l7.72-7.72 1.47 1.35L5.41 20z\"/>\n",
              "  </svg>\n",
              "      </button>\n",
              "      \n",
              "  <style>\n",
              "    .colab-df-container {\n",
              "      display:flex;\n",
              "      flex-wrap:wrap;\n",
              "      gap: 12px;\n",
              "    }\n",
              "\n",
              "    .colab-df-convert {\n",
              "      background-color: #E8F0FE;\n",
              "      border: none;\n",
              "      border-radius: 50%;\n",
              "      cursor: pointer;\n",
              "      display: none;\n",
              "      fill: #1967D2;\n",
              "      height: 32px;\n",
              "      padding: 0 0 0 0;\n",
              "      width: 32px;\n",
              "    }\n",
              "\n",
              "    .colab-df-convert:hover {\n",
              "      background-color: #E2EBFA;\n",
              "      box-shadow: 0px 1px 2px rgba(60, 64, 67, 0.3), 0px 1px 3px 1px rgba(60, 64, 67, 0.15);\n",
              "      fill: #174EA6;\n",
              "    }\n",
              "\n",
              "    [theme=dark] .colab-df-convert {\n",
              "      background-color: #3B4455;\n",
              "      fill: #D2E3FC;\n",
              "    }\n",
              "\n",
              "    [theme=dark] .colab-df-convert:hover {\n",
              "      background-color: #434B5C;\n",
              "      box-shadow: 0px 1px 3px 1px rgba(0, 0, 0, 0.15);\n",
              "      filter: drop-shadow(0px 1px 2px rgba(0, 0, 0, 0.3));\n",
              "      fill: #FFFFFF;\n",
              "    }\n",
              "  </style>\n",
              "\n",
              "      <script>\n",
              "        const buttonEl =\n",
              "          document.querySelector('#df-8f29ed17-edc9-44ba-ab27-ec32d237553b button.colab-df-convert');\n",
              "        buttonEl.style.display =\n",
              "          google.colab.kernel.accessAllowed ? 'block' : 'none';\n",
              "\n",
              "        async function convertToInteractive(key) {\n",
              "          const element = document.querySelector('#df-8f29ed17-edc9-44ba-ab27-ec32d237553b');\n",
              "          const dataTable =\n",
              "            await google.colab.kernel.invokeFunction('convertToInteractive',\n",
              "                                                     [key], {});\n",
              "          if (!dataTable) return;\n",
              "\n",
              "          const docLinkHtml = 'Like what you see? Visit the ' +\n",
              "            '<a target=\"_blank\" href=https://colab.research.google.com/notebooks/data_table.ipynb>data table notebook</a>'\n",
              "            + ' to learn more about interactive tables.';\n",
              "          element.innerHTML = '';\n",
              "          dataTable['output_type'] = 'display_data';\n",
              "          await google.colab.output.renderOutput(dataTable, element);\n",
              "          const docLink = document.createElement('div');\n",
              "          docLink.innerHTML = docLinkHtml;\n",
              "          element.appendChild(docLink);\n",
              "        }\n",
              "      </script>\n",
              "    </div>\n",
              "  </div>\n",
              "  "
            ]
          },
          "metadata": {},
          "execution_count": 278
        }
      ]
    },
    {
      "cell_type": "code",
      "source": [
        "# Plotting Type vs. alcohol content\n",
        "df_ct2.plot.bar()"
      ],
      "metadata": {
        "id": "gVc1Fip9d89B",
        "outputId": "c91fb089-0d52-488f-ebd8-9fbe7e33fe73",
        "colab": {
          "base_uri": "https://localhost:8080/",
          "height": 315
        }
      },
      "execution_count": 279,
      "outputs": [
        {
          "output_type": "execute_result",
          "data": {
            "text/plain": [
              "<matplotlib.axes._subplots.AxesSubplot at 0x7f35fd406cd0>"
            ]
          },
          "metadata": {},
          "execution_count": 279
        },
        {
          "output_type": "display_data",
          "data": {
            "text/plain": [
              "<Figure size 432x288 with 1 Axes>"
            ],
            "image/png": "[encoded data removed]"
          },
          "metadata": {
            "needs_background": "light"
          }
        }
      ]
    },
    {
      "cell_type": "markdown",
      "source": [
        "White wine contains contains alcohol content than red wine"
      ],
      "metadata": {
        "id": "h_uFabLLd-t_"
      }
    },
    {
      "cell_type": "markdown",
      "source": [
        "#Task 7. Use the tables from the previous step to calculate:\n"
      ],
      "metadata": {
        "id": "-Tlr5AnYmZqy"
      }
    },
    {
      "cell_type": "code",
      "source": [
        "nrows = len(df.index)\n",
        "print('Number of rows = ',nrows)\n",
        "\n",
        "nrows_red = len(df[df['Type']==\"Red\"])\n",
        "print('Number of red rows = ',nrows_red)\n",
        "\n",
        "nrows_white = len(df[df['Type']=='White'])\n",
        "print('Number of white rows = ',nrows_white)\n",
        "\n",
        "nrows_high_alcohol_flag = len(df[df['Alcohol_flag']=='High'])\n",
        "print('Number of High Alcohol flag = ',nrows_high_alcohol_flag)\n",
        "\n",
        "nrows_low_alcohol_flag = len(df[df['Alcohol_flag']=='Low'])\n",
        "print('Number of low Alcohol flag = ',nrows_low_alcohol_flag)\n",
        "\n",
        "nrows_high_sugar_flag = len(df[df['Sugar_flag']=='High'])\n",
        "print('Number of High Sugar flag = ',nrows_high_sugar_flag)\n",
        "\n",
        "nrows_low_sugar_flag = len(df[df['Sugar_flag']=='Low'])\n",
        "print('Number of low Suagr flag = ',nrows_low_sugar_flag)\n",
        "\n",
        "nrows_high_alcohol_flag_red = len(df[(df['Alcohol_flag']=='High') & (df['Type']=='Red')])\n",
        "print('Number of High Alcohol flag red= ',nrows_high_alcohol_flag_red)\n",
        "\n",
        "nrows_low_alcohol_flag_red = len(df[(df['Alcohol_flag']=='Low') & (df['Type']=='Red')])\n",
        "print('Number of Low Alcohol flag red= ',nrows_low_alcohol_flag_red)\n",
        "\n",
        "nrows_high_sugar_flag_red = len(df[(df['Sugar_flag']=='High') & (df['Type']=='Red')])\n",
        "print('Number of High sugar flag red= ',nrows_high_sugar_flag_red)\n",
        "\n",
        "nrows_low_sugar_flag_red = len(df[(df['Sugar_flag']=='Low') & (df['Type']=='Red')])\n",
        "print('Number of Low sugar flag red= ',nrows_low_sugar_flag_red)\n"
      ],
      "metadata": {
        "id": "WBBOvXJ_nKTb",
        "outputId": "bfb54f44-599d-4649-e7fe-9932f03e3703",
        "colab": {
          "base_uri": "https://localhost:8080/"
        }
      },
      "execution_count": 280,
      "outputs": [
        {
          "output_type": "stream",
          "name": "stdout",
          "text": [
            "Number of rows =  3345\n",
            "Number of red rows =  1085\n",
            "Number of white rows =  2260\n",
            "Number of High Alcohol flag =  1661\n",
            "Number of low Alcohol flag =  1684\n",
            "Number of High Sugar flag =  1619\n",
            "Number of low Suagr flag =  1726\n",
            "Number of High Alcohol flag red=  485\n",
            "Number of Low Alcohol flag red=  600\n",
            "Number of High sugar flag red=  237\n",
            "Number of Low sugar flag red=  848\n"
          ]
        }
      ]
    },
    {
      "cell_type": "markdown",
      "source": [
        "1. The prior probability of Type = Red and Type = White."
      ],
      "metadata": {
        "id": "x1OPR82Dghdv"
      }
    },
    {
      "cell_type": "code",
      "source": [
        "probability_of_red=(nrows_red/nrows)\n",
        "probability_of_white=(nrows_white/nrows)\n",
        "\n",
        "print(\"Probability of red:\",probability_of_red)\n",
        "print(\"Probability of White: \",probability_of_white)"
      ],
      "metadata": {
        "id": "QLLtEtYWmfxZ",
        "outputId": "45c56d27-f78c-41b1-d78d-921110cd3fc0",
        "colab": {
          "base_uri": "https://localhost:8080/"
        }
      },
      "execution_count": 281,
      "outputs": [
        {
          "output_type": "stream",
          "name": "stdout",
          "text": [
            "Probability of red: 0.3243647234678625\n",
            "Probability of White:  0.6756352765321375\n"
          ]
        }
      ]
    },
    {
      "cell_type": "markdown",
      "source": [
        "2. The probability of high and low alcohol content.\n"
      ],
      "metadata": {
        "id": "VN1558CcgjTO"
      }
    },
    {
      "cell_type": "code",
      "source": [
        "probability_high_alcohol=(nrows_high_alcohol_flag/nrows)\n",
        "probability_low_alcohol=(nrows_low_alcohol_flag/nrows)\n",
        "\n",
        "print(\"Probability of high alcohol: \",probability_high_alcohol)\n",
        "print(\"Probability of low alcohol: \",probability_low_alcohol)"
      ],
      "metadata": {
        "id": "B33HVBDlglF8",
        "outputId": "29ce0922-ba90-4d28-ca28-575cfce937c4",
        "colab": {
          "base_uri": "https://localhost:8080/"
        }
      },
      "execution_count": 282,
      "outputs": [
        {
          "output_type": "stream",
          "name": "stdout",
          "text": [
            "Probability of high alcohol:  0.49656203288490286\n",
            "Probability of low alcohol:  0.5034379671150971\n"
          ]
        }
      ]
    },
    {
      "cell_type": "markdown",
      "source": [
        "3. The probability of high and low sugar content.\n"
      ],
      "metadata": {
        "id": "v0roB1TBglWU"
      }
    },
    {
      "cell_type": "code",
      "source": [
        "probability_high_sugar=(nrows_high_sugar_flag/nrows)\n",
        "probability_low_sugar=(nrows_low_sugar_flag/nrows)\n",
        "\n",
        "print(\"Probability of high sugar: \",probability_high_sugar)\n",
        "print(\"Probability of low sugar: \",probability_low_sugar)\n"
      ],
      "metadata": {
        "id": "JAXyK1l-glrN",
        "outputId": "82af50be-4b01-4dad-aa43-8cfe61e79f64",
        "colab": {
          "base_uri": "https://localhost:8080/"
        }
      },
      "execution_count": 283,
      "outputs": [
        {
          "output_type": "stream",
          "name": "stdout",
          "text": [
            "Probability of high sugar:  0.48400597907324366\n",
            "Probability of low sugar:  0.5159940209267564\n"
          ]
        }
      ]
    },
    {
      "cell_type": "markdown",
      "source": [
        "4. The conditional probabilities p(Alcohol_flag = High ∣ Type = Red) and p(Alcohol_flag = Low ∣ Type = Red).\n"
      ],
      "metadata": {
        "id": "7--1tyMuglye"
      }
    },
    {
      "cell_type": "code",
      "source": [
        "probability_alcohol_high_red=((nrows_high_alcohol_flag_red/nrows_high_alcohol_flag)*(nrows_high_alcohol_flag/nrows))/(nrows_red/nrows)\n",
        "print(\"Probability of (Alcohol_flag = High ∣ Type = Red) \",probability_alcohol_high_red)\n",
        "\n",
        "probability_alcohol_low_red=((nrows_low_alcohol_flag_red/nrows_low_alcohol_flag)*(nrows_low_alcohol_flag/nrows))/(nrows_red/nrows)\n",
        "print(\"Probability of (Alcohol_flag = Low ∣ Type = Red):\",probability_alcohol_low_red)"
      ],
      "metadata": {
        "id": "4K0f1wyOgl6H",
        "outputId": "e289009a-5e26-4452-fa99-14cedd3d493d",
        "colab": {
          "base_uri": "https://localhost:8080/"
        }
      },
      "execution_count": 284,
      "outputs": [
        {
          "output_type": "stream",
          "name": "stdout",
          "text": [
            "Probability of (Alcohol_flag = High ∣ Type = Red)  0.44700460829493094\n",
            "Probability of (Alcohol_flag = Low ∣ Type = Red): 0.5529953917050691\n"
          ]
        }
      ]
    },
    {
      "cell_type": "markdown",
      "source": [
        "5. The conditional probabilities p(Sugar_flag = High ∣ Type = Red) and p(Sugar_flag = Low ∣ Type = Red)."
      ],
      "metadata": {
        "id": "iWjRmYkRgmAe"
      }
    },
    {
      "cell_type": "code",
      "source": [
        "probability_sugar_high_red=((nrows_high_sugar_flag_red/nrows_high_sugar_flag)*(nrows_high_sugar_flag/nrows))/(nrows_red/nrows)\n",
        "print(\"Probability of (Sugar_flag = High ∣ Type = Red): \",probability_sugar_high_red)\n",
        "\n",
        "probability_sugar_low_red=((nrows_low_sugar_flag_red/nrows_low_sugar_flag)*(nrows_low_sugar_flag/nrows))/(nrows_red/nrows)\n",
        "print(\"Probability of (Sugar_flag = Low ∣ Type = Red): \",probability_sugar_low_red)"
      ],
      "metadata": {
        "id": "JloLxLWugmG6",
        "outputId": "145b2db5-181f-4675-ec91-4837700ecd82",
        "colab": {
          "base_uri": "https://localhost:8080/"
        }
      },
      "execution_count": 285,
      "outputs": [
        {
          "output_type": "stream",
          "name": "stdout",
          "text": [
            "Probability of (Sugar_flag = High ∣ Type = Red):  0.21843317972350232\n",
            "Probability of (Sugar_flag = Low ∣ Type = Red):  0.7815668202764977\n"
          ]
        }
      ]
    },
    {
      "cell_type": "markdown",
      "source": [
        "#Task 8 Create NB classifiers and record their accuracy on various training/test ratios, e.g., 80-20, 75-25, 70-30, 60-40, 50-50. Be sure to shuffle and stratify the data sets."
      ],
      "metadata": {
        "id": "ckGcXgSiXEGY"
      }
    },
    {
      "cell_type": "code",
      "source": [
        "# Generating the Gaussian Naive Bayes model\n",
        "from sklearn.naive_bayes import GaussianNB\n",
        "from sklearn.model_selection import train_test_split\n",
        "import matplotlib.pyplot as plt\n",
        "\n",
        "#Create a Gaussian Classifier\n",
        "NBmodel = GaussianNB()\n",
        "\n",
        "# Train the model using training set for approach #1\n",
        "# NBmodel.fit(features, labels) \n",
        "\n",
        "# Prepare input and output for learning\n",
        "X = encoded_DF.iloc[:,1:3]\n",
        "y = encoded_DF.iloc[:,0:1]"
      ],
      "metadata": {
        "id": "yDxagfbOYfd4"
      },
      "execution_count": 286,
      "outputs": []
    },
    {
      "cell_type": "markdown",
      "source": [
        "1. Training/test ratio 80:20"
      ],
      "metadata": {
        "id": "jJYeyeQ3r05-"
      }
    },
    {
      "cell_type": "code",
      "source": [
        "# In order to have the same proportion of 0 and 1 classes in a dataset to train, use 'stratify'\n",
        "X_train, X_test, y_train, y_test = train_test_split(X, y, random_state=42, shuffle=True, test_size=0.20, stratify=y)\n",
        "\n",
        "# Train the model \n",
        "NBmodel.fit(X_train, y_train)\n",
        "\n",
        "# Calculate model accuracy on both training and test data\n",
        "labels = [\"Training\", \"Test\"]\n",
        "train_score_1 = NBmodel.score(X_train, y_train)\n",
        "test_score_1 = NBmodel.score(X_test, y_test)\n",
        "scores = [train_score_1 , test_score_1]\n",
        "print('train_score_1: ',scores[0])\n",
        "print('test_score_1: ',scores[1])\n",
        "print('-------------------------------------------------------')\n",
        "# Plot the accuracy claues\n",
        "fig = plt.figure()\n",
        "ax = fig.add_axes([0,0,1,1])\n",
        "ax.set_title('Model Classification Accuary on Training vs. Test Data')\n",
        "ax.bar(labels, scores, color=\"#408df8\")\n",
        "ax.set_ylim(0, 1)\n",
        "plt.show()"
      ],
      "metadata": {
        "colab": {
          "base_uri": "https://localhost:8080/",
          "height": 459
        },
        "id": "eHGSGU7YhNyf",
        "outputId": "20c88dee-c7f6-4eca-a541-8e981746299f"
      },
      "execution_count": 287,
      "outputs": [
        {
          "output_type": "stream",
          "name": "stdout",
          "text": [
            "train_score_1:  0.734304932735426\n",
            "test_score_1:  0.7204783258594918\n",
            "-------------------------------------------------------\n"
          ]
        },
        {
          "output_type": "stream",
          "name": "stderr",
          "text": [
            "/usr/local/lib/python3.7/dist-packages/sklearn/utils/validation.py:993: DataConversionWarning: A column-vector y was passed when a 1d array was expected. Please change the shape of y to (n_samples, ), for example using ravel().\n",
            "  y = column_or_1d(y, warn=True)\n"
          ]
        },
        {
          "output_type": "display_data",
          "data": {
            "text/plain": [
              "<Figure size 432x288 with 1 Axes>"
            ],
            "image/png": "[encoded data removed]"
          },
          "metadata": {
            "needs_background": "light"
          }
        }
      ]
    },
    {
      "cell_type": "markdown",
      "source": [
        "2. Training/test ratio 75:25"
      ],
      "metadata": {
        "id": "-BpKPBVUr5ZR"
      }
    },
    {
      "cell_type": "code",
      "source": [
        "# In order to have the same proportion of 0 and 1 classes in a dataset to train, use 'stratify'\n",
        "X_train, X_test, y_train, y_test = train_test_split(X, y, random_state=102, shuffle=True, test_size=0.25, stratify=y)\n",
        "\n",
        "# Train the model \n",
        "NBmodel.fit(X_train, y_train)\n",
        "\n",
        "# Calculate model accuracy on both training and test data\n",
        "labels = [\"Training\", \"Test\"]\n",
        "train_score_2 = NBmodel.score(X_train, y_train)\n",
        "test_score_2 = NBmodel.score(X_test, y_test)\n",
        "scores = [train_score_2 , test_score_2]\n",
        "print('train_score_2: ',scores[0])\n",
        "print('test_score_2: ',scores[1])\n",
        "print('-------------------------------------------------------')\n",
        "\n",
        "# Plot the accuracy claues\n",
        "fig = plt.figure()\n",
        "ax = fig.add_axes([0,0,1,1])\n",
        "ax.set_title('Model Classification Accuary on Training vs. Test Data')\n",
        "ax.bar(labels, scores, color=\"#408df8\")\n",
        "ax.set_ylim(0, 1)\n",
        "plt.show()"
      ],
      "metadata": {
        "colab": {
          "base_uri": "https://localhost:8080/",
          "height": 459
        },
        "id": "Uh5qpgI_g914",
        "outputId": "0652f07a-5db1-4fad-bee6-1c14b0db4a0f"
      },
      "execution_count": 288,
      "outputs": [
        {
          "output_type": "stream",
          "name": "stderr",
          "text": [
            "/usr/local/lib/python3.7/dist-packages/sklearn/utils/validation.py:993: DataConversionWarning: A column-vector y was passed when a 1d array was expected. Please change the shape of y to (n_samples, ), for example using ravel().\n",
            "  y = column_or_1d(y, warn=True)\n"
          ]
        },
        {
          "output_type": "stream",
          "name": "stdout",
          "text": [
            "train_score_2:  0.7376395534290271\n",
            "test_score_2:  0.7132616487455197\n",
            "-------------------------------------------------------\n"
          ]
        },
        {
          "output_type": "display_data",
          "data": {
            "text/plain": [
              "<Figure size 432x288 with 1 Axes>"
            ],
            "image/png": "[encoded data removed]"
          },
          "metadata": {
            "needs_background": "light"
          }
        }
      ]
    },
    {
      "cell_type": "markdown",
      "source": [
        "3. Training/test ratio 70:30"
      ],
      "metadata": {
        "id": "KA-p0gUehARz"
      }
    },
    {
      "cell_type": "code",
      "source": [
        "# In order to have the same proportion of 0 and 1 classes in a dataset to train, use 'stratify'\n",
        "X_train, X_test, y_train, y_test = train_test_split(X, y, random_state=33, shuffle=True, test_size=0.30, stratify=y)\n",
        "\n",
        "# Train the model \n",
        "NBmodel.fit(X_train, y_train)\n",
        "\n",
        "# Calculate model accuracy on both training and test data\n",
        "labels = [\"Training\", \"Test\"]\n",
        "train_score_3 = NBmodel.score(X_train, y_train)\n",
        "test_score_3 = NBmodel.score(X_test, y_test)\n",
        "scores = [train_score_3 , test_score_3]\n",
        "print('train_score_3: ',scores[0])\n",
        "print('test_score_3: ',scores[1])\n",
        "print('-------------------------------------------------------')\n",
        "\n",
        "# Plot the accuracy claues\n",
        "fig = plt.figure()\n",
        "ax = fig.add_axes([0,0,1,1])\n",
        "ax.set_title('Model Classification Accuary on Training vs. Test Data')\n",
        "ax.bar(labels, scores, color=\"#408df8\")\n",
        "ax.set_ylim(0, 1)\n",
        "plt.show()"
      ],
      "metadata": {
        "colab": {
          "base_uri": "https://localhost:8080/",
          "height": 459
        },
        "id": "NkMVMxbNgy_d",
        "outputId": "13714614-d7c8-4c5e-8a4f-7475859a1bf8"
      },
      "execution_count": 289,
      "outputs": [
        {
          "output_type": "stream",
          "name": "stderr",
          "text": [
            "/usr/local/lib/python3.7/dist-packages/sklearn/utils/validation.py:993: DataConversionWarning: A column-vector y was passed when a 1d array was expected. Please change the shape of y to (n_samples, ), for example using ravel().\n",
            "  y = column_or_1d(y, warn=True)\n"
          ]
        },
        {
          "output_type": "stream",
          "name": "stdout",
          "text": [
            "train_score_3:  0.7283212302434857\n",
            "test_score_3:  0.7390438247011952\n",
            "-------------------------------------------------------\n"
          ]
        },
        {
          "output_type": "display_data",
          "data": {
            "text/plain": [
              "<Figure size 432x288 with 1 Axes>"
            ],
            "image/png": "[encoded data removed]"
          },
          "metadata": {
            "needs_background": "light"
          }
        }
      ]
    },
    {
      "cell_type": "markdown",
      "source": [
        "4. Training/test ratio 60:40"
      ],
      "metadata": {
        "id": "YPVWbdi7sNL3"
      }
    },
    {
      "cell_type": "code",
      "source": [
        "# In order to have the same proportion of 0 and 1 classes in a dataset to train, use 'stratify'\n",
        "X_train, X_test, y_train, y_test = train_test_split(X, y, random_state=65, shuffle=True, test_size=0.40, stratify=y)\n",
        "\n",
        "# Train the model \n",
        "NBmodel.fit(X_train, y_train)\n",
        "\n",
        "# Calculate model accuracy on both training and test data\n",
        "labels = [\"Training\", \"Test\"]\n",
        "train_score_4 = NBmodel.score(X_train, y_train)\n",
        "test_score_4 = NBmodel.score(X_test, y_test)\n",
        "scores = [train_score_4 , test_score_4]\n",
        "print('train_score_4: ',scores[0])\n",
        "print('test_score_4: ',scores[1])\n",
        "print('-------------------------------------------------------')\n",
        "\n",
        "# Plot the accuracy claues\n",
        "fig = plt.figure()\n",
        "ax = fig.add_axes([0,0,1,1])\n",
        "ax.set_title('Model Classification Accuary on Training vs. Test Data')\n",
        "ax.bar(labels, scores, color=\"#408df8\")\n",
        "ax.set_ylim(0, 1)\n",
        "plt.show()"
      ],
      "metadata": {
        "id": "pyydfdfWsKhv",
        "outputId": "d08ed976-923d-4d03-aef3-efcea9951e97",
        "colab": {
          "base_uri": "https://localhost:8080/",
          "height": 459
        }
      },
      "execution_count": 290,
      "outputs": [
        {
          "output_type": "stream",
          "name": "stderr",
          "text": [
            "/usr/local/lib/python3.7/dist-packages/sklearn/utils/validation.py:993: DataConversionWarning: A column-vector y was passed when a 1d array was expected. Please change the shape of y to (n_samples, ), for example using ravel().\n",
            "  y = column_or_1d(y, warn=True)\n"
          ]
        },
        {
          "output_type": "stream",
          "name": "stdout",
          "text": [
            "train_score_4:  0.7304434479322371\n",
            "test_score_4:  0.7331838565022422\n",
            "-------------------------------------------------------\n"
          ]
        },
        {
          "output_type": "display_data",
          "data": {
            "text/plain": [
              "<Figure size 432x288 with 1 Axes>"
            ],
            "image/png": "[encoded data removed]"
          },
          "metadata": {
            "needs_background": "light"
          }
        }
      ]
    },
    {
      "cell_type": "markdown",
      "source": [
        "5. Training/test ratio 50:50"
      ],
      "metadata": {
        "id": "UxRUZPbGsS1y"
      }
    },
    {
      "cell_type": "code",
      "source": [
        "# In order to have the same proportion of 0 and 1 classes in a dataset to train, use 'stratify'\n",
        "X_train, X_test, y_train, y_test = train_test_split(X, y, random_state=77, shuffle=True, test_size=0.50, stratify=y)\n",
        "\n",
        "# Train the model \n",
        "NBmodel.fit(X_train, y_train)\n",
        "\n",
        "# Calculate model accuracy on both training and test data\n",
        "labels = [\"Training\", \"Test\"]\n",
        "train_score_5 = NBmodel.score(X_train, y_train)\n",
        "test_score_5 = NBmodel.score(X_test, y_test)\n",
        "scores = [train_score_5 , test_score_5]\n",
        "print('train_score_5: ',scores[0])\n",
        "print('test_score_5: ',scores[1])\n",
        "print('-------------------------------------------------------')\n",
        "\n",
        "# Plot the accuracy claues\n",
        "fig = plt.figure()\n",
        "ax = fig.add_axes([0,0,1,1])\n",
        "ax.set_title('Model Classification Accuary on Training vs. Test Data')\n",
        "ax.bar(labels, scores, color=\"#408df8\")\n",
        "ax.set_ylim(0, 1)\n",
        "plt.show()"
      ],
      "metadata": {
        "id": "WateAtupsR4M",
        "outputId": "746a117d-a2d6-483a-b84c-9f555aad5af2",
        "colab": {
          "base_uri": "https://localhost:8080/",
          "height": 459
        }
      },
      "execution_count": 291,
      "outputs": [
        {
          "output_type": "stream",
          "name": "stderr",
          "text": [
            "/usr/local/lib/python3.7/dist-packages/sklearn/utils/validation.py:993: DataConversionWarning: A column-vector y was passed when a 1d array was expected. Please change the shape of y to (n_samples, ), for example using ravel().\n",
            "  y = column_or_1d(y, warn=True)\n"
          ]
        },
        {
          "output_type": "stream",
          "name": "stdout",
          "text": [
            "train_score_5:  0.7350478468899522\n",
            "test_score_5:  0.7280334728033473\n",
            "-------------------------------------------------------\n"
          ]
        },
        {
          "output_type": "display_data",
          "data": {
            "text/plain": [
              "<Figure size 432x288 with 1 Axes>"
            ],
            "image/png": "[encoded data removed]"
          },
          "metadata": {
            "needs_background": "light"
          }
        }
      ]
    },
    {
      "cell_type": "markdown",
      "source": [
        "#Plot the training accuracy together"
      ],
      "metadata": {
        "id": "pvwjGYLGicWU"
      }
    },
    {
      "cell_type": "code",
      "source": [
        "# Plot the accuracy claues\n",
        "labels = [\"Train_80_20\", \"Train_75_25\", \"Train_70_30\", \"Train_60_40\", \"Train_50_50\"]\n",
        "scores = [train_score_1 , train_score_2, train_score_3, train_score_4, train_score_5]\n",
        "train_scores = [train_score_1 , train_score_2, train_score_3, train_score_4, train_score_5]\n",
        "fig = plt.figure()\n",
        "ax = fig.add_axes([0,0,1,1])\n",
        "#for i, v in enumerate(scores):\n",
        " #   ax.text(i, v + 3, str(v), color = 'blue', fontweight = 'bold',)\n",
        "\n",
        "ax.set_title('Model Classification Accuary on Training')\n",
        "ax.bar(x=labels, height=scores, color=\"#408df8\",)\n",
        "ax.set_ylim(0, 1)\n",
        "plt.show()\n"
      ],
      "metadata": {
        "id": "Vi8jMf2fsToz",
        "outputId": "7e49f8b3-003f-4d03-96b5-133c560dc908",
        "colab": {
          "base_uri": "https://localhost:8080/",
          "height": 353
        }
      },
      "execution_count": 292,
      "outputs": [
        {
          "output_type": "display_data",
          "data": {
            "text/plain": [
              "<Figure size 432x288 with 1 Axes>"
            ],
            "image/png": "[encoded data removed]"
          },
          "metadata": {
            "needs_background": "light"
          }
        }
      ]
    },
    {
      "cell_type": "code",
      "source": [
        "plt.plot(labels,scores,\"o--\")\n",
        "plt.xlabel(\"Train\")\n",
        "plt.ylabel(\"score\")\n",
        "plt.show()"
      ],
      "metadata": {
        "id": "3Zln55tm4MFK",
        "outputId": "5fb9ad72-7acc-4325-a911-9ad0910adb74",
        "colab": {
          "base_uri": "https://localhost:8080/",
          "height": 282
        }
      },
      "execution_count": 293,
      "outputs": [
        {
          "output_type": "display_data",
          "data": {
            "text/plain": [
              "<Figure size 432x288 with 1 Axes>"
            ],
            "image/png": "[encoded data removed]"
          },
          "metadata": {
            "needs_background": "light"
          }
        }
      ]
    },
    {
      "cell_type": "markdown",
      "source": [
        "#Plot the testing accuracy together"
      ],
      "metadata": {
        "id": "_DeLtaspijAx"
      }
    },
    {
      "cell_type": "code",
      "source": [
        "# Plot the accuracy claues\n",
        "labels = [\"Test_80_20\", \"Test_75_25\", \"Test_70_30\", \"Test_60_40\", \"Test_50_50\"]\n",
        "scores = [test_score_1 , test_score_2, test_score_3, test_score_4, test_score_5]\n",
        "fig = plt.figure()\n",
        "ax = fig.add_axes([0,0,1,1])\n",
        "ax.set_title('Model Classification Accuary on Test Data')\n",
        "ax.bar(labels, scores, color=\"#408df8\")\n",
        "ax.set_ylim(0, 1)\n",
        "plt.show()"
      ],
      "metadata": {
        "id": "ZelZFTgwsyV0",
        "outputId": "551fa094-f520-40eb-fe44-baa4cc9ae004",
        "colab": {
          "base_uri": "https://localhost:8080/",
          "height": 353
        }
      },
      "execution_count": 294,
      "outputs": [
        {
          "output_type": "display_data",
          "data": {
            "text/plain": [
              "<Figure size 432x288 with 1 Axes>"
            ],
            "image/png": "[encoded data removed]"
          },
          "metadata": {
            "needs_background": "light"
          }
        }
      ]
    },
    {
      "cell_type": "code",
      "source": [
        "plt.plot(labels,scores,\"o--\")\n",
        "plt.xlabel(\"Test\")\n",
        "plt.ylabel(\"score\")\n",
        "plt.show()"
      ],
      "metadata": {
        "id": "AevFBLc64XSt",
        "outputId": "9b46ac04-eb3a-4d2e-ab27-0081116333e3",
        "colab": {
          "base_uri": "https://localhost:8080/",
          "height": 282
        }
      },
      "execution_count": 295,
      "outputs": [
        {
          "output_type": "display_data",
          "data": {
            "text/plain": [
              "<Figure size 432x288 with 1 Axes>"
            ],
            "image/png": "[encoded data removed]"
          },
          "metadata": {
            "needs_background": "light"
          }
        }
      ]
    },
    {
      "cell_type": "markdown",
      "source": [
        "# Summary"
      ],
      "metadata": {
        "id": "DpOb20obtLJK"
      }
    },
    {
      "cell_type": "markdown",
      "source": [
        "We imported data of wine_flag csv to classify red and white wine. then we used label encoding to convert non-numeric data into categorical data. later we found probability of red and white wine with alcohol and sugar content. later, we createed NB classifiers and recorded their accuracy on various training/test ratios and It seems that accuracy is nearly same for various training/test ratios."
      ],
      "metadata": {
        "id": "-pc6ti4S7sMZ"
      }
    },
    {
      "cell_type": "code",
      "source": [
        ""
      ],
      "metadata": {
        "id": "o-FEqX7qpZWl"
      },
      "execution_count": 295,
      "outputs": []
    }
  ]
}