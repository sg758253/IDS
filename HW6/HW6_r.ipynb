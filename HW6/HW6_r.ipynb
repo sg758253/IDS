{
  "nbformat": 4,
  "nbformat_minor": 0,
  "metadata": {
    "colab": {
      "name": "HW6_r.ipynb",
      "provenance": [],
      "collapsed_sections": [],
      "authorship_tag": "ABX9TyMYPik7xfRVdeotl7VZENHM",
      "include_colab_link": true
    },
    "kernelspec": {
      "name": "ir",
      "display_name": "R"
    },
    "language_info": {
      "name": "R"
    }
  },
  "cells": [
    {
      "cell_type": "markdown",
      "metadata": {
        "id": "view-in-github",
        "colab_type": "text"
      },
      "source": [
        "<a href=\"https://colab.research.google.com/github/sg758253/IDS/blob/main/HW6/HW6_r.ipynb\" target=\"_parent\"><img src=\"https://colab.research.google.com/assets/colab-badge.svg\" alt=\"Open In Colab\"/></a>"
      ]
    },
    {
      "cell_type": "markdown",
      "source": [
        "* Name: Sachin Gupta (sg758253@sju.edu)\n",
        "* Date: 04/18/22\n",
        "* Assignment: 6\n",
        "* Reference: http://mercury.webster.edu/aleshunas/R_learning_infrastructure/Classification%20of%20data%20using%20decision%20tree%20and%20regression%20tree%20methods.html\n",
        "\n",
        "https://rpubs.com/minma/cart_with_rpart\n",
        "\n",
        "https://rstudio-pubs-static.s3.amazonaws.com/248300_37e2d6aefc9141e2baff655f9c9eb1cd.html"
      ],
      "metadata": {
        "id": "CCdAN_bNV7ZE"
      }
    },
    {
      "cell_type": "code",
      "execution_count": null,
      "metadata": {
        "colab": {
          "base_uri": "https://localhost:8080/"
        },
        "id": "Twu5CCibVwSz",
        "outputId": "f12b0479-54e0-4b46-891a-8d9c6a3c5a27"
      },
      "outputs": [
        {
          "output_type": "stream",
          "name": "stderr",
          "text": [
            "Installing package into ‘/usr/local/lib/R/site-library’\n",
            "(as ‘lib’ is unspecified)\n",
            "\n",
            "Installing package into ‘/usr/local/lib/R/site-library’\n",
            "(as ‘lib’ is unspecified)\n",
            "\n",
            "Installing package into ‘/usr/local/lib/R/site-library’\n",
            "(as ‘lib’ is unspecified)\n",
            "\n",
            "Installing package into ‘/usr/local/lib/R/site-library’\n",
            "(as ‘lib’ is unspecified)\n",
            "\n"
          ]
        }
      ],
      "source": [
        "# instaling required lib\n",
        "install.packages(\"caret\")\n",
        "install.packages('party')\n",
        "install.packages(\"C50\")\n",
        "install.packages(\"rpart.plot\")  \n"
      ]
    },
    {
      "cell_type": "code",
      "source": [
        "# importing lib\n",
        "library(caret)\n",
        "library(ggplot2)\n",
        "library(repr)\n",
        "library(rpart)\n",
        "library(rpart.plot)\n",
        "library(C50)\n",
        "library(party)\n"
      ],
      "metadata": {
        "id": "ZepA8sncWIXe",
        "colab": {
          "base_uri": "https://localhost:8080/"
        },
        "outputId": "d82d56a0-5d42-4d30-87a8-bcf5f392fa63"
      },
      "execution_count": null,
      "outputs": [
        {
          "output_type": "stream",
          "name": "stderr",
          "text": [
            "Loading required package: ggplot2\n",
            "\n",
            "Loading required package: lattice\n",
            "\n",
            "Warning message in system(\"timedatectl\", intern = TRUE):\n",
            "“running command 'timedatectl' had status 1”\n",
            "Loading required package: grid\n",
            "\n",
            "Loading required package: mvtnorm\n",
            "\n",
            "Loading required package: modeltools\n",
            "\n",
            "Loading required package: stats4\n",
            "\n",
            "Loading required package: strucchange\n",
            "\n",
            "Loading required package: zoo\n",
            "\n",
            "\n",
            "Attaching package: ‘zoo’\n",
            "\n",
            "\n",
            "The following objects are masked from ‘package:base’:\n",
            "\n",
            "    as.Date, as.Date.numeric\n",
            "\n",
            "\n",
            "Loading required package: sandwich\n",
            "\n"
          ]
        }
      ]
    },
    {
      "cell_type": "code",
      "source": [
        "# import dataset\n",
        "trainingDF <- read.csv(\"https://raw.githubusercontent.com/sg758253/IDS/main/HW6/Loans_Training.csv\")\n",
        "testDF <- read.csv(\"https://raw.githubusercontent.com/sg758253/IDS/main/HW6/Loans_Test.csv\")"
      ],
      "metadata": {
        "id": "F6TUlYNBWKBO"
      },
      "execution_count": null,
      "outputs": []
    },
    {
      "cell_type": "code",
      "source": [
        "# display rows\n",
        "head(trainingDF)"
      ],
      "metadata": {
        "colab": {
          "base_uri": "https://localhost:8080/",
          "height": 286
        },
        "id": "jUa9G8k3WT28",
        "outputId": "359b4d32-b520-44dd-c32d-4708bd6259f5"
      },
      "execution_count": null,
      "outputs": [
        {
          "output_type": "display_data",
          "data": {
            "text/html": [
              "<table class=\"dataframe\">\n",
              "<caption>A data.frame: 6 × 5</caption>\n",
              "<thead>\n",
              "\t<tr><th></th><th scope=col>Approval</th><th scope=col>Debt.to.Income.Ratio</th><th scope=col>FICO.Score</th><th scope=col>Request.Amount</th><th scope=col>Interest</th></tr>\n",
              "\t<tr><th></th><th scope=col>&lt;lgl&gt;</th><th scope=col>&lt;dbl&gt;</th><th scope=col>&lt;int&gt;</th><th scope=col>&lt;int&gt;</th><th scope=col>&lt;dbl&gt;</th></tr>\n",
              "</thead>\n",
              "<tbody>\n",
              "\t<tr><th scope=row>1</th><td>FALSE</td><td>0</td><td>397</td><td>1000</td><td> 450</td></tr>\n",
              "\t<tr><th scope=row>2</th><td>FALSE</td><td>0</td><td>403</td><td> 500</td><td> 225</td></tr>\n",
              "\t<tr><th scope=row>3</th><td>FALSE</td><td>0</td><td>408</td><td>1000</td><td> 450</td></tr>\n",
              "\t<tr><th scope=row>4</th><td>FALSE</td><td>0</td><td>408</td><td>2000</td><td> 900</td></tr>\n",
              "\t<tr><th scope=row>5</th><td>FALSE</td><td>0</td><td>411</td><td>5000</td><td>2250</td></tr>\n",
              "\t<tr><th scope=row>6</th><td>FALSE</td><td>0</td><td>413</td><td>5000</td><td>2250</td></tr>\n",
              "</tbody>\n",
              "</table>\n"
            ],
            "text/markdown": "\nA data.frame: 6 × 5\n\n| <!--/--> | Approval &lt;lgl&gt; | Debt.to.Income.Ratio &lt;dbl&gt; | FICO.Score &lt;int&gt; | Request.Amount &lt;int&gt; | Interest &lt;dbl&gt; |\n|---|---|---|---|---|---|\n| 1 | FALSE | 0 | 397 | 1000 |  450 |\n| 2 | FALSE | 0 | 403 |  500 |  225 |\n| 3 | FALSE | 0 | 408 | 1000 |  450 |\n| 4 | FALSE | 0 | 408 | 2000 |  900 |\n| 5 | FALSE | 0 | 411 | 5000 | 2250 |\n| 6 | FALSE | 0 | 413 | 5000 | 2250 |\n\n",
            "text/latex": "A data.frame: 6 × 5\n\\begin{tabular}{r|lllll}\n  & Approval & Debt.to.Income.Ratio & FICO.Score & Request.Amount & Interest\\\\\n  & <lgl> & <dbl> & <int> & <int> & <dbl>\\\\\n\\hline\n\t1 & FALSE & 0 & 397 & 1000 &  450\\\\\n\t2 & FALSE & 0 & 403 &  500 &  225\\\\\n\t3 & FALSE & 0 & 408 & 1000 &  450\\\\\n\t4 & FALSE & 0 & 408 & 2000 &  900\\\\\n\t5 & FALSE & 0 & 411 & 5000 & 2250\\\\\n\t6 & FALSE & 0 & 413 & 5000 & 2250\\\\\n\\end{tabular}\n",
            "text/plain": [
              "  Approval Debt.to.Income.Ratio FICO.Score Request.Amount Interest\n",
              "1 FALSE    0                    397        1000            450    \n",
              "2 FALSE    0                    403         500            225    \n",
              "3 FALSE    0                    408        1000            450    \n",
              "4 FALSE    0                    408        2000            900    \n",
              "5 FALSE    0                    411        5000           2250    \n",
              "6 FALSE    0                    413        5000           2250    "
            ]
          },
          "metadata": {}
        }
      ]
    },
    {
      "cell_type": "code",
      "source": [
        "# summary of dataset\n",
        "summary(trainingDF)"
      ],
      "metadata": {
        "colab": {
          "base_uri": "https://localhost:8080/",
          "height": 260
        },
        "id": "Eh6i1mcWWZpf",
        "outputId": "3067be7e-6fa3-4227-8356-a68686feac6a"
      },
      "execution_count": null,
      "outputs": [
        {
          "output_type": "display_data",
          "data": {
            "text/plain": [
              "  Approval       Debt.to.Income.Ratio   FICO.Score  Request.Amount \n",
              " Mode :logical   Min.   :0.0000       Min.   :371   Min.   :  500  \n",
              " FALSE:75066     1st Qu.:0.0900       1st Qu.:647   1st Qu.: 6000  \n",
              " TRUE :75236     Median :0.1600       Median :684   Median :11000  \n",
              "                 Mean   :0.1835       Mean   :672   Mean   :13427  \n",
              "                 3rd Qu.:0.2400       3rd Qu.:714   3rd Qu.:19000  \n",
              "                 Max.   :1.0300       Max.   :869   Max.   :44000  \n",
              "    Interest    \n",
              " Min.   :  225  \n",
              " 1st Qu.: 2700  \n",
              " Median : 4950  \n",
              " Mean   : 6042  \n",
              " 3rd Qu.: 8550  \n",
              " Max.   :19800  "
            ]
          },
          "metadata": {}
        }
      ]
    },
    {
      "cell_type": "code",
      "source": [
        "# check null values in trainingDF\n",
        "sum(is.na(trainingDF))"
      ],
      "metadata": {
        "colab": {
          "base_uri": "https://localhost:8080/",
          "height": 34
        },
        "id": "1X4_R4B5uPoU",
        "outputId": "cc67624f-042b-4e20-98f2-d9cd2aec8795"
      },
      "execution_count": null,
      "outputs": [
        {
          "output_type": "display_data",
          "data": {
            "text/html": [
              "0"
            ],
            "text/markdown": "0",
            "text/latex": "0",
            "text/plain": [
              "[1] 0"
            ]
          },
          "metadata": {}
        }
      ]
    },
    {
      "cell_type": "code",
      "source": [
        "# check null values in testDF\n",
        "sum(is.na(testDF))"
      ],
      "metadata": {
        "colab": {
          "base_uri": "https://localhost:8080/",
          "height": 34
        },
        "id": "XDMY9R16uZB9",
        "outputId": "208d603a-14c1-412e-f002-90aad6bb72a2"
      },
      "execution_count": null,
      "outputs": [
        {
          "output_type": "display_data",
          "data": {
            "text/html": [
              "0"
            ],
            "text/markdown": "0",
            "text/latex": "0",
            "text/plain": [
              "[1] 0"
            ]
          },
          "metadata": {}
        }
      ]
    },
    {
      "cell_type": "markdown",
      "source": [
        "No null value is present, so no need for encoding"
      ],
      "metadata": {
        "id": "FsXQrV02ZaVF"
      }
    },
    {
      "cell_type": "code",
      "source": [
        "# shape of the data frame\n",
        "\n",
        "dim(trainingDF)"
      ],
      "metadata": {
        "colab": {
          "base_uri": "https://localhost:8080/",
          "height": 34
        },
        "id": "OmLkN92SWcGI",
        "outputId": "eadf2f09-cc74-42d0-a1a2-477f688496c5"
      },
      "execution_count": null,
      "outputs": [
        {
          "output_type": "display_data",
          "data": {
            "text/html": [
              "<style>\n",
              ".list-inline {list-style: none; margin:0; padding: 0}\n",
              ".list-inline>li {display: inline-block}\n",
              ".list-inline>li:not(:last-child)::after {content: \"\\00b7\"; padding: 0 .5ex}\n",
              "</style>\n",
              "<ol class=list-inline><li>150302</li><li>5</li></ol>\n"
            ],
            "text/markdown": "1. 150302\n2. 5\n\n\n",
            "text/latex": "\\begin{enumerate*}\n\\item 150302\n\\item 5\n\\end{enumerate*}\n",
            "text/plain": [
              "[1] 150302      5"
            ]
          },
          "metadata": {}
        }
      ]
    },
    {
      "cell_type": "code",
      "source": [
        "# Column names\n",
        "colnames(trainingDF)"
      ],
      "metadata": {
        "colab": {
          "base_uri": "https://localhost:8080/",
          "height": 34
        },
        "id": "fujm4OkLXT7-",
        "outputId": "adf9d56c-07fe-436a-a7c8-a415efa94e06"
      },
      "execution_count": null,
      "outputs": [
        {
          "output_type": "display_data",
          "data": {
            "text/html": [
              "<style>\n",
              ".list-inline {list-style: none; margin:0; padding: 0}\n",
              ".list-inline>li {display: inline-block}\n",
              ".list-inline>li:not(:last-child)::after {content: \"\\00b7\"; padding: 0 .5ex}\n",
              "</style>\n",
              "<ol class=list-inline><li>'Approval'</li><li>'Debt.to.Income.Ratio'</li><li>'FICO.Score'</li><li>'Request.Amount'</li><li>'Interest'</li></ol>\n"
            ],
            "text/markdown": "1. 'Approval'\n2. 'Debt.to.Income.Ratio'\n3. 'FICO.Score'\n4. 'Request.Amount'\n5. 'Interest'\n\n\n",
            "text/latex": "\\begin{enumerate*}\n\\item 'Approval'\n\\item 'Debt.to.Income.Ratio'\n\\item 'FICO.Score'\n\\item 'Request.Amount'\n\\item 'Interest'\n\\end{enumerate*}\n",
            "text/plain": [
              "[1] \"Approval\"             \"Debt.to.Income.Ratio\" \"FICO.Score\"          \n",
              "[4] \"Request.Amount\"       \"Interest\"            "
            ]
          },
          "metadata": {}
        }
      ]
    },
    {
      "cell_type": "code",
      "source": [
        "# Describe the structure of the data frame\n",
        "\n",
        "str(trainingDF)"
      ],
      "metadata": {
        "colab": {
          "base_uri": "https://localhost:8080/"
        },
        "id": "wBUyXKFuXVOh",
        "outputId": "9d043535-4d55-42bd-cefe-c3c48c9e0f0b"
      },
      "execution_count": null,
      "outputs": [
        {
          "output_type": "stream",
          "name": "stdout",
          "text": [
            "'data.frame':\t150302 obs. of  5 variables:\n",
            " $ Approval            : logi  FALSE FALSE FALSE FALSE FALSE FALSE ...\n",
            " $ Debt.to.Income.Ratio: num  0 0 0 0 0 0 0 0 0 0 ...\n",
            " $ FICO.Score          : int  397 403 408 408 411 413 416 421 422 432 ...\n",
            " $ Request.Amount      : int  1000 500 1000 2000 5000 5000 6000 2000 12000 10000 ...\n",
            " $ Interest            : num  450 225 450 900 2250 2250 2700 900 5400 4500 ...\n"
          ]
        }
      ]
    },
    {
      "cell_type": "code",
      "source": [
        "str(testDF)"
      ],
      "metadata": {
        "colab": {
          "base_uri": "https://localhost:8080/"
        },
        "id": "i30lknpct_2Q",
        "outputId": "ff61a08b-7818-4a26-a016-e5a7c3b4fa06"
      },
      "execution_count": null,
      "outputs": [
        {
          "output_type": "stream",
          "name": "stdout",
          "text": [
            "'data.frame':\t49698 obs. of  5 variables:\n",
            " $ Approval            : logi  FALSE FALSE FALSE FALSE FALSE FALSE ...\n",
            " $ Debt.to.Income.Ratio: num  0 0 0 0 0 0 0 0 0 0 ...\n",
            " $ FICO.Score          : int  413 449 454 456 457 457 459 461 461 462 ...\n",
            " $ Request.Amount      : int  2000 1000 6000 1000 1000 8000 8000 500 6000 19000 ...\n",
            " $ Interest            : num  900 450 2700 450 450 3600 3600 225 2700 8550 ...\n"
          ]
        }
      ]
    },
    {
      "cell_type": "code",
      "source": [
        "# Simple Bar Plot to see count of TRUE and False value of Approval class\n",
        "counts <- table(trainingDF$Approval)\n",
        "barplot(counts)"
      ],
      "metadata": {
        "colab": {
          "base_uri": "https://localhost:8080/",
          "height": 437
        },
        "id": "pxiErukMXdR_",
        "outputId": "f32a736c-2494-4b8c-8704-6f0cddd170bc"
      },
      "execution_count": null,
      "outputs": [
        {
          "output_type": "display_data",
          "data": {
            "text/plain": [
              "plot without title"
            ],
            "image/png": "[encoded data removed]"
          },
          "metadata": {
            "image/png": {
              "width": 420,
              "height": 420
            }
          }
        }
      ]
    },
    {
      "cell_type": "markdown",
      "source": [
        "# **Creating cart model**"
      ],
      "metadata": {
        "id": "3lgtiRx1BUB4"
      }
    },
    {
      "cell_type": "code",
      "source": [
        "cart_train1 <- rpart(Approval~., data = trainingDF, cp=.01)"
      ],
      "metadata": {
        "id": "g05SGX-vfUPB"
      },
      "execution_count": null,
      "outputs": []
    },
    {
      "cell_type": "code",
      "source": [
        "summary(cart_train1)"
      ],
      "metadata": {
        "colab": {
          "base_uri": "https://localhost:8080/"
        },
        "id": "JgBo3rLJ_VLy",
        "outputId": "ea0406ac-68de-4b88-8edb-a24272c55cf4"
      },
      "execution_count": null,
      "outputs": [
        {
          "output_type": "stream",
          "name": "stdout",
          "text": [
            "Call:\n",
            "rpart(formula = Approval ~ ., data = trainingDF, cp = 0.01)\n",
            "  n= 150302 \n",
            "\n",
            "          CP nsplit rel error    xerror         xstd\n",
            "1 0.37536172      0 1.0000000 1.0000196 7.841206e-06\n",
            "2 0.12857983      1 0.6246383 0.6250341 2.069850e-03\n",
            "3 0.01133642      2 0.4960584 0.4971816 2.353755e-03\n",
            "4 0.01000000      3 0.4847220 0.4855483 2.338628e-03\n",
            "\n",
            "Variable importance\n",
            "          FICO.Score Debt.to.Income.Ratio             Interest \n",
            "                  71                   24                    3 \n",
            "      Request.Amount \n",
            "                   3 \n",
            "\n",
            "Node number 1: 150302 observations,    complexity param=0.3753617\n",
            "  mean=0.5005655, MSE=0.2499997 \n",
            "  left son=2 (46002 obs) right son=3 (104300 obs)\n",
            "  Primary splits:\n",
            "      FICO.Score           < 659.5 to the left,  improve=0.37536170, (0 missing)\n",
            "      Debt.to.Income.Ratio < 0.305 to the right, improve=0.11958450, (0 missing)\n",
            "      Request.Amount       < 25500 to the right, improve=0.01585947, (0 missing)\n",
            "      Interest             < 11475 to the right, improve=0.01585947, (0 missing)\n",
            "  Surrogate splits:\n",
            "      Request.Amount       < 1500  to the left,  agree=0.696, adj=0.006, (0 split)\n",
            "      Interest             < 675   to the left,  agree=0.696, adj=0.006, (0 split)\n",
            "      Debt.to.Income.Ratio < 1.005 to the right, agree=0.694, adj=0.000, (0 split)\n",
            "\n",
            "Node number 2: 46002 observations\n",
            "  mean=0.03930264, MSE=0.03775794 \n",
            "\n",
            "Node number 3: 104300 observations,    complexity param=0.1285798\n",
            "  mean=0.7040077, MSE=0.2083809 \n",
            "  left son=6 (12873 obs) right son=7 (91427 obs)\n",
            "  Primary splits:\n",
            "      Debt.to.Income.Ratio < 0.305 to the right, improve=0.22229770, (0 missing)\n",
            "      Request.Amount       < 24500 to the right, improve=0.04356445, (0 missing)\n",
            "      Interest             < 11025 to the right, improve=0.04356445, (0 missing)\n",
            "      FICO.Score           < 671.5 to the left,  improve=0.01908885, (0 missing)\n",
            "\n",
            "Node number 6: 12873 observations\n",
            "  mean=0.130428, MSE=0.1134166 \n",
            "\n",
            "Node number 7: 91427 observations,    complexity param=0.01133642\n",
            "  mean=0.7847682, MSE=0.1689071 \n",
            "  left son=14 (10828 obs) right son=15 (80599 obs)\n",
            "  Primary splits:\n",
            "      Request.Amount       < 25500 to the right, improve=0.02758403, (0 missing)\n",
            "      Interest             < 11475 to the right, improve=0.02758403, (0 missing)\n",
            "      Debt.to.Income.Ratio < 0.255 to the right, improve=0.02606069, (0 missing)\n",
            "      FICO.Score           < 671.5 to the left,  improve=0.02065494, (0 missing)\n",
            "  Surrogate splits:\n",
            "      Interest < 11475 to the right, agree=1, adj=1, (0 split)\n",
            "\n",
            "Node number 14: 10828 observations\n",
            "  mean=0.5985408, MSE=0.2402897 \n",
            "\n",
            "Node number 15: 80599 observations\n",
            "  mean=0.8097867, MSE=0.1540322 \n",
            "\n"
          ]
        }
      ]
    },
    {
      "cell_type": "markdown",
      "source": [
        "# Visualize the decision tree for cart model"
      ],
      "metadata": {
        "id": "nIlo_lhE_dTu"
      }
    },
    {
      "cell_type": "code",
      "source": [
        "rpart.plot(cart_train1, box.palette=\"RdBu\", shadow.col=\"gray\", nn=TRUE)"
      ],
      "metadata": {
        "colab": {
          "base_uri": "https://localhost:8080/",
          "height": 437
        },
        "id": "WE_aW_N83P0X",
        "outputId": "3f3aefa0-1ba4-4b1a-e9c1-b257ae56b56d"
      },
      "execution_count": null,
      "outputs": [
        {
          "output_type": "display_data",
          "data": {
            "text/plain": [
              "plot without title"
            ],
            "image/png": "[encoded data removed]"
          },
          "metadata": {
            "image/png": {
              "width": 420,
              "height": 420
            }
          }
        }
      ]
    },
    {
      "cell_type": "markdown",
      "source": [
        "# Confusion matrix for cart model"
      ],
      "metadata": {
        "id": "SL8QjTfd_ojU"
      }
    },
    {
      "cell_type": "code",
      "source": [
        "your_threshold <- 0.5\n",
        "cart_model_prediction <- predict(cart_train1, testDF, type = \"vector\") >= your_threshold\n",
        "confusionMatrix(table(testDF$Approval, cart_model_prediction))\n"
      ],
      "metadata": {
        "colab": {
          "base_uri": "https://localhost:8080/",
          "height": 486
        },
        "id": "3eP_iMSoj7Gd",
        "outputId": "86d40db4-8dba-4402-87ed-e4c2a99e09f5"
      },
      "execution_count": null,
      "outputs": [
        {
          "output_type": "display_data",
          "data": {
            "text/plain": [
              "Confusion Matrix and Statistics\n",
              "\n",
              "       cart_model_prediction\n",
              "        FALSE  TRUE\n",
              "  FALSE 18314  6620\n",
              "  TRUE   1171 23593\n",
              "                                        \n",
              "               Accuracy : 0.8432        \n",
              "                 95% CI : (0.84, 0.8464)\n",
              "    No Information Rate : 0.6079        \n",
              "    P-Value [Acc > NIR] : < 2.2e-16     \n",
              "                                        \n",
              "                  Kappa : 0.6867        \n",
              "                                        \n",
              " Mcnemar's Test P-Value : < 2.2e-16     \n",
              "                                        \n",
              "            Sensitivity : 0.9399        \n",
              "            Specificity : 0.7809        \n",
              "         Pos Pred Value : 0.7345        \n",
              "         Neg Pred Value : 0.9527        \n",
              "             Prevalence : 0.3921        \n",
              "         Detection Rate : 0.3685        \n",
              "   Detection Prevalence : 0.5017        \n",
              "      Balanced Accuracy : 0.8604        \n",
              "                                        \n",
              "       'Positive' Class : FALSE         \n",
              "                                        "
            ]
          },
          "metadata": {}
        }
      ]
    },
    {
      "cell_type": "markdown",
      "source": [
        "# Accuracy for cart model "
      ],
      "metadata": {
        "id": "wcS3A3-3_utt"
      }
    },
    {
      "cell_type": "code",
      "source": [
        "accuracy <- sum( cart_model_prediction == testDF$Approval ) / length( cart_model_prediction )\n",
        "cart_model_accuracy <- accuracy * 100\n",
        "cat('Cart model accuracy is : ',cart_model_accuracy)\n"
      ],
      "metadata": {
        "colab": {
          "base_uri": "https://localhost:8080/"
        },
        "id": "knTZ0s6qqlhj",
        "outputId": "bb73c775-00d7-4f2e-970e-11b34f58b955"
      },
      "execution_count": null,
      "outputs": [
        {
          "output_type": "stream",
          "name": "stdout",
          "text": [
            "Cart model accuracy is :  84.32331"
          ]
        }
      ]
    },
    {
      "cell_type": "markdown",
      "source": [
        "We are getting 84.32 percent of accuracy using cart model."
      ],
      "metadata": {
        "id": "amZuwI4RvEg_"
      }
    },
    {
      "cell_type": "markdown",
      "source": [
        "# **Creating C5.0 model**"
      ],
      "metadata": {
        "id": "5TjU8yurBely"
      }
    },
    {
      "cell_type": "code",
      "source": [
        "c5_model_train1 <- C5.0(x = trainingDF[, -1], y = as.factor(trainingDF$Approval),\n",
        "             control=C5.0Control(minCases=1000))\n",
        "summary(c5_model_train1)"
      ],
      "metadata": {
        "colab": {
          "base_uri": "https://localhost:8080/",
          "height": 954
        },
        "id": "A7LVcKsA_0Bw",
        "outputId": "1aa2e4ea-653c-4bd4-a904-51cc8c7f209f"
      },
      "execution_count": null,
      "outputs": [
        {
          "output_type": "display_data",
          "data": {
            "text/plain": [
              "\n",
              "Call:\n",
              "C5.0.default(x = trainingDF[, -1], y = as.factor(trainingDF$Approval),\n",
              " control = C5.0Control(minCases = 1000))\n",
              "\n",
              "\n",
              "C5.0 [Release 2.07 GPL Edition]  \tTue Apr 19 23:28:28 2022\n",
              "-------------------------------\n",
              "\n",
              "Class specified by attribute `outcome'\n",
              "\n",
              "Read 150302 cases (5 attributes) from undefined.data\n",
              "\n",
              "Decision tree:\n",
              "\n",
              "Debt.to.Income.Ratio > 0.31: FALSE (19884/1160)\n",
              "Debt.to.Income.Ratio <= 0.31:\n",
              ":...FICO.Score <= 655: FALSE (35346/894)\n",
              "    FICO.Score > 655:\n",
              "    :...FICO.Score <= 669:\n",
              "        :...Request.Amount > 23000: FALSE (1547/529)\n",
              "        :   Request.Amount <= 23000:\n",
              "        :   :...FICO.Score <= 661: FALSE (3246/1418)\n",
              "        :       FICO.Score > 661: TRUE (5892/2056)\n",
              "        FICO.Score > 669:\n",
              "        :...Debt.to.Income.Ratio <= 0.25: TRUE (75846/13356)\n",
              "            Debt.to.Income.Ratio > 0.25:\n",
              "            :...Request.Amount <= 25000: TRUE (7112/2658)\n",
              "                Request.Amount > 25000: FALSE (1429/455)\n",
              "\n",
              "\n",
              "Evaluation on training data (150302 cases):\n",
              "\n",
              "\t    Decision Tree   \n",
              "\t  ----------------  \n",
              "\t  Size      Errors  \n",
              "\n",
              "\t     8 22526(15.0%)   <<\n",
              "\n",
              "\n",
              "\t   (a)   (b)    <-classified as\n",
              "\t  ----  ----\n",
              "\t 56996 18070    (a): class FALSE\n",
              "\t  4456 70780    (b): class TRUE\n",
              "\n",
              "\n",
              "\tAttribute usage:\n",
              "\n",
              "\t100.00%\tDebt.to.Income.Ratio\n",
              "\t 86.77%\tFICO.Score\n",
              "\t 12.79%\tRequest.Amount\n",
              "\n",
              "\n",
              "Time: 0.5 secs\n"
            ]
          },
          "metadata": {}
        }
      ]
    },
    {
      "cell_type": "markdown",
      "source": [
        "# Decision Tree for C5.0 model"
      ],
      "metadata": {
        "id": "aC70EIiPABwp"
      }
    },
    {
      "cell_type": "code",
      "source": [
        "plot(c5_model_train1)"
      ],
      "metadata": {
        "colab": {
          "base_uri": "https://localhost:8080/",
          "height": 437
        },
        "id": "0sYLSjFQWwdF",
        "outputId": "b5d7f248-e0d4-4e35-a272-6287d2490c39"
      },
      "execution_count": null,
      "outputs": [
        {
          "output_type": "display_data",
          "data": {
            "text/plain": [
              "plot without title"
            ],
            "image/png": "[encoded data removed]"
          },
          "metadata": {
            "image/png": {
              "width": 420,
              "height": 420
            }
          }
        }
      ]
    },
    {
      "cell_type": "markdown",
      "source": [
        "# Display confusion matrix "
      ],
      "metadata": {
        "id": "HLuOMr7MAHwx"
      }
    },
    {
      "cell_type": "code",
      "source": [
        "c5_model_prediction <- predict(c5_model_train1, testDF, type = \"class\") \n",
        "confusionMatrix(table(testDF$Approval, c5_model_prediction))"
      ],
      "metadata": {
        "colab": {
          "base_uri": "https://localhost:8080/",
          "height": 486
        },
        "id": "UZ3vAdRCZv0b",
        "outputId": "57e0e065-d6c6-40b7-91b0-ff3a6adc95cc"
      },
      "execution_count": null,
      "outputs": [
        {
          "output_type": "display_data",
          "data": {
            "text/plain": [
              "Confusion Matrix and Statistics\n",
              "\n",
              "       c5_model_prediction\n",
              "        FALSE  TRUE\n",
              "  FALSE 18842  6092\n",
              "  TRUE   1504 23260\n",
              "                                         \n",
              "               Accuracy : 0.8472         \n",
              "                 95% CI : (0.844, 0.8503)\n",
              "    No Information Rate : 0.5906         \n",
              "    P-Value [Acc > NIR] : < 2.2e-16      \n",
              "                                         \n",
              "                  Kappa : 0.6945         \n",
              "                                         \n",
              " Mcnemar's Test P-Value : < 2.2e-16      \n",
              "                                         \n",
              "            Sensitivity : 0.9261         \n",
              "            Specificity : 0.7925         \n",
              "         Pos Pred Value : 0.7557         \n",
              "         Neg Pred Value : 0.9393         \n",
              "             Prevalence : 0.4094         \n",
              "         Detection Rate : 0.3791         \n",
              "   Detection Prevalence : 0.5017         \n",
              "      Balanced Accuracy : 0.8593         \n",
              "                                         \n",
              "       'Positive' Class : FALSE          \n",
              "                                         "
            ]
          },
          "metadata": {}
        }
      ]
    },
    {
      "cell_type": "markdown",
      "source": [
        "# Accuracy for c5.0 model"
      ],
      "metadata": {
        "id": "D0BupVNtAMrq"
      }
    },
    {
      "cell_type": "code",
      "source": [
        "accuracy <- sum( c5_model_prediction == testDF$Approval ) / length( c5_model_prediction )\n",
        "c5_model_accuracy <- accuracy * 100\n",
        "cat('C5 model accuracy is : ',c5_model_accuracy)"
      ],
      "metadata": {
        "colab": {
          "base_uri": "https://localhost:8080/"
        },
        "id": "7NaeLcsapvZr",
        "outputId": "d85dfdf5-2912-4a85-fc66-efd08c4d8473"
      },
      "execution_count": null,
      "outputs": [
        {
          "output_type": "stream",
          "name": "stdout",
          "text": [
            "C5 model accuracy is :  84.71568"
          ]
        }
      ]
    },
    {
      "cell_type": "markdown",
      "source": [
        "We are getting 84.71 percent of accuracy using cart model."
      ],
      "metadata": {
        "id": "_-bYyCqiv5Y8"
      }
    },
    {
      "cell_type": "markdown",
      "source": [
        "# Compare model\n",
        "\n"
      ],
      "metadata": {
        "id": "luW89FtOlY0C"
      }
    },
    {
      "cell_type": "code",
      "source": [
        "value1 <- paste(\"CART\", format(round(cart_model_accuracy, 2), nsmall = 2), sep=\"=\")\n",
        "value2 <- paste(\"C5.0\", format(round(c5_model_accuracy, 2), nsmall = 2), sep=\"=\")\n",
        "labels <- c(value1,value2)\n",
        "accuracy_model = c(cart_model_accuracy, c5_model_accuracy)"
      ],
      "metadata": {
        "id": "jQMH5ESvlZq6"
      },
      "execution_count": 24,
      "outputs": []
    },
    {
      "cell_type": "code",
      "source": [
        "barplot(accuracy_model, main = \"Model accuracy\",ylab = \"count\", xlab = 'Models',names.arg = labels,col=\"blue\")"
      ],
      "metadata": {
        "colab": {
          "base_uri": "https://localhost:8080/",
          "height": 437
        },
        "id": "59V8WQ8WlaOF",
        "outputId": "5c2d0cff-36f0-49f0-8aec-769be4f05299"
      },
      "execution_count": 25,
      "outputs": [
        {
          "output_type": "display_data",
          "data": {
            "text/plain": [
              "Plot with title “Model accuracy”"
            ],
            "image/png": "[encoded data removed]"
          },
          "metadata": {
            "image/png": {
              "width": 420,
              "height": 420
            }
          }
        }
      ]
    },
    {
      "cell_type": "markdown",
      "source": [
        ""
      ],
      "metadata": {
        "id": "P3r0arCk-oHy"
      }
    }
  ]
}